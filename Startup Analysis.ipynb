{
 "cells": [
  {
   "cell_type": "code",
   "execution_count": 926,
   "metadata": {},
   "outputs": [
    {
     "data": {
      "text/html": [
       "        <script type=\"text/javascript\">\n",
       "        window.PlotlyConfig = {MathJaxConfig: 'local'};\n",
       "        if (window.MathJax) {MathJax.Hub.Config({SVG: {font: \"STIX-Web\"}});}\n",
       "        if (typeof require !== 'undefined') {\n",
       "        require.undef(\"plotly\");\n",
       "        requirejs.config({\n",
       "            paths: {\n",
       "                'plotly': ['https://cdn.plot.ly/plotly-latest.min']\n",
       "            }\n",
       "        });\n",
       "        require(['plotly'], function(Plotly) {\n",
       "            window._Plotly = Plotly;\n",
       "        });\n",
       "        }\n",
       "        </script>\n",
       "        "
      ]
     },
     "metadata": {},
     "output_type": "display_data"
    }
   ],
   "source": [
    "import pandas as pd \n",
    "import numpy as np\n",
    "import matplotlib.pyplot as plt\n",
    "import seaborn as sns\n",
    "color = sns.color_palette()\n",
    "\n",
    "import plotly.offline as py\n",
    "py.init_notebook_mode(connected=True)\n",
    "import plotly.graph_objs as go\n",
    "%matplotlib inline\n",
    "from IPython.display import HTML\n",
    "import re"
   ]
  },
  {
   "cell_type": "markdown",
   "metadata": {},
   "source": [
    "# Introduction\n",
    "This case study gives the insights of the funding raised by various Indian startups and how growth changed with several factors. The aim of the study is to get a descriptive overview and a relationship pattern of funding and growth of newly launched startups specifically in EdTech domain. Another important point to understand how funding changes with time is an important aspect. Possible area of interests would be – (Funding ecosystem and time relation, cities as a important factor, which industries, important investors). Dataset we are using contains information of funding of startups from January 2015 to May 2020.The amount invested is in USD. Aggregation of data w.r.t cities, investors, funding type etc. is required to get an optimized result. Here we have done major preprocessing of data and overcome problem of missing data and uncertain distributions. Also, Visualizations are done to find the anomalies and mining patterns from data. It seems to be some cities showing some abnormal behavior when it comes to funding."
   ]
  },
  {
   "cell_type": "code",
   "execution_count": 927,
   "metadata": {},
   "outputs": [
    {
     "data": {
      "text/html": [
       "<style type=\"text/css\">\n",
       "table.dataframe td, table.dataframe th {\n",
       "    border: 2px  black solid !important;\n",
       "  color: black !important;\n",
       "}\n",
       "</style>\n"
      ],
      "text/plain": [
       "<IPython.core.display.HTML object>"
      ]
     },
     "metadata": {},
     "output_type": "display_data"
    }
   ],
   "source": [
    "%%HTML\n",
    "<style type=\"text/css\">\n",
    "table.dataframe td, table.dataframe th {\n",
    "    border: 2px  black solid !important;\n",
    "  color: black !important;\n",
    "}\n",
    "</style>"
   ]
  },
  {
   "cell_type": "code",
   "execution_count": 928,
   "metadata": {},
   "outputs": [],
   "source": [
    "data = pd.read_excel('comp2.xlsx')\n",
    "df.columns\n",
    "df=data.drop(['Unnamed: 0'], axis = 1)\n"
   ]
  },
  {
   "cell_type": "markdown",
   "metadata": {},
   "source": [
    "Here's a sample view of our dataset, Displaying the first 20 rows:"
   ]
  },
  {
   "cell_type": "code",
   "execution_count": 929,
   "metadata": {},
   "outputs": [
    {
     "data": {
      "text/html": [
       "<div>\n",
       "<style scoped>\n",
       "    .dataframe tbody tr th:only-of-type {\n",
       "        vertical-align: middle;\n",
       "    }\n",
       "\n",
       "    .dataframe tbody tr th {\n",
       "        vertical-align: top;\n",
       "    }\n",
       "\n",
       "    .dataframe thead th {\n",
       "        text-align: right;\n",
       "    }\n",
       "</style>\n",
       "<table border=\"1\" class=\"dataframe\">\n",
       "  <thead>\n",
       "    <tr style=\"text-align: right;\">\n",
       "      <th></th>\n",
       "      <th>S.No</th>\n",
       "      <th>Date</th>\n",
       "      <th>Name</th>\n",
       "      <th>Industry</th>\n",
       "      <th>SubVertical</th>\n",
       "      <th>City</th>\n",
       "      <th>Investor</th>\n",
       "      <th>Type</th>\n",
       "      <th>AmountInUSD</th>\n",
       "    </tr>\n",
       "  </thead>\n",
       "  <tbody>\n",
       "    <tr>\n",
       "      <th>0</th>\n",
       "      <td>1</td>\n",
       "      <td>09/01/2020</td>\n",
       "      <td>Byju’s</td>\n",
       "      <td>E-Tech</td>\n",
       "      <td>E-learning</td>\n",
       "      <td>Bengaluru</td>\n",
       "      <td>Tiger Global Management</td>\n",
       "      <td>Private Equity Round</td>\n",
       "      <td>20,00,00,000</td>\n",
       "    </tr>\n",
       "    <tr>\n",
       "      <th>1</th>\n",
       "      <td>2</td>\n",
       "      <td>13/01/2020</td>\n",
       "      <td>Shuttl</td>\n",
       "      <td>Transportation</td>\n",
       "      <td>App based shuttle service</td>\n",
       "      <td>Gurgaon</td>\n",
       "      <td>Susquehanna Growth Equity</td>\n",
       "      <td>Series C</td>\n",
       "      <td>80,48,394</td>\n",
       "    </tr>\n",
       "    <tr>\n",
       "      <th>2</th>\n",
       "      <td>3</td>\n",
       "      <td>09/01/2020</td>\n",
       "      <td>Mamaearth</td>\n",
       "      <td>E-commerce</td>\n",
       "      <td>Retailer of baby and toddler products</td>\n",
       "      <td>Bengaluru</td>\n",
       "      <td>Sequoia Capital India</td>\n",
       "      <td>Series B</td>\n",
       "      <td>1,83,58,860</td>\n",
       "    </tr>\n",
       "    <tr>\n",
       "      <th>3</th>\n",
       "      <td>4</td>\n",
       "      <td>02/01/2020</td>\n",
       "      <td>https://www.wealthbucket.in/</td>\n",
       "      <td>FinTech</td>\n",
       "      <td>Online Investment</td>\n",
       "      <td>New Delhi</td>\n",
       "      <td>Vinod Khatumal</td>\n",
       "      <td>Pre-series A</td>\n",
       "      <td>30,00,000</td>\n",
       "    </tr>\n",
       "    <tr>\n",
       "      <th>4</th>\n",
       "      <td>5</td>\n",
       "      <td>02/01/2020</td>\n",
       "      <td>Fashor</td>\n",
       "      <td>Fashion and Apparel</td>\n",
       "      <td>Embroiled Clothes For Women</td>\n",
       "      <td>Mumbai</td>\n",
       "      <td>Sprout Venture Partners</td>\n",
       "      <td>Seed Round</td>\n",
       "      <td>18,00,000</td>\n",
       "    </tr>\n",
       "    <tr>\n",
       "      <th>5</th>\n",
       "      <td>6</td>\n",
       "      <td>13/01/2020</td>\n",
       "      <td>Pando</td>\n",
       "      <td>Logistics</td>\n",
       "      <td>Open-market, freight management platform</td>\n",
       "      <td>Chennai</td>\n",
       "      <td>Chiratae Ventures</td>\n",
       "      <td>Series A</td>\n",
       "      <td>90,00,000</td>\n",
       "    </tr>\n",
       "    <tr>\n",
       "      <th>6</th>\n",
       "      <td>7</td>\n",
       "      <td>10/01/2020</td>\n",
       "      <td>Zomato</td>\n",
       "      <td>Hospitality</td>\n",
       "      <td>Online Food Delivery Platform</td>\n",
       "      <td>Gurgaon</td>\n",
       "      <td>Ant Financial</td>\n",
       "      <td>Private Equity Round</td>\n",
       "      <td>15,00,00,000</td>\n",
       "    </tr>\n",
       "    <tr>\n",
       "      <th>7</th>\n",
       "      <td>8</td>\n",
       "      <td>12/12/2019</td>\n",
       "      <td>Ecozen</td>\n",
       "      <td>Technology</td>\n",
       "      <td>Agritech</td>\n",
       "      <td>Pune</td>\n",
       "      <td>Sathguru Catalyzer Advisors</td>\n",
       "      <td>Series A</td>\n",
       "      <td>60,00,000</td>\n",
       "    </tr>\n",
       "    <tr>\n",
       "      <th>8</th>\n",
       "      <td>9</td>\n",
       "      <td>06/12/2019</td>\n",
       "      <td>CarDekho</td>\n",
       "      <td>E-Commerce</td>\n",
       "      <td>Automobile</td>\n",
       "      <td>Gurgaon</td>\n",
       "      <td>Ping An Global Voyager Fund</td>\n",
       "      <td>Series D</td>\n",
       "      <td>7,00,00,000</td>\n",
       "    </tr>\n",
       "    <tr>\n",
       "      <th>9</th>\n",
       "      <td>10</td>\n",
       "      <td>03/12/2019</td>\n",
       "      <td>Dhruva Space</td>\n",
       "      <td>Aerospace</td>\n",
       "      <td>Satellite Communication</td>\n",
       "      <td>Bengaluru</td>\n",
       "      <td>Mumbai Angels, Ravikanth Reddy</td>\n",
       "      <td>Seed</td>\n",
       "      <td>5,00,00,000</td>\n",
       "    </tr>\n",
       "    <tr>\n",
       "      <th>10</th>\n",
       "      <td>11</td>\n",
       "      <td>13/12/2019</td>\n",
       "      <td>Rivigo</td>\n",
       "      <td>Technology</td>\n",
       "      <td>Logistics Services and Solutions</td>\n",
       "      <td>Gurgaon</td>\n",
       "      <td>SAIF Partners, Spring Canter Investment Ltd.</td>\n",
       "      <td>Series F</td>\n",
       "      <td>2,00,00,000</td>\n",
       "    </tr>\n",
       "    <tr>\n",
       "      <th>11</th>\n",
       "      <td>12</td>\n",
       "      <td>17/12/2019</td>\n",
       "      <td>Healthians</td>\n",
       "      <td>B2B-focused foodtech startup</td>\n",
       "      <td>Food Solutions For Corporate</td>\n",
       "      <td>Bengaluru</td>\n",
       "      <td>Paytm, NPTK, Sabre Partners and Neoplux</td>\n",
       "      <td>Series C</td>\n",
       "      <td>1,20,00,000</td>\n",
       "    </tr>\n",
       "    <tr>\n",
       "      <th>12</th>\n",
       "      <td>13</td>\n",
       "      <td>16/12/2019</td>\n",
       "      <td>Licious</td>\n",
       "      <td>E-Commerce</td>\n",
       "      <td>Online Meat And Seafood Ordering Startup</td>\n",
       "      <td>Bengaluru</td>\n",
       "      <td>Vertex Growth Fund</td>\n",
       "      <td>Series E</td>\n",
       "      <td>3,00,00,000</td>\n",
       "    </tr>\n",
       "    <tr>\n",
       "      <th>13</th>\n",
       "      <td>14</td>\n",
       "      <td>16/12/2019</td>\n",
       "      <td>InCred</td>\n",
       "      <td>Finance</td>\n",
       "      <td>Non-Banking Financial Company</td>\n",
       "      <td>Mumbai</td>\n",
       "      <td>NaN</td>\n",
       "      <td>Debt Funding</td>\n",
       "      <td>59,00,000</td>\n",
       "    </tr>\n",
       "    <tr>\n",
       "      <th>14</th>\n",
       "      <td>15</td>\n",
       "      <td>14/12/2019</td>\n",
       "      <td>Trell</td>\n",
       "      <td>Video</td>\n",
       "      <td>Experience Discovery Platform</td>\n",
       "      <td>Bengaluru</td>\n",
       "      <td>Ruizheng Investment</td>\n",
       "      <td>Seed Round</td>\n",
       "      <td>20,00,000</td>\n",
       "    </tr>\n",
       "    <tr>\n",
       "      <th>15</th>\n",
       "      <td>16</td>\n",
       "      <td>11/12/2019</td>\n",
       "      <td>Rein Games</td>\n",
       "      <td>Gaming</td>\n",
       "      <td>Real money based gaming startup</td>\n",
       "      <td>Noida</td>\n",
       "      <td>Manipal Education and Medical Group (MEMG)</td>\n",
       "      <td>Seed Round</td>\n",
       "      <td>5,00,00,000</td>\n",
       "    </tr>\n",
       "    <tr>\n",
       "      <th>16</th>\n",
       "      <td>17</td>\n",
       "      <td>20/12/2019</td>\n",
       "      <td>Lenskart.com</td>\n",
       "      <td>E-Commerce</td>\n",
       "      <td>Online Eyewear Shopping Portal</td>\n",
       "      <td>Faridabad</td>\n",
       "      <td>SoftBank Vision Fund</td>\n",
       "      <td>Series G</td>\n",
       "      <td>23,10,00,000</td>\n",
       "    </tr>\n",
       "    <tr>\n",
       "      <th>17</th>\n",
       "      <td>18</td>\n",
       "      <td>13/11/2019</td>\n",
       "      <td>Freshworks</td>\n",
       "      <td>Software</td>\n",
       "      <td>Business and customer engagement tools</td>\n",
       "      <td>San Francisco</td>\n",
       "      <td>Sequoia, CapitalG, Accel</td>\n",
       "      <td>Series H</td>\n",
       "      <td>15,00,00,000</td>\n",
       "    </tr>\n",
       "    <tr>\n",
       "      <th>18</th>\n",
       "      <td>19</td>\n",
       "      <td>14/11/2019</td>\n",
       "      <td>Misters</td>\n",
       "      <td>Health and wellness</td>\n",
       "      <td>Men's Health and Wellness brand</td>\n",
       "      <td>Gurgaon</td>\n",
       "      <td>Sauce.vc, Rainforest Ventures</td>\n",
       "      <td>Series B</td>\n",
       "      <td>4,86,000</td>\n",
       "    </tr>\n",
       "    <tr>\n",
       "      <th>19</th>\n",
       "      <td>20</td>\n",
       "      <td>13/11/2019</td>\n",
       "      <td>Sunstone Eduversity Pvt. Ltd</td>\n",
       "      <td>Education</td>\n",
       "      <td>Elearning</td>\n",
       "      <td>Gurgaon</td>\n",
       "      <td>Prime Venture Partners, LetsVenture, PS1 Ventu...</td>\n",
       "      <td>Seed</td>\n",
       "      <td>15,00,000</td>\n",
       "    </tr>\n",
       "  </tbody>\n",
       "</table>\n",
       "</div>"
      ],
      "text/plain": [
       "    S.No        Date                          Name  \\\n",
       "0      1  09/01/2020                        Byju’s   \n",
       "1      2  13/01/2020                        Shuttl   \n",
       "2      3  09/01/2020                     Mamaearth   \n",
       "3      4  02/01/2020  https://www.wealthbucket.in/   \n",
       "4      5  02/01/2020                        Fashor   \n",
       "5      6  13/01/2020                         Pando   \n",
       "6      7  10/01/2020                        Zomato   \n",
       "7      8  12/12/2019                        Ecozen   \n",
       "8      9  06/12/2019                      CarDekho   \n",
       "9     10  03/12/2019                  Dhruva Space   \n",
       "10    11  13/12/2019                        Rivigo   \n",
       "11    12  17/12/2019                    Healthians   \n",
       "12    13  16/12/2019                       Licious   \n",
       "13    14  16/12/2019                        InCred   \n",
       "14    15  14/12/2019                         Trell   \n",
       "15    16  11/12/2019                    Rein Games   \n",
       "16    17  20/12/2019                  Lenskart.com   \n",
       "17    18  13/11/2019                    Freshworks   \n",
       "18    19  14/11/2019                       Misters   \n",
       "19    20  13/11/2019  Sunstone Eduversity Pvt. Ltd   \n",
       "\n",
       "                        Industry                               SubVertical  \\\n",
       "0                         E-Tech                                E-learning   \n",
       "1                 Transportation                 App based shuttle service   \n",
       "2                     E-commerce     Retailer of baby and toddler products   \n",
       "3                        FinTech                         Online Investment   \n",
       "4            Fashion and Apparel               Embroiled Clothes For Women   \n",
       "5                      Logistics  Open-market, freight management platform   \n",
       "6                    Hospitality             Online Food Delivery Platform   \n",
       "7                     Technology                                  Agritech   \n",
       "8                     E-Commerce                                Automobile   \n",
       "9                      Aerospace                   Satellite Communication   \n",
       "10                    Technology          Logistics Services and Solutions   \n",
       "11  B2B-focused foodtech startup              Food Solutions For Corporate   \n",
       "12                    E-Commerce  Online Meat And Seafood Ordering Startup   \n",
       "13                       Finance             Non-Banking Financial Company   \n",
       "14                         Video             Experience Discovery Platform   \n",
       "15                        Gaming           Real money based gaming startup   \n",
       "16                    E-Commerce            Online Eyewear Shopping Portal   \n",
       "17                      Software    Business and customer engagement tools   \n",
       "18           Health and wellness           Men's Health and Wellness brand   \n",
       "19                     Education                                 Elearning   \n",
       "\n",
       "             City                                           Investor  \\\n",
       "0       Bengaluru                            Tiger Global Management   \n",
       "1         Gurgaon                          Susquehanna Growth Equity   \n",
       "2       Bengaluru                              Sequoia Capital India   \n",
       "3       New Delhi                                     Vinod Khatumal   \n",
       "4          Mumbai                            Sprout Venture Partners   \n",
       "5         Chennai                                  Chiratae Ventures   \n",
       "6         Gurgaon                                      Ant Financial   \n",
       "7            Pune                        Sathguru Catalyzer Advisors   \n",
       "8         Gurgaon                        Ping An Global Voyager Fund   \n",
       "9       Bengaluru                     Mumbai Angels, Ravikanth Reddy   \n",
       "10        Gurgaon       SAIF Partners, Spring Canter Investment Ltd.   \n",
       "11      Bengaluru            Paytm, NPTK, Sabre Partners and Neoplux   \n",
       "12      Bengaluru                                 Vertex Growth Fund   \n",
       "13         Mumbai                                                NaN   \n",
       "14      Bengaluru                                Ruizheng Investment   \n",
       "15          Noida         Manipal Education and Medical Group (MEMG)   \n",
       "16      Faridabad                               SoftBank Vision Fund   \n",
       "17  San Francisco                           Sequoia, CapitalG, Accel   \n",
       "18        Gurgaon                      Sauce.vc, Rainforest Ventures   \n",
       "19        Gurgaon  Prime Venture Partners, LetsVenture, PS1 Ventu...   \n",
       "\n",
       "                    Type   AmountInUSD  \n",
       "0   Private Equity Round  20,00,00,000  \n",
       "1               Series C     80,48,394  \n",
       "2               Series B   1,83,58,860  \n",
       "3           Pre-series A     30,00,000  \n",
       "4             Seed Round     18,00,000  \n",
       "5               Series A     90,00,000  \n",
       "6   Private Equity Round  15,00,00,000  \n",
       "7               Series A     60,00,000  \n",
       "8               Series D   7,00,00,000  \n",
       "9                   Seed   5,00,00,000  \n",
       "10              Series F   2,00,00,000  \n",
       "11              Series C   1,20,00,000  \n",
       "12              Series E   3,00,00,000  \n",
       "13          Debt Funding     59,00,000  \n",
       "14            Seed Round     20,00,000  \n",
       "15            Seed Round   5,00,00,000  \n",
       "16              Series G  23,10,00,000  \n",
       "17              Series H  15,00,00,000  \n",
       "18              Series B      4,86,000  \n",
       "19                  Seed     15,00,000  "
      ]
     },
     "execution_count": 929,
     "metadata": {},
     "output_type": "execute_result"
    }
   ],
   "source": [
    "df.rename(columns={'Amount in USD':'AmountInUSD',\n",
    "                          'Investors Name':'Investor',\n",
    "                          'City  Location':'City',\n",
    "                   'Industry Vertical':'Industry',\n",
    "                  'InvestmentnType':'Type',\n",
    "                  'Startup Name':'Name',\n",
    "                  'Date dd/mm/yyyy':'Date',\n",
    "                  'Sr No':'S.No'}, \n",
    "                 inplace=True)\n",
    "\n",
    "\n",
    "df.head(20)"
   ]
  },
  {
   "cell_type": "code",
   "execution_count": 930,
   "metadata": {},
   "outputs": [],
   "source": [
    "df['Type'].fillna(method='bfill',inplace=True)#backward filling of null values"
   ]
  },
  {
   "cell_type": "code",
   "execution_count": 931,
   "metadata": {},
   "outputs": [],
   "source": [
    "df.loc[ 192, 'Date'] = '05/07/2018' \n",
    "df.loc[2571, 'Date'] = '01/07/2015' \n",
    "df.loc[2606, 'Date'] = '10/07/2015'\n",
    "df.loc[2775, 'Date'] = '12/05/2015' \n",
    "df.loc[2776, 'Date'] = '12/05/2015'\n",
    "df.loc[2831, 'Date'] = '13/04/2015' \n",
    "df.loc[3011, 'Date'] = '15/01/2015'\n",
    "df.loc[3029, 'Date'] = '22/01/2015'\n",
    "date_expand = df['Date'].str.extract(r'(\\d{2})/?(\\d{2})/?(\\d{4})')\n",
    "df['Year'] = date_expand[2]\n",
    "df['Month'] = date_expand[1]\n",
    "df['NewDate'] = date_expand[0]+'/'+date_expand[1]+'/'+date_expand[2]"
   ]
  },
  {
   "cell_type": "code",
   "execution_count": 932,
   "metadata": {},
   "outputs": [],
   "source": [
    "df['Date'] = pd.to_datetime(df['Date'])#['Date']"
   ]
  },
  {
   "cell_type": "code",
   "execution_count": 979,
   "metadata": {},
   "outputs": [],
   "source": [
    "df['City']=df['City'].fillna(value='NotSpecific')\n",
    "df['Investor']=df['Investor'].fillna(value='Unknown')"
   ]
  },
  {
   "cell_type": "code",
   "execution_count": 934,
   "metadata": {},
   "outputs": [],
   "source": [
    "df['Industry']=df['Industry'].fillna(value='Other')"
   ]
  },
  {
   "cell_type": "code",
   "execution_count": 935,
   "metadata": {},
   "outputs": [],
   "source": [
    "df.loc[df['Industry'].isin([\"E-Tech\", \"Education\", \"EdTech\",\"EduTech\", \"Edutech\",\"Edtech\",\"Ed-Tech\",\"Online Education Platform\"]), 'Industry'] = 'EdTech'\n",
    "df.loc[df['Industry'].isin([\"ECommerce\", \"E-Commerce\", \"E-commerce\", \"Ecommerce\"]), 'Industry'] = 'eCommerce'\n",
    "df.loc[df['Industry'].isin([\"Fin-Tech\"]), 'Industry'] = 'FinTech'"
   ]
  },
  {
   "cell_type": "code",
   "execution_count": 936,
   "metadata": {},
   "outputs": [],
   "source": [
    "df.loc[df['Investor'].isin(['Undisclosed investors', 'Undisclosed', 'undisclosed investors', 'Undisclosed Investor', 'Undisclosed investors']), 'Investor'] = 'Undisclosed Investors'\n",
    "df.loc[df['Investor'] == \"\\\\\\\\xc2\\\\\\\\xa0Tiger Global\", 'Investor'] = 'Tiger Global'\n",
    "df.loc[df['Investor'] == \"\\\\\\\\xc2\\\\\\\\xa0IndianIdeas.com\", 'Investor'] = 'IndianIdeas'\n",
    "df.loc[df['Investor'] == \"\\\\\\\\xc2\\\\\\\\xa0IvyCap Ventures, Accel Partners, Dragoneer Investment Group\", 'Investor'] = 'IvyCap Ventures, Accel Partners, Dragoneer Investment Group'\n",
    "df.loc[df['Investor'] == \"\\\\\\\\xc2\\\\\\\\xa0Goldman Sachs\", 'Investor'] = 'Goldman Sachs'"
   ]
  },
  {
   "cell_type": "code",
   "execution_count": 937,
   "metadata": {},
   "outputs": [],
   "source": [
    "df.loc[df['AmountInUSD'].isin(['undisclosed', 'unknown', 'Undisclosed']), 'AmountInUSD'] = 'nan'\n",
    "\n",
    "df['AmountInUSD'] = df['AmountInUSD'].astype(str)\n",
    "df['AmountInUSD'] = df['AmountInUSD'].apply(lambda x : re.sub(\"[^0-9]\", \"\", x))\n",
    "df.loc[df['AmountInUSD']=='', 'AmountInUSD'] = 0 #'nan' # replace with average of funding provided that months \n",
    "df['AmountInUSD'] = df['AmountInUSD'].astype(float)"
   ]
  },
  {
   "cell_type": "code",
   "execution_count": 938,
   "metadata": {},
   "outputs": [],
   "source": [
    "df.at[2602,\"Name\"]= \"News Inshorts\"\n",
    "df.at[2602,\"Industry\"]= \"News Application\"\n",
    "df.at[2602,\"City\"]= \"Noida\"\n",
    "df.at[2603,\"Name\"]= \"Bluestone\"\n",
    "df.at[2603,\"Industry\"]= \"Online Jewellery\"\n",
    "df.at[2603,\"City\"]= \"Bangalore\"\n",
    "df.at[2608,\"Name\"]= \"Loyalty Rewards\"\n",
    "df.at[2608,\"Industry\"]= \"Premium Rewards\"\n",
    "df.at[2608,\"City\"]= \"Mumbai\"\n",
    "df.at[2610,\"Name\"]= \"Mamagoto\"\n",
    "df.at[2610,\"Industry\"]= \"Restaurant Chain\"\n",
    "df.at[2610,\"City\"]= \"New Delhi\"\n",
    "df.at[2648,\"Name\"]= \"Flipkart\"\n",
    "df.at[748,\"Name\"]= \"Ola Cabs\"\n",
    "df.at[791,\"Name\"]= \"Ola Cabs\"\n",
    "df.at[924,\"Name\"]= \"Ola Cabs\"\n",
    "df.at[2244,\"Name\"]= \"Ola Cabs\""
   ]
  },
  {
   "cell_type": "code",
   "execution_count": 939,
   "metadata": {},
   "outputs": [
    {
     "name": "stdout",
     "output_type": "stream",
     "text": [
      "Maximum funding to a Startup is :  3900000000.0\n"
     ]
    }
   ],
   "source": [
    "print(\"Maximum funding to a Startup is : \",df[\"AmountInUSD\"].dropna().sort_values().max())"
   ]
  },
  {
   "cell_type": "code",
   "execution_count": 940,
   "metadata": {},
   "outputs": [
    {
     "name": "stdout",
     "output_type": "stream",
     "text": [
      "0                       Byju's\n",
      "30    Furtados School of Music\n",
      "Name: Name, dtype: object\n",
      "Most Funded Startup of India is with $ 200000000.0\n"
     ]
    }
   ],
   "source": [
    "top_20 = df.nlargest(20, 'AmountInUSD')\n",
    "max_funded_amount = top_10['AmountInUSD'].max()\n",
    "top_funded = top_10[top_10.AmountInUSD == max_funded_amount]\n",
    "top_startup_name = top_funded.loc[:,'Name']\n",
    "print(top_startup_name)\n",
    "print(\"Most Funded Startup of India is with $\" ,top_10['AmountInUSD'].max())"
   ]
  },
  {
   "cell_type": "code",
   "execution_count": 941,
   "metadata": {},
   "outputs": [
    {
     "data": {
      "text/html": [
       "<div>\n",
       "<style scoped>\n",
       "    .dataframe tbody tr th:only-of-type {\n",
       "        vertical-align: middle;\n",
       "    }\n",
       "\n",
       "    .dataframe tbody tr th {\n",
       "        vertical-align: top;\n",
       "    }\n",
       "\n",
       "    .dataframe thead th {\n",
       "        text-align: right;\n",
       "    }\n",
       "</style>\n",
       "<table border=\"1\" class=\"dataframe\">\n",
       "  <thead>\n",
       "    <tr style=\"text-align: right;\">\n",
       "      <th></th>\n",
       "      <th>S.No</th>\n",
       "      <th>Date</th>\n",
       "      <th>Name</th>\n",
       "      <th>Industry</th>\n",
       "      <th>SubVertical</th>\n",
       "      <th>City</th>\n",
       "      <th>Investor</th>\n",
       "      <th>Type</th>\n",
       "      <th>AmountInUSD</th>\n",
       "      <th>Year</th>\n",
       "      <th>Month</th>\n",
       "      <th>NewDate</th>\n",
       "    </tr>\n",
       "  </thead>\n",
       "  <tbody>\n",
       "    <tr>\n",
       "      <th>60</th>\n",
       "      <td>61</td>\n",
       "      <td>2019-08-27</td>\n",
       "      <td>Rapido Bike Taxi</td>\n",
       "      <td>Transportation</td>\n",
       "      <td>Bike Taxi</td>\n",
       "      <td>Bengaluru</td>\n",
       "      <td>Westbridge Capital</td>\n",
       "      <td>Series B</td>\n",
       "      <td>3.900000e+09</td>\n",
       "      <td>2019</td>\n",
       "      <td>08</td>\n",
       "      <td>27/08/2019</td>\n",
       "    </tr>\n",
       "    <tr>\n",
       "      <th>651</th>\n",
       "      <td>652</td>\n",
       "      <td>2017-11-08</td>\n",
       "      <td>Flipkart</td>\n",
       "      <td>eCommerce</td>\n",
       "      <td>Online Marketplace</td>\n",
       "      <td>Bangalore</td>\n",
       "      <td>Softbank</td>\n",
       "      <td>Private Equity</td>\n",
       "      <td>2.500000e+09</td>\n",
       "      <td>2017</td>\n",
       "      <td>08</td>\n",
       "      <td>11/08/2017</td>\n",
       "    </tr>\n",
       "    <tr>\n",
       "      <th>2602</th>\n",
       "      <td>2603</td>\n",
       "      <td>2015-09-07</td>\n",
       "      <td>News Inshorts</td>\n",
       "      <td>News Application</td>\n",
       "      <td>NaN</td>\n",
       "      <td>Noida</td>\n",
       "      <td>Tiger Global</td>\n",
       "      <td>Private Equity</td>\n",
       "      <td>2.020000e+09</td>\n",
       "      <td>2015</td>\n",
       "      <td>07</td>\n",
       "      <td>09/07/2015</td>\n",
       "    </tr>\n",
       "    <tr>\n",
       "      <th>2608</th>\n",
       "      <td>2609</td>\n",
       "      <td>2015-10-07</td>\n",
       "      <td>Loyalty Rewards</td>\n",
       "      <td>Premium Rewards</td>\n",
       "      <td>NaN</td>\n",
       "      <td>Mumbai</td>\n",
       "      <td>IndianIdeas</td>\n",
       "      <td>Private Equity</td>\n",
       "      <td>2.019350e+09</td>\n",
       "      <td>2015</td>\n",
       "      <td>07</td>\n",
       "      <td>10/07/2015</td>\n",
       "    </tr>\n",
       "    <tr>\n",
       "      <th>2603</th>\n",
       "      <td>2604</td>\n",
       "      <td>2015-09-07</td>\n",
       "      <td>Bluestone</td>\n",
       "      <td>Online Jewellery</td>\n",
       "      <td>NaN</td>\n",
       "      <td>Bangalore</td>\n",
       "      <td>IvyCap Ventures, Accel Partners, Dragoneer Inv...</td>\n",
       "      <td>Private Equity</td>\n",
       "      <td>2.016200e+09</td>\n",
       "      <td>2015</td>\n",
       "      <td>07</td>\n",
       "      <td>09/07/2015</td>\n",
       "    </tr>\n",
       "    <tr>\n",
       "      <th>2610</th>\n",
       "      <td>2611</td>\n",
       "      <td>2015-07-13</td>\n",
       "      <td>Mamagoto</td>\n",
       "      <td>Restaurant Chain</td>\n",
       "      <td>NaN</td>\n",
       "      <td>New Delhi</td>\n",
       "      <td>Goldman Sachs</td>\n",
       "      <td>Private Equity</td>\n",
       "      <td>2.010000e+09</td>\n",
       "      <td>2015</td>\n",
       "      <td>07</td>\n",
       "      <td>13/07/2015</td>\n",
       "    </tr>\n",
       "    <tr>\n",
       "      <th>83</th>\n",
       "      <td>84</td>\n",
       "      <td>2019-06-06</td>\n",
       "      <td>Pratilipi</td>\n",
       "      <td>Digital Media</td>\n",
       "      <td>E-Books</td>\n",
       "      <td>Bengaluru</td>\n",
       "      <td>Qiming Venture Partners</td>\n",
       "      <td>Series B</td>\n",
       "      <td>1.510950e+09</td>\n",
       "      <td>2019</td>\n",
       "      <td>06</td>\n",
       "      <td>06/06/2019</td>\n",
       "    </tr>\n",
       "    <tr>\n",
       "      <th>830</th>\n",
       "      <td>831</td>\n",
       "      <td>2017-05-18</td>\n",
       "      <td>Paytm</td>\n",
       "      <td>eCommerce</td>\n",
       "      <td>Mobile Wallet &amp; ECommerce platform</td>\n",
       "      <td>Bangalore</td>\n",
       "      <td>SoftBank Group</td>\n",
       "      <td>Private Equity</td>\n",
       "      <td>1.400000e+09</td>\n",
       "      <td>2017</td>\n",
       "      <td>05</td>\n",
       "      <td>18/05/2017</td>\n",
       "    </tr>\n",
       "    <tr>\n",
       "      <th>966</th>\n",
       "      <td>967</td>\n",
       "      <td>2017-03-21</td>\n",
       "      <td>Flipkart</td>\n",
       "      <td>eCommerce</td>\n",
       "      <td>ECommerce Marketplace</td>\n",
       "      <td>Bangalore</td>\n",
       "      <td>Microsoft, eBay, Tencent Holdings</td>\n",
       "      <td>Private Equity</td>\n",
       "      <td>1.400000e+09</td>\n",
       "      <td>2017</td>\n",
       "      <td>03</td>\n",
       "      <td>21/03/2017</td>\n",
       "    </tr>\n",
       "    <tr>\n",
       "      <th>31</th>\n",
       "      <td>32</td>\n",
       "      <td>2019-11-25</td>\n",
       "      <td>Paytm</td>\n",
       "      <td>FinTech</td>\n",
       "      <td>Mobile Wallet</td>\n",
       "      <td>Noida</td>\n",
       "      <td>Vijay Shekhar Sharma</td>\n",
       "      <td>Funding Round</td>\n",
       "      <td>1.000000e+09</td>\n",
       "      <td>2019</td>\n",
       "      <td>11</td>\n",
       "      <td>25/11/2019</td>\n",
       "    </tr>\n",
       "    <tr>\n",
       "      <th>3095</th>\n",
       "      <td>3096</td>\n",
       "      <td>2018-06-07</td>\n",
       "      <td>OYO</td>\n",
       "      <td>Hospitality</td>\n",
       "      <td>Hospitality</td>\n",
       "      <td>New Delhi</td>\n",
       "      <td>Softbank Vision Fund</td>\n",
       "      <td>Series E</td>\n",
       "      <td>1.000000e+09</td>\n",
       "      <td>2018</td>\n",
       "      <td>07</td>\n",
       "      <td>06/07/2018</td>\n",
       "    </tr>\n",
       "    <tr>\n",
       "      <th>2648</th>\n",
       "      <td>2649</td>\n",
       "      <td>2015-07-28</td>\n",
       "      <td>Flipkart</td>\n",
       "      <td>Online Marketplace</td>\n",
       "      <td>NaN</td>\n",
       "      <td>Bangalore</td>\n",
       "      <td>Steadview Capital and existing investors</td>\n",
       "      <td>Private Equity</td>\n",
       "      <td>7.000000e+08</td>\n",
       "      <td>2015</td>\n",
       "      <td>07</td>\n",
       "      <td>28/07/2015</td>\n",
       "    </tr>\n",
       "    <tr>\n",
       "      <th>2459</th>\n",
       "      <td>2460</td>\n",
       "      <td>2015-09-29</td>\n",
       "      <td>Paytm</td>\n",
       "      <td>E-Commerce &amp; M-Commerce platform</td>\n",
       "      <td>NaN</td>\n",
       "      <td>New Delhi</td>\n",
       "      <td>Alibaba Group, Ant Financial</td>\n",
       "      <td>Private Equity</td>\n",
       "      <td>6.800000e+08</td>\n",
       "      <td>2015</td>\n",
       "      <td>09</td>\n",
       "      <td>29/09/2015</td>\n",
       "    </tr>\n",
       "    <tr>\n",
       "      <th>188</th>\n",
       "      <td>189</td>\n",
       "      <td>2018-08-30</td>\n",
       "      <td>True North</td>\n",
       "      <td>Finance</td>\n",
       "      <td>Private Equity Firm</td>\n",
       "      <td>Mumbai</td>\n",
       "      <td>NaN</td>\n",
       "      <td>Private Equity</td>\n",
       "      <td>6.000000e+08</td>\n",
       "      <td>2018</td>\n",
       "      <td>08</td>\n",
       "      <td>30/08/2018</td>\n",
       "    </tr>\n",
       "    <tr>\n",
       "      <th>33</th>\n",
       "      <td>34</td>\n",
       "      <td>2019-02-10</td>\n",
       "      <td>Udaan</td>\n",
       "      <td>B2B</td>\n",
       "      <td>Business development</td>\n",
       "      <td>Bengaluru</td>\n",
       "      <td>Altimeter Capital, DST Global</td>\n",
       "      <td>Series D</td>\n",
       "      <td>5.850000e+08</td>\n",
       "      <td>2019</td>\n",
       "      <td>10</td>\n",
       "      <td>02/10/2019</td>\n",
       "    </tr>\n",
       "    <tr>\n",
       "      <th>2244</th>\n",
       "      <td>2245</td>\n",
       "      <td>2015-11-18</td>\n",
       "      <td>Ola Cabs</td>\n",
       "      <td>Car Aggregator &amp; Retail Mobile App</td>\n",
       "      <td>NaN</td>\n",
       "      <td>Bangalore</td>\n",
       "      <td>Baillie Gifford, Falcon Edge Capital, Tiger Gl...</td>\n",
       "      <td>Private Equity</td>\n",
       "      <td>5.000000e+08</td>\n",
       "      <td>2015</td>\n",
       "      <td>11</td>\n",
       "      <td>18/11/2015</td>\n",
       "    </tr>\n",
       "    <tr>\n",
       "      <th>2470</th>\n",
       "      <td>2471</td>\n",
       "      <td>2015-01-08</td>\n",
       "      <td>Snapdeal</td>\n",
       "      <td>Ecommerce Marketplace</td>\n",
       "      <td>NaN</td>\n",
       "      <td>New Delhi</td>\n",
       "      <td>Alibaba, Foxconn, Softbank</td>\n",
       "      <td>Private Equity</td>\n",
       "      <td>5.000000e+08</td>\n",
       "      <td>2015</td>\n",
       "      <td>08</td>\n",
       "      <td>01/08/2015</td>\n",
       "    </tr>\n",
       "    <tr>\n",
       "      <th>3097</th>\n",
       "      <td>3098</td>\n",
       "      <td>2019-01-11</td>\n",
       "      <td>OYO</td>\n",
       "      <td>Hospitality</td>\n",
       "      <td>Hospitality</td>\n",
       "      <td>New Delhi</td>\n",
       "      <td>Mypreffered Transformation</td>\n",
       "      <td>Debt Financing</td>\n",
       "      <td>5.000000e+08</td>\n",
       "      <td>2019</td>\n",
       "      <td>11</td>\n",
       "      <td>01/11/2019</td>\n",
       "    </tr>\n",
       "    <tr>\n",
       "      <th>76</th>\n",
       "      <td>77</td>\n",
       "      <td>2019-03-06</td>\n",
       "      <td>FabHotels</td>\n",
       "      <td>eCommerce</td>\n",
       "      <td>Hospitality</td>\n",
       "      <td>Gurgaon</td>\n",
       "      <td>Goldman Sachs, Accel Partners and Qualcomm</td>\n",
       "      <td>Series A</td>\n",
       "      <td>4.889976e+08</td>\n",
       "      <td>2019</td>\n",
       "      <td>06</td>\n",
       "      <td>03/06/2019</td>\n",
       "    </tr>\n",
       "    <tr>\n",
       "      <th>42</th>\n",
       "      <td>43</td>\n",
       "      <td>2019-04-09</td>\n",
       "      <td>GOQii</td>\n",
       "      <td>Health and Wellness</td>\n",
       "      <td>Wearable Fitness Bands</td>\n",
       "      <td>Menlo Park</td>\n",
       "      <td>Bennett Coleman and Company Ltd (BCCL)</td>\n",
       "      <td>Series C</td>\n",
       "      <td>4.500000e+08</td>\n",
       "      <td>2019</td>\n",
       "      <td>09</td>\n",
       "      <td>04/09/2019</td>\n",
       "    </tr>\n",
       "  </tbody>\n",
       "</table>\n",
       "</div>"
      ],
      "text/plain": [
       "      S.No       Date              Name                            Industry  \\\n",
       "60      61 2019-08-27  Rapido Bike Taxi                      Transportation   \n",
       "651    652 2017-11-08          Flipkart                           eCommerce   \n",
       "2602  2603 2015-09-07     News Inshorts                    News Application   \n",
       "2608  2609 2015-10-07   Loyalty Rewards                     Premium Rewards   \n",
       "2603  2604 2015-09-07         Bluestone                    Online Jewellery   \n",
       "2610  2611 2015-07-13          Mamagoto                    Restaurant Chain   \n",
       "83      84 2019-06-06         Pratilipi                       Digital Media   \n",
       "830    831 2017-05-18             Paytm                           eCommerce   \n",
       "966    967 2017-03-21          Flipkart                           eCommerce   \n",
       "31      32 2019-11-25             Paytm                             FinTech   \n",
       "3095  3096 2018-06-07              OYO                          Hospitality   \n",
       "2648  2649 2015-07-28          Flipkart                  Online Marketplace   \n",
       "2459  2460 2015-09-29             Paytm    E-Commerce & M-Commerce platform   \n",
       "188    189 2018-08-30        True North                             Finance   \n",
       "33      34 2019-02-10             Udaan                                 B2B   \n",
       "2244  2245 2015-11-18          Ola Cabs  Car Aggregator & Retail Mobile App   \n",
       "2470  2471 2015-01-08          Snapdeal               Ecommerce Marketplace   \n",
       "3097  3098 2019-01-11              OYO                          Hospitality   \n",
       "76      77 2019-03-06         FabHotels                           eCommerce   \n",
       "42      43 2019-04-09             GOQii                 Health and Wellness   \n",
       "\n",
       "                             SubVertical        City  \\\n",
       "60                             Bike Taxi   Bengaluru   \n",
       "651                   Online Marketplace   Bangalore   \n",
       "2602                                 NaN       Noida   \n",
       "2608                                 NaN      Mumbai   \n",
       "2603                                 NaN   Bangalore   \n",
       "2610                                 NaN   New Delhi   \n",
       "83                               E-Books   Bengaluru   \n",
       "830   Mobile Wallet & ECommerce platform   Bangalore   \n",
       "966                ECommerce Marketplace   Bangalore   \n",
       "31                         Mobile Wallet       Noida   \n",
       "3095                         Hospitality   New Delhi   \n",
       "2648                                 NaN   Bangalore   \n",
       "2459                                 NaN   New Delhi   \n",
       "188                  Private Equity Firm      Mumbai   \n",
       "33                  Business development   Bengaluru   \n",
       "2244                                 NaN   Bangalore   \n",
       "2470                                 NaN   New Delhi   \n",
       "3097                         Hospitality   New Delhi   \n",
       "76                           Hospitality     Gurgaon   \n",
       "42                Wearable Fitness Bands  Menlo Park   \n",
       "\n",
       "                                               Investor            Type  \\\n",
       "60                                   Westbridge Capital        Series B   \n",
       "651                                            Softbank  Private Equity   \n",
       "2602                                       Tiger Global  Private Equity   \n",
       "2608                                        IndianIdeas  Private Equity   \n",
       "2603  IvyCap Ventures, Accel Partners, Dragoneer Inv...  Private Equity   \n",
       "2610                                      Goldman Sachs  Private Equity   \n",
       "83                              Qiming Venture Partners        Series B   \n",
       "830                                      SoftBank Group  Private Equity   \n",
       "966                   Microsoft, eBay, Tencent Holdings  Private Equity   \n",
       "31                                 Vijay Shekhar Sharma   Funding Round   \n",
       "3095                               Softbank Vision Fund        Series E   \n",
       "2648           Steadview Capital and existing investors  Private Equity   \n",
       "2459                       Alibaba Group, Ant Financial  Private Equity   \n",
       "188                                                 NaN  Private Equity   \n",
       "33                        Altimeter Capital, DST Global        Series D   \n",
       "2244  Baillie Gifford, Falcon Edge Capital, Tiger Gl...  Private Equity   \n",
       "2470                         Alibaba, Foxconn, Softbank  Private Equity   \n",
       "3097                         Mypreffered Transformation  Debt Financing   \n",
       "76           Goldman Sachs, Accel Partners and Qualcomm        Series A   \n",
       "42               Bennett Coleman and Company Ltd (BCCL)        Series C   \n",
       "\n",
       "       AmountInUSD  Year Month     NewDate  \n",
       "60    3.900000e+09  2019    08  27/08/2019  \n",
       "651   2.500000e+09  2017    08  11/08/2017  \n",
       "2602  2.020000e+09  2015    07  09/07/2015  \n",
       "2608  2.019350e+09  2015    07  10/07/2015  \n",
       "2603  2.016200e+09  2015    07  09/07/2015  \n",
       "2610  2.010000e+09  2015    07  13/07/2015  \n",
       "83    1.510950e+09  2019    06  06/06/2019  \n",
       "830   1.400000e+09  2017    05  18/05/2017  \n",
       "966   1.400000e+09  2017    03  21/03/2017  \n",
       "31    1.000000e+09  2019    11  25/11/2019  \n",
       "3095  1.000000e+09  2018    07  06/07/2018  \n",
       "2648  7.000000e+08  2015    07  28/07/2015  \n",
       "2459  6.800000e+08  2015    09  29/09/2015  \n",
       "188   6.000000e+08  2018    08  30/08/2018  \n",
       "33    5.850000e+08  2019    10  02/10/2019  \n",
       "2244  5.000000e+08  2015    11  18/11/2015  \n",
       "2470  5.000000e+08  2015    08  01/08/2015  \n",
       "3097  5.000000e+08  2019    11  01/11/2019  \n",
       "76    4.889976e+08  2019    06  03/06/2019  \n",
       "42    4.500000e+08  2019    09  04/09/2019  "
      ]
     },
     "execution_count": 941,
     "metadata": {},
     "output_type": "execute_result"
    }
   ],
   "source": [
    "top_20"
   ]
  },
  {
   "cell_type": "code",
   "execution_count": 942,
   "metadata": {},
   "outputs": [
    {
     "data": {
      "text/html": [
       "<div>\n",
       "<style scoped>\n",
       "    .dataframe tbody tr th:only-of-type {\n",
       "        vertical-align: middle;\n",
       "    }\n",
       "\n",
       "    .dataframe tbody tr th {\n",
       "        vertical-align: top;\n",
       "    }\n",
       "\n",
       "    .dataframe thead th {\n",
       "        text-align: right;\n",
       "    }\n",
       "</style>\n",
       "<table border=\"1\" class=\"dataframe\">\n",
       "  <thead>\n",
       "    <tr style=\"text-align: right;\">\n",
       "      <th></th>\n",
       "      <th>S.No</th>\n",
       "      <th>Date</th>\n",
       "      <th>Name</th>\n",
       "      <th>Industry</th>\n",
       "      <th>SubVertical</th>\n",
       "      <th>City</th>\n",
       "      <th>Investor</th>\n",
       "      <th>Type</th>\n",
       "      <th>AmountInUSD</th>\n",
       "      <th>Year</th>\n",
       "      <th>Month</th>\n",
       "      <th>NewDate</th>\n",
       "    </tr>\n",
       "  </thead>\n",
       "  <tbody>\n",
       "    <tr>\n",
       "      <th>31</th>\n",
       "      <td>32</td>\n",
       "      <td>2019-11-25</td>\n",
       "      <td>Paytm</td>\n",
       "      <td>FinTech</td>\n",
       "      <td>Mobile Wallet</td>\n",
       "      <td>Noida</td>\n",
       "      <td>Vijay Shekhar Sharma</td>\n",
       "      <td>Funding Round</td>\n",
       "      <td>1.000000e+09</td>\n",
       "      <td>2019</td>\n",
       "      <td>11</td>\n",
       "      <td>25/11/2019</td>\n",
       "    </tr>\n",
       "    <tr>\n",
       "      <th>251</th>\n",
       "      <td>252</td>\n",
       "      <td>2018-06-26</td>\n",
       "      <td>Paytm</td>\n",
       "      <td>Technology</td>\n",
       "      <td>Digital Payment Platform</td>\n",
       "      <td>Noida</td>\n",
       "      <td>One 97 Communications</td>\n",
       "      <td>Private Equity</td>\n",
       "      <td>8.950000e+06</td>\n",
       "      <td>2018</td>\n",
       "      <td>06</td>\n",
       "      <td>26/06/2018</td>\n",
       "    </tr>\n",
       "    <tr>\n",
       "      <th>830</th>\n",
       "      <td>831</td>\n",
       "      <td>2017-05-18</td>\n",
       "      <td>Paytm</td>\n",
       "      <td>eCommerce</td>\n",
       "      <td>Mobile Wallet &amp; ECommerce platform</td>\n",
       "      <td>Bangalore</td>\n",
       "      <td>SoftBank Group</td>\n",
       "      <td>Private Equity</td>\n",
       "      <td>1.400000e+09</td>\n",
       "      <td>2017</td>\n",
       "      <td>05</td>\n",
       "      <td>18/05/2017</td>\n",
       "    </tr>\n",
       "    <tr>\n",
       "      <th>1493</th>\n",
       "      <td>1494</td>\n",
       "      <td>2016-08-30</td>\n",
       "      <td>Paytm</td>\n",
       "      <td>eCommerce</td>\n",
       "      <td>Mobile Wallet &amp; ECommerce platform</td>\n",
       "      <td>Bangalore</td>\n",
       "      <td>MediaTek Inc.</td>\n",
       "      <td>Private Equity</td>\n",
       "      <td>6.000000e+07</td>\n",
       "      <td>2016</td>\n",
       "      <td>08</td>\n",
       "      <td>30/08/2016</td>\n",
       "    </tr>\n",
       "    <tr>\n",
       "      <th>2459</th>\n",
       "      <td>2460</td>\n",
       "      <td>2015-09-29</td>\n",
       "      <td>Paytm</td>\n",
       "      <td>E-Commerce &amp; M-Commerce platform</td>\n",
       "      <td>NaN</td>\n",
       "      <td>New Delhi</td>\n",
       "      <td>Alibaba Group, Ant Financial</td>\n",
       "      <td>Private Equity</td>\n",
       "      <td>6.800000e+08</td>\n",
       "      <td>2015</td>\n",
       "      <td>09</td>\n",
       "      <td>29/09/2015</td>\n",
       "    </tr>\n",
       "    <tr>\n",
       "      <th>2890</th>\n",
       "      <td>2891</td>\n",
       "      <td>2015-03-13</td>\n",
       "      <td>Paytm</td>\n",
       "      <td>Other</td>\n",
       "      <td>NaN</td>\n",
       "      <td>NotSpecific</td>\n",
       "      <td>Ratan Tata</td>\n",
       "      <td>Private Equity</td>\n",
       "      <td>0.000000e+00</td>\n",
       "      <td>2015</td>\n",
       "      <td>03</td>\n",
       "      <td>13/03/2015</td>\n",
       "    </tr>\n",
       "    <tr>\n",
       "      <th>2948</th>\n",
       "      <td>2949</td>\n",
       "      <td>2015-05-02</td>\n",
       "      <td>Paytm</td>\n",
       "      <td>Other</td>\n",
       "      <td>NaN</td>\n",
       "      <td>NotSpecific</td>\n",
       "      <td>Ant Financial Services (Alipay)</td>\n",
       "      <td>Private Equity</td>\n",
       "      <td>0.000000e+00</td>\n",
       "      <td>2015</td>\n",
       "      <td>02</td>\n",
       "      <td>05/02/2015</td>\n",
       "    </tr>\n",
       "  </tbody>\n",
       "</table>\n",
       "</div>"
      ],
      "text/plain": [
       "      S.No       Date   Name                          Industry  \\\n",
       "31      32 2019-11-25  Paytm                           FinTech   \n",
       "251    252 2018-06-26  Paytm                        Technology   \n",
       "830    831 2017-05-18  Paytm                         eCommerce   \n",
       "1493  1494 2016-08-30  Paytm                         eCommerce   \n",
       "2459  2460 2015-09-29  Paytm  E-Commerce & M-Commerce platform   \n",
       "2890  2891 2015-03-13  Paytm                             Other   \n",
       "2948  2949 2015-05-02  Paytm                             Other   \n",
       "\n",
       "                             SubVertical         City  \\\n",
       "31                         Mobile Wallet        Noida   \n",
       "251             Digital Payment Platform        Noida   \n",
       "830   Mobile Wallet & ECommerce platform    Bangalore   \n",
       "1493  Mobile Wallet & ECommerce platform    Bangalore   \n",
       "2459                                 NaN    New Delhi   \n",
       "2890                                 NaN  NotSpecific   \n",
       "2948                                 NaN  NotSpecific   \n",
       "\n",
       "                             Investor            Type   AmountInUSD  Year  \\\n",
       "31               Vijay Shekhar Sharma   Funding Round  1.000000e+09  2019   \n",
       "251             One 97 Communications  Private Equity  8.950000e+06  2018   \n",
       "830                    SoftBank Group  Private Equity  1.400000e+09  2017   \n",
       "1493                    MediaTek Inc.  Private Equity  6.000000e+07  2016   \n",
       "2459     Alibaba Group, Ant Financial  Private Equity  6.800000e+08  2015   \n",
       "2890                       Ratan Tata  Private Equity  0.000000e+00  2015   \n",
       "2948  Ant Financial Services (Alipay)  Private Equity  0.000000e+00  2015   \n",
       "\n",
       "     Month     NewDate  \n",
       "31      11  25/11/2019  \n",
       "251     06  26/06/2018  \n",
       "830     05  18/05/2017  \n",
       "1493    08  30/08/2016  \n",
       "2459    09  29/09/2015  \n",
       "2890    03  13/03/2015  \n",
       "2948    02  05/02/2015  "
      ]
     },
     "execution_count": 942,
     "metadata": {},
     "output_type": "execute_result"
    }
   ],
   "source": [
    "df[df['Name']=='Paytm'] "
   ]
  },
  {
   "cell_type": "code",
   "execution_count": 943,
   "metadata": {},
   "outputs": [
    {
     "data": {
      "text/html": [
       "<div>\n",
       "<style scoped>\n",
       "    .dataframe tbody tr th:only-of-type {\n",
       "        vertical-align: middle;\n",
       "    }\n",
       "\n",
       "    .dataframe tbody tr th {\n",
       "        vertical-align: top;\n",
       "    }\n",
       "\n",
       "    .dataframe thead th {\n",
       "        text-align: right;\n",
       "    }\n",
       "</style>\n",
       "<table border=\"1\" class=\"dataframe\">\n",
       "  <thead>\n",
       "    <tr style=\"text-align: right;\">\n",
       "      <th></th>\n",
       "      <th>Number of Fundings</th>\n",
       "    </tr>\n",
       "  </thead>\n",
       "  <tbody>\n",
       "    <tr>\n",
       "      <th>2016</th>\n",
       "      <td>993</td>\n",
       "    </tr>\n",
       "    <tr>\n",
       "      <th>2015</th>\n",
       "      <td>936</td>\n",
       "    </tr>\n",
       "    <tr>\n",
       "      <th>2017</th>\n",
       "      <td>687</td>\n",
       "    </tr>\n",
       "    <tr>\n",
       "      <th>2018</th>\n",
       "      <td>311</td>\n",
       "    </tr>\n",
       "    <tr>\n",
       "      <th>2019</th>\n",
       "      <td>115</td>\n",
       "    </tr>\n",
       "    <tr>\n",
       "      <th>2020</th>\n",
       "      <td>56</td>\n",
       "    </tr>\n",
       "  </tbody>\n",
       "</table>\n",
       "</div>"
      ],
      "text/plain": [
       "      Number of Fundings\n",
       "2016                 993\n",
       "2015                 936\n",
       "2017                 687\n",
       "2018                 311\n",
       "2019                 115\n",
       "2020                  56"
      ]
     },
     "execution_count": 943,
     "metadata": {},
     "output_type": "execute_result"
    }
   ],
   "source": [
    "funding_count_yr = pd.DataFrame(df['Year'].value_counts())\n",
    "funding_count_yr.rename(columns={\"Year\":\"Number of Fundings\"}, inplace=True)\n",
    "funding_count_yr"
   ]
  },
  {
   "cell_type": "code",
   "execution_count": 944,
   "metadata": {},
   "outputs": [
    {
     "name": "stdout",
     "output_type": "stream",
     "text": [
      "Number of funding per year in decreasing order(Top 10)\n",
      " 2016    993\n",
      "2015    936\n",
      "2017    687\n",
      "2018    311\n",
      "2019    115\n",
      "2020     56\n",
      "Name: Year, dtype: int64\n"
     ]
    },
    {
     "data": {
      "image/png": "[encoded data removed]",
      "text/plain": [
       "<Figure size 1080x576 with 1 Axes>"
      ]
     },
     "metadata": {
      "needs_background": "light"
     },
     "output_type": "display_data"
    }
   ],
   "source": [
    "temp = df['Year'].value_counts().sort_values(ascending = False).head(10)\n",
    "print(\"Number of funding per year in decreasing order(Top 10)\\n\",temp)\n",
    "year = df['Year'].value_counts()\n",
    "plt.figure(figsize=(15,8))\n",
    "sns.barplot(year.index, year.values, alpha=0.9)\n",
    "plt.xticks(rotation='vertical')\n",
    "plt.xlabel('Year of transaction', fontsize=12)\n",
    "plt.ylabel('Number of fundings made', fontsize=12)\n",
    "plt.title(\"Yearly Distribution\", fontsize=16)\n",
    "plt.show()"
   ]
  },
  {
   "cell_type": "code",
   "execution_count": 945,
   "metadata": {},
   "outputs": [
    {
     "data": {
      "text/html": [
       "<div>\n",
       "<style scoped>\n",
       "    .dataframe tbody tr th:only-of-type {\n",
       "        vertical-align: middle;\n",
       "    }\n",
       "\n",
       "    .dataframe tbody tr th {\n",
       "        vertical-align: top;\n",
       "    }\n",
       "\n",
       "    .dataframe thead th {\n",
       "        text-align: right;\n",
       "    }\n",
       "</style>\n",
       "<table border=\"1\" class=\"dataframe\">\n",
       "  <thead>\n",
       "    <tr style=\"text-align: right;\">\n",
       "      <th></th>\n",
       "      <th>Total Funding(USD-Bn)</th>\n",
       "    </tr>\n",
       "    <tr>\n",
       "      <th>Year</th>\n",
       "      <th></th>\n",
       "    </tr>\n",
       "  </thead>\n",
       "  <tbody>\n",
       "    <tr>\n",
       "      <th>2015</th>\n",
       "      <td>1.691302e+10</td>\n",
       "    </tr>\n",
       "    <tr>\n",
       "      <th>2019</th>\n",
       "      <td>1.253823e+10</td>\n",
       "    </tr>\n",
       "    <tr>\n",
       "      <th>2017</th>\n",
       "      <td>1.042931e+10</td>\n",
       "    </tr>\n",
       "    <tr>\n",
       "      <th>2018</th>\n",
       "      <td>6.122368e+09</td>\n",
       "    </tr>\n",
       "    <tr>\n",
       "      <th>2016</th>\n",
       "      <td>3.828089e+09</td>\n",
       "    </tr>\n",
       "    <tr>\n",
       "      <th>2020</th>\n",
       "      <td>1.255632e+09</td>\n",
       "    </tr>\n",
       "  </tbody>\n",
       "</table>\n",
       "</div>"
      ],
      "text/plain": [
       "      Total Funding(USD-Bn)\n",
       "Year                       \n",
       "2015           1.691302e+10\n",
       "2019           1.253823e+10\n",
       "2017           1.042931e+10\n",
       "2018           6.122368e+09\n",
       "2016           3.828089e+09\n",
       "2020           1.255632e+09"
      ]
     },
     "execution_count": 945,
     "metadata": {},
     "output_type": "execute_result"
    }
   ],
   "source": [
    "funding_total_yr = pd.DataFrame(df.groupby(by=['Year'])['AmountInUSD'].sum())\n",
    "funding_total_yr.rename(columns={\"AmountInUSD\":\"Total Funding(USD-Bn)\"}, inplace=True)\n",
    "funding_total_yr = funding_total_yr.sort_values(by='Total Funding(USD-Bn)', ascending=False)\n",
    "funding_total_yr"
   ]
  },
  {
   "cell_type": "code",
   "execution_count": 946,
   "metadata": {},
   "outputs": [
    {
     "data": {
      "text/html": [
       "<div>\n",
       "<style scoped>\n",
       "    .dataframe tbody tr th:only-of-type {\n",
       "        vertical-align: middle;\n",
       "    }\n",
       "\n",
       "    .dataframe tbody tr th {\n",
       "        vertical-align: top;\n",
       "    }\n",
       "\n",
       "    .dataframe thead th {\n",
       "        text-align: right;\n",
       "    }\n",
       "</style>\n",
       "<table border=\"1\" class=\"dataframe\">\n",
       "  <thead>\n",
       "    <tr style=\"text-align: right;\">\n",
       "      <th></th>\n",
       "      <th>Number of Fundings by City</th>\n",
       "    </tr>\n",
       "  </thead>\n",
       "  <tbody>\n",
       "    <tr>\n",
       "      <th>Bangalore</th>\n",
       "      <td>706</td>\n",
       "    </tr>\n",
       "    <tr>\n",
       "      <th>Mumbai</th>\n",
       "      <td>580</td>\n",
       "    </tr>\n",
       "    <tr>\n",
       "      <th>New Delhi</th>\n",
       "      <td>430</td>\n",
       "    </tr>\n",
       "    <tr>\n",
       "      <th>Gurgaon</th>\n",
       "      <td>288</td>\n",
       "    </tr>\n",
       "    <tr>\n",
       "      <th>NotSpecific</th>\n",
       "      <td>180</td>\n",
       "    </tr>\n",
       "    <tr>\n",
       "      <th>Bengaluru</th>\n",
       "      <td>148</td>\n",
       "    </tr>\n",
       "    <tr>\n",
       "      <th>Pune</th>\n",
       "      <td>108</td>\n",
       "    </tr>\n",
       "    <tr>\n",
       "      <th>Hyderabad</th>\n",
       "      <td>101</td>\n",
       "    </tr>\n",
       "    <tr>\n",
       "      <th>Chennai</th>\n",
       "      <td>99</td>\n",
       "    </tr>\n",
       "    <tr>\n",
       "      <th>Noida</th>\n",
       "      <td>95</td>\n",
       "    </tr>\n",
       "  </tbody>\n",
       "</table>\n",
       "</div>"
      ],
      "text/plain": [
       "             Number of Fundings by City\n",
       "Bangalore                           706\n",
       "Mumbai                              580\n",
       "New Delhi                           430\n",
       "Gurgaon                             288\n",
       "NotSpecific                         180\n",
       "Bengaluru                           148\n",
       "Pune                                108\n",
       "Hyderabad                           101\n",
       "Chennai                              99\n",
       "Noida                                95"
      ]
     },
     "execution_count": 946,
     "metadata": {},
     "output_type": "execute_result"
    }
   ],
   "source": [
    "fundings_count_city = pd.DataFrame(df['City'].value_counts().sort_values(ascending=False)[:10])\n",
    "fundings_count_city.rename(columns={'City':'Number of Fundings by City'}, inplace=True)\n",
    "fundings_count_city.head(10)"
   ]
  },
  {
   "cell_type": "code",
   "execution_count": 947,
   "metadata": {},
   "outputs": [
    {
     "name": "stdout",
     "output_type": "stream",
     "text": [
      "Bangalore      706\n",
      "Mumbai         580\n",
      "New Delhi      430\n",
      "Gurgaon        288\n",
      "NotSpecific    180\n",
      "Bengaluru      148\n",
      "Pune           108\n",
      "Hyderabad      101\n",
      "Chennai         99\n",
      "Noida           95\n",
      "Name: City, dtype: int64\n"
     ]
    },
    {
     "data": {
      "image/png": "[encoded data removed]",
      "text/plain": [
       "<Figure size 1080x576 with 1 Axes>"
      ]
     },
     "metadata": {
      "needs_background": "light"
     },
     "output_type": "display_data"
    }
   ],
   "source": [
    "city = df['City'].value_counts().head(10)\n",
    "print(city)\n",
    "plt.figure(figsize=(15,8))\n",
    "sns.barplot(city.index, city.values, alpha=0.9)\n",
    "plt.xticks(rotation='vertical')\n",
    "plt.xlabel('city location of startups', fontsize=12)\n",
    "plt.ylabel('Number of fundings made', fontsize=12)\n",
    "plt.title(\"city location of startups with number of funding\", fontsize=16)\n",
    "plt.show()"
   ]
  },
  {
   "cell_type": "code",
   "execution_count": 948,
   "metadata": {},
   "outputs": [
    {
     "data": {
      "text/html": [
       "<div>\n",
       "<style scoped>\n",
       "    .dataframe tbody tr th:only-of-type {\n",
       "        vertical-align: middle;\n",
       "    }\n",
       "\n",
       "    .dataframe tbody tr th {\n",
       "        vertical-align: top;\n",
       "    }\n",
       "\n",
       "    .dataframe thead th {\n",
       "        text-align: right;\n",
       "    }\n",
       "</style>\n",
       "<table border=\"1\" class=\"dataframe\">\n",
       "  <thead>\n",
       "    <tr style=\"text-align: right;\">\n",
       "      <th></th>\n",
       "      <th>Number of Fundings by Industry</th>\n",
       "    </tr>\n",
       "  </thead>\n",
       "  <tbody>\n",
       "    <tr>\n",
       "      <th>Consumer Internet</th>\n",
       "      <td>941</td>\n",
       "    </tr>\n",
       "    <tr>\n",
       "      <th>Technology</th>\n",
       "      <td>478</td>\n",
       "    </tr>\n",
       "    <tr>\n",
       "      <th>eCommerce</th>\n",
       "      <td>307</td>\n",
       "    </tr>\n",
       "    <tr>\n",
       "      <th>Other</th>\n",
       "      <td>171</td>\n",
       "    </tr>\n",
       "    <tr>\n",
       "      <th>Healthcare</th>\n",
       "      <td>71</td>\n",
       "    </tr>\n",
       "    <tr>\n",
       "      <th>EdTech</th>\n",
       "      <td>64</td>\n",
       "    </tr>\n",
       "    <tr>\n",
       "      <th>Finance</th>\n",
       "      <td>64</td>\n",
       "    </tr>\n",
       "    <tr>\n",
       "      <th>Logistics</th>\n",
       "      <td>32</td>\n",
       "    </tr>\n",
       "    <tr>\n",
       "      <th>Food &amp; Beverage</th>\n",
       "      <td>23</td>\n",
       "    </tr>\n",
       "    <tr>\n",
       "      <th>FinTech</th>\n",
       "      <td>16</td>\n",
       "    </tr>\n",
       "  </tbody>\n",
       "</table>\n",
       "</div>"
      ],
      "text/plain": [
       "                   Number of Fundings by Industry\n",
       "Consumer Internet                             941\n",
       "Technology                                    478\n",
       "eCommerce                                     307\n",
       "Other                                         171\n",
       "Healthcare                                     71\n",
       "EdTech                                         64\n",
       "Finance                                        64\n",
       "Logistics                                      32\n",
       "Food & Beverage                                23\n",
       "FinTech                                        16"
      ]
     },
     "execution_count": 948,
     "metadata": {},
     "output_type": "execute_result"
    }
   ],
   "source": [
    "fundings_count_industry = pd.DataFrame(df['Industry'].value_counts().sort_values(ascending=False))[:15]\n",
    "fundings_count_industry.rename(columns={'Industry':'Number of Fundings by Industry'}, inplace=True)\n",
    "fundings_count_industry.head(10)"
   ]
  },
  {
   "cell_type": "code",
   "execution_count": 949,
   "metadata": {},
   "outputs": [
    {
     "name": "stdout",
     "output_type": "stream",
     "text": [
      "Consumer Internet    941\n",
      "Technology           478\n",
      "eCommerce            307\n",
      "Other                171\n",
      "Healthcare            71\n",
      "EdTech                64\n",
      "Finance               64\n",
      "Logistics             32\n",
      "Food & Beverage       23\n",
      "FinTech               16\n",
      "Name: Industry, dtype: int64\n"
     ]
    },
    {
     "data": {
      "image/png": "[encoded data removed]",
      "text/plain": [
       "<Figure size 1080x576 with 1 Axes>"
      ]
     },
     "metadata": {
      "needs_background": "light"
     },
     "output_type": "display_data"
    }
   ],
   "source": [
    "industry = df['Industry'].value_counts().head(10)\n",
    "print(industry)\n",
    "plt.figure(figsize=(15,8))\n",
    "sns.barplot(industry.index, industry.values, alpha=0.9)\n",
    "plt.xticks(rotation='vertical')\n",
    "plt.xlabel('Industry vertical of startups', fontsize=12)\n",
    "plt.ylabel('Number of fundings made', fontsize=12)\n",
    "plt.title(\"Industry vertical of startups with number of funding\", fontsize=16)\n",
    "plt.show()"
   ]
  },
  {
   "cell_type": "code",
   "execution_count": 950,
   "metadata": {},
   "outputs": [
    {
     "data": {
      "text/html": [
       "<div>\n",
       "<style scoped>\n",
       "    .dataframe tbody tr th:only-of-type {\n",
       "        vertical-align: middle;\n",
       "    }\n",
       "\n",
       "    .dataframe tbody tr th {\n",
       "        vertical-align: top;\n",
       "    }\n",
       "\n",
       "    .dataframe thead th {\n",
       "        text-align: right;\n",
       "    }\n",
       "</style>\n",
       "<table border=\"1\" class=\"dataframe\">\n",
       "  <thead>\n",
       "    <tr style=\"text-align: right;\">\n",
       "      <th></th>\n",
       "      <th>Number of Investments by Investor</th>\n",
       "    </tr>\n",
       "  </thead>\n",
       "  <tbody>\n",
       "    <tr>\n",
       "      <th>Ratan Tata</th>\n",
       "      <td>25</td>\n",
       "    </tr>\n",
       "    <tr>\n",
       "      <th>Indian Angel Network</th>\n",
       "      <td>23</td>\n",
       "    </tr>\n",
       "    <tr>\n",
       "      <th>Kalaari Capital</th>\n",
       "      <td>16</td>\n",
       "    </tr>\n",
       "    <tr>\n",
       "      <th>Group of Angel Investors</th>\n",
       "      <td>15</td>\n",
       "    </tr>\n",
       "    <tr>\n",
       "      <th>Sequoia Capital</th>\n",
       "      <td>15</td>\n",
       "    </tr>\n",
       "  </tbody>\n",
       "</table>\n",
       "</div>"
      ],
      "text/plain": [
       "                          Number of Investments by Investor\n",
       "Ratan Tata                                               25\n",
       "Indian Angel Network                                     23\n",
       "Kalaari Capital                                          16\n",
       "Group of Angel Investors                                 15\n",
       "Sequoia Capital                                          15"
      ]
     },
     "execution_count": 950,
     "metadata": {},
     "output_type": "execute_result"
    }
   ],
   "source": [
    "funding_count_investor = pd.DataFrame(df['Investor'].value_counts()).sort_values(by='Investor', ascending=False)[:10]\n",
    "funding_count_investor.rename(columns={'Investor': 'Number of Investments by Investor'}, inplace=True)\n",
    "funding_count_investor.drop(funding_count_investor[funding_count_investor.index == 'Undisclosed Investors'].index, inplace=True)\n",
    "funding_count_investor.drop(funding_count_investor[funding_count_investor.index == 'Undisclosed investors'].index, inplace=True)\n",
    "funding_count_investor.head()"
   ]
  },
  {
   "cell_type": "code",
   "execution_count": 951,
   "metadata": {},
   "outputs": [
    {
     "data": {
      "text/html": [
       "<div>\n",
       "<style scoped>\n",
       "    .dataframe tbody tr th:only-of-type {\n",
       "        vertical-align: middle;\n",
       "    }\n",
       "\n",
       "    .dataframe tbody tr th {\n",
       "        vertical-align: top;\n",
       "    }\n",
       "\n",
       "    .dataframe thead th {\n",
       "        text-align: right;\n",
       "    }\n",
       "</style>\n",
       "<table border=\"1\" class=\"dataframe\">\n",
       "  <thead>\n",
       "    <tr style=\"text-align: right;\">\n",
       "      <th></th>\n",
       "      <th>Funding by Investor(USD-Bn)</th>\n",
       "    </tr>\n",
       "    <tr>\n",
       "      <th>Investor</th>\n",
       "      <th></th>\n",
       "    </tr>\n",
       "  </thead>\n",
       "  <tbody>\n",
       "    <tr>\n",
       "      <th>Westbridge Capital</th>\n",
       "      <td>3.900000e+09</td>\n",
       "    </tr>\n",
       "    <tr>\n",
       "      <th>Softbank</th>\n",
       "      <td>2.500000e+09</td>\n",
       "    </tr>\n",
       "    <tr>\n",
       "      <th>Tiger Global</th>\n",
       "      <td>2.130500e+09</td>\n",
       "    </tr>\n",
       "    <tr>\n",
       "      <th>Goldman Sachs</th>\n",
       "      <td>2.035000e+09</td>\n",
       "    </tr>\n",
       "    <tr>\n",
       "      <th>IndianIdeas</th>\n",
       "      <td>2.019350e+09</td>\n",
       "    </tr>\n",
       "  </tbody>\n",
       "</table>\n",
       "</div>"
      ],
      "text/plain": [
       "                    Funding by Investor(USD-Bn)\n",
       "Investor                                       \n",
       "Westbridge Capital                 3.900000e+09\n",
       "Softbank                           2.500000e+09\n",
       "Tiger Global                       2.130500e+09\n",
       "Goldman Sachs                      2.035000e+09\n",
       "IndianIdeas                        2.019350e+09"
      ]
     },
     "execution_count": 951,
     "metadata": {},
     "output_type": "execute_result"
    }
   ],
   "source": [
    "funding_total_investor = pd.DataFrame(df.groupby(['Investor'])['AmountInUSD'].sum()).sort_values(by=\"AmountInUSD\", ascending=False)[:15]\n",
    "funding_total_investor.rename(columns={'AmountInUSD':'Funding by Investor(USD-Bn)'}, inplace=True)\n",
    "funding_total_investor.head()"
   ]
  },
  {
   "cell_type": "code",
   "execution_count": 952,
   "metadata": {},
   "outputs": [
    {
     "data": {
      "text/html": [
       "<div>\n",
       "<style scoped>\n",
       "    .dataframe tbody tr th:only-of-type {\n",
       "        vertical-align: middle;\n",
       "    }\n",
       "\n",
       "    .dataframe tbody tr th {\n",
       "        vertical-align: top;\n",
       "    }\n",
       "\n",
       "    .dataframe thead th {\n",
       "        text-align: right;\n",
       "    }\n",
       "</style>\n",
       "<table border=\"1\" class=\"dataframe\">\n",
       "  <thead>\n",
       "    <tr style=\"text-align: right;\">\n",
       "      <th></th>\n",
       "      <th>Number of Investments by Investor</th>\n",
       "    </tr>\n",
       "  </thead>\n",
       "  <tbody>\n",
       "    <tr>\n",
       "      <th>Ola Cabs</th>\n",
       "      <td>12</td>\n",
       "    </tr>\n",
       "    <tr>\n",
       "      <th>Swiggy</th>\n",
       "      <td>9</td>\n",
       "    </tr>\n",
       "    <tr>\n",
       "      <th>Nykaa</th>\n",
       "      <td>8</td>\n",
       "    </tr>\n",
       "    <tr>\n",
       "      <th>OYO</th>\n",
       "      <td>7</td>\n",
       "    </tr>\n",
       "    <tr>\n",
       "      <th>Paytm</th>\n",
       "      <td>7</td>\n",
       "    </tr>\n",
       "  </tbody>\n",
       "</table>\n",
       "</div>"
      ],
      "text/plain": [
       "          Number of Investments by Investor\n",
       "Ola Cabs                                 12\n",
       "Swiggy                                    9\n",
       "Nykaa                                     8\n",
       "OYO                                       7\n",
       "Paytm                                     7"
      ]
     },
     "execution_count": 952,
     "metadata": {},
     "output_type": "execute_result"
    }
   ],
   "source": [
    "funding_count_company = pd.DataFrame(df['Name'].value_counts()).sort_values(by='Name', ascending=False)[:15]\n",
    "funding_count_company.rename(columns={'Name': 'Number of Investments by Investor'}, inplace=True)\n",
    "funding_count_company.head(5)"
   ]
  },
  {
   "cell_type": "code",
   "execution_count": 953,
   "metadata": {},
   "outputs": [
    {
     "data": {
      "text/html": [
       "<div>\n",
       "<style scoped>\n",
       "    .dataframe tbody tr th:only-of-type {\n",
       "        vertical-align: middle;\n",
       "    }\n",
       "\n",
       "    .dataframe tbody tr th {\n",
       "        vertical-align: top;\n",
       "    }\n",
       "\n",
       "    .dataframe thead th {\n",
       "        text-align: right;\n",
       "    }\n",
       "</style>\n",
       "<table border=\"1\" class=\"dataframe\">\n",
       "  <thead>\n",
       "    <tr style=\"text-align: right;\">\n",
       "      <th></th>\n",
       "      <th>Total amount Raised by Startup (USD-Bn)</th>\n",
       "    </tr>\n",
       "    <tr>\n",
       "      <th>Name</th>\n",
       "      <th></th>\n",
       "    </tr>\n",
       "  </thead>\n",
       "  <tbody>\n",
       "    <tr>\n",
       "      <th>Flipkart</th>\n",
       "      <td>4.759700e+09</td>\n",
       "    </tr>\n",
       "    <tr>\n",
       "      <th>Rapido Bike Taxi</th>\n",
       "      <td>3.900000e+09</td>\n",
       "    </tr>\n",
       "    <tr>\n",
       "      <th>Paytm</th>\n",
       "      <td>3.148950e+09</td>\n",
       "    </tr>\n",
       "    <tr>\n",
       "      <th>News Inshorts</th>\n",
       "      <td>2.020000e+09</td>\n",
       "    </tr>\n",
       "    <tr>\n",
       "      <th>Loyalty Rewards</th>\n",
       "      <td>2.019350e+09</td>\n",
       "    </tr>\n",
       "    <tr>\n",
       "      <th>Bluestone</th>\n",
       "      <td>2.016200e+09</td>\n",
       "    </tr>\n",
       "    <tr>\n",
       "      <th>Mamagoto</th>\n",
       "      <td>2.010000e+09</td>\n",
       "    </tr>\n",
       "    <tr>\n",
       "      <th>OYO</th>\n",
       "      <td>1.860000e+09</td>\n",
       "    </tr>\n",
       "    <tr>\n",
       "      <th>Ola Cabs</th>\n",
       "      <td>1.654200e+09</td>\n",
       "    </tr>\n",
       "    <tr>\n",
       "      <th>Pratilipi</th>\n",
       "      <td>1.515250e+09</td>\n",
       "    </tr>\n",
       "  </tbody>\n",
       "</table>\n",
       "</div>"
      ],
      "text/plain": [
       "                  Total amount Raised by Startup (USD-Bn)\n",
       "Name                                                     \n",
       "Flipkart                                     4.759700e+09\n",
       "Rapido Bike Taxi                             3.900000e+09\n",
       "Paytm                                        3.148950e+09\n",
       "News Inshorts                                2.020000e+09\n",
       "Loyalty Rewards                              2.019350e+09\n",
       "Bluestone                                    2.016200e+09\n",
       "Mamagoto                                     2.010000e+09\n",
       "OYO                                          1.860000e+09\n",
       "Ola Cabs                                     1.654200e+09\n",
       "Pratilipi                                    1.515250e+09"
      ]
     },
     "execution_count": 953,
     "metadata": {},
     "output_type": "execute_result"
    }
   ],
   "source": [
    "funding_total_company = pd.DataFrame(df.groupby('Name')['AmountInUSD'].sum()).sort_values(by='AmountInUSD', ascending=False)[:15]\n",
    "funding_total_company.rename(columns={'AmountInUSD': \"Total amount Raised by Startup (USD-Bn)\"}, inplace=True)\n",
    "funding_total_company.head(10)"
   ]
  },
  {
   "cell_type": "code",
   "execution_count": 954,
   "metadata": {
    "scrolled": true
   },
   "outputs": [
    {
     "data": {
      "text/html": [
       "<div>\n",
       "<style scoped>\n",
       "    .dataframe tbody tr th:only-of-type {\n",
       "        vertical-align: middle;\n",
       "    }\n",
       "\n",
       "    .dataframe tbody tr th {\n",
       "        vertical-align: top;\n",
       "    }\n",
       "\n",
       "    .dataframe thead th {\n",
       "        text-align: right;\n",
       "    }\n",
       "</style>\n",
       "<table border=\"1\" class=\"dataframe\">\n",
       "  <thead>\n",
       "    <tr style=\"text-align: right;\">\n",
       "      <th></th>\n",
       "      <th>S.No</th>\n",
       "      <th>Date</th>\n",
       "      <th>Name</th>\n",
       "      <th>Industry</th>\n",
       "      <th>SubVertical</th>\n",
       "      <th>City</th>\n",
       "      <th>Investor</th>\n",
       "      <th>Type</th>\n",
       "      <th>AmountInUSD</th>\n",
       "      <th>Year</th>\n",
       "      <th>Month</th>\n",
       "      <th>NewDate</th>\n",
       "    </tr>\n",
       "  </thead>\n",
       "  <tbody>\n",
       "    <tr>\n",
       "      <th>0</th>\n",
       "      <td>1</td>\n",
       "      <td>2020-09-01</td>\n",
       "      <td>Byju’s</td>\n",
       "      <td>EdTech</td>\n",
       "      <td>E-learning</td>\n",
       "      <td>Bengaluru</td>\n",
       "      <td>Tiger Global Management</td>\n",
       "      <td>Private Equity Round</td>\n",
       "      <td>200000000.0</td>\n",
       "      <td>2020</td>\n",
       "      <td>01</td>\n",
       "      <td>09/01/2020</td>\n",
       "    </tr>\n",
       "    <tr>\n",
       "      <th>19</th>\n",
       "      <td>20</td>\n",
       "      <td>2019-11-13</td>\n",
       "      <td>Sunstone Eduversity Pvt. Ltd</td>\n",
       "      <td>EdTech</td>\n",
       "      <td>Elearning</td>\n",
       "      <td>Gurgaon</td>\n",
       "      <td>Prime Venture Partners, LetsVenture, PS1 Ventu...</td>\n",
       "      <td>Seed</td>\n",
       "      <td>1500000.0</td>\n",
       "      <td>2019</td>\n",
       "      <td>11</td>\n",
       "      <td>13/11/2019</td>\n",
       "    </tr>\n",
       "    <tr>\n",
       "      <th>30</th>\n",
       "      <td>31</td>\n",
       "      <td>2019-11-19</td>\n",
       "      <td>Furtados School of Music</td>\n",
       "      <td>EdTech</td>\n",
       "      <td>Music Education</td>\n",
       "      <td>Tulangan</td>\n",
       "      <td>IAN Fund and DSG Consumer Partners</td>\n",
       "      <td>Funding Round</td>\n",
       "      <td>200000000.0</td>\n",
       "      <td>2019</td>\n",
       "      <td>11</td>\n",
       "      <td>19/11/2019</td>\n",
       "    </tr>\n",
       "    <tr>\n",
       "      <th>57</th>\n",
       "      <td>58</td>\n",
       "      <td>2019-08-23</td>\n",
       "      <td>AdmitKard</td>\n",
       "      <td>EdTech</td>\n",
       "      <td>University Admissions</td>\n",
       "      <td>Noida</td>\n",
       "      <td>Growth DNA</td>\n",
       "      <td>Seed Round</td>\n",
       "      <td>1000000.0</td>\n",
       "      <td>2019</td>\n",
       "      <td>08</td>\n",
       "      <td>23/08/2019</td>\n",
       "    </tr>\n",
       "    <tr>\n",
       "      <th>67</th>\n",
       "      <td>68</td>\n",
       "      <td>2019-10-07</td>\n",
       "      <td>Byju's</td>\n",
       "      <td>EdTech</td>\n",
       "      <td>Education</td>\n",
       "      <td>Bengaluru</td>\n",
       "      <td>Qatar Investment Authority</td>\n",
       "      <td>Private Equity Round</td>\n",
       "      <td>150000000.0</td>\n",
       "      <td>2019</td>\n",
       "      <td>07</td>\n",
       "      <td>10/07/2019</td>\n",
       "    </tr>\n",
       "    <tr>\n",
       "      <th>...</th>\n",
       "      <td>...</td>\n",
       "      <td>...</td>\n",
       "      <td>...</td>\n",
       "      <td>...</td>\n",
       "      <td>...</td>\n",
       "      <td>...</td>\n",
       "      <td>...</td>\n",
       "      <td>...</td>\n",
       "      <td>...</td>\n",
       "      <td>...</td>\n",
       "      <td>...</td>\n",
       "      <td>...</td>\n",
       "    </tr>\n",
       "    <tr>\n",
       "      <th>3090</th>\n",
       "      <td>3091</td>\n",
       "      <td>2020-02-04</td>\n",
       "      <td>Camp K-12</td>\n",
       "      <td>EdTech</td>\n",
       "      <td>Education</td>\n",
       "      <td>Gurugram</td>\n",
       "      <td>SAIF Partners and Matrix</td>\n",
       "      <td>Seed</td>\n",
       "      <td>4000000.0</td>\n",
       "      <td>2020</td>\n",
       "      <td>04</td>\n",
       "      <td>02/04/2020</td>\n",
       "    </tr>\n",
       "    <tr>\n",
       "      <th>3091</th>\n",
       "      <td>3092</td>\n",
       "      <td>2020-02-04</td>\n",
       "      <td>Lido Learning</td>\n",
       "      <td>EdTech</td>\n",
       "      <td>Education</td>\n",
       "      <td>Mumbai</td>\n",
       "      <td>Picus Capital</td>\n",
       "      <td>Series B</td>\n",
       "      <td>7500000.0</td>\n",
       "      <td>2020</td>\n",
       "      <td>04</td>\n",
       "      <td>02/04/2020</td>\n",
       "    </tr>\n",
       "    <tr>\n",
       "      <th>3092</th>\n",
       "      <td>3093</td>\n",
       "      <td>2020-02-03</td>\n",
       "      <td>Lido Learning</td>\n",
       "      <td>EdTech</td>\n",
       "      <td>Education</td>\n",
       "      <td>Mumbai</td>\n",
       "      <td>BAce Capital</td>\n",
       "      <td>Series B</td>\n",
       "      <td>3000000.0</td>\n",
       "      <td>2020</td>\n",
       "      <td>03</td>\n",
       "      <td>02/03/2020</td>\n",
       "    </tr>\n",
       "    <tr>\n",
       "      <th>3093</th>\n",
       "      <td>3094</td>\n",
       "      <td>2019-11-04</td>\n",
       "      <td>WhiteHat Jr</td>\n",
       "      <td>EdTech</td>\n",
       "      <td>Coding Skill Showcase &amp; Resume Builder</td>\n",
       "      <td>Mumbai</td>\n",
       "      <td>Nexus Venture Partners, Omidyar Network</td>\n",
       "      <td>Seed</td>\n",
       "      <td>1200000.0</td>\n",
       "      <td>2019</td>\n",
       "      <td>04</td>\n",
       "      <td>11/04/2019</td>\n",
       "    </tr>\n",
       "    <tr>\n",
       "      <th>3094</th>\n",
       "      <td>3095</td>\n",
       "      <td>2019-11-09</td>\n",
       "      <td>WhiteHat Jr</td>\n",
       "      <td>EdTech</td>\n",
       "      <td>Coding Skill Showcase &amp; Resume Builder</td>\n",
       "      <td>Mumbai</td>\n",
       "      <td>Nexus Venture Partners, Omidyar Network</td>\n",
       "      <td>Series A</td>\n",
       "      <td>10000000.0</td>\n",
       "      <td>2019</td>\n",
       "      <td>09</td>\n",
       "      <td>11/09/2019</td>\n",
       "    </tr>\n",
       "  </tbody>\n",
       "</table>\n",
       "<p>64 rows × 12 columns</p>\n",
       "</div>"
      ],
      "text/plain": [
       "      S.No       Date                          Name Industry  \\\n",
       "0        1 2020-09-01                        Byju’s   EdTech   \n",
       "19      20 2019-11-13  Sunstone Eduversity Pvt. Ltd   EdTech   \n",
       "30      31 2019-11-19      Furtados School of Music   EdTech   \n",
       "57      58 2019-08-23                     AdmitKard   EdTech   \n",
       "67      68 2019-10-07                        Byju's   EdTech   \n",
       "...    ...        ...                           ...      ...   \n",
       "3090  3091 2020-02-04                     Camp K-12   EdTech   \n",
       "3091  3092 2020-02-04                 Lido Learning   EdTech   \n",
       "3092  3093 2020-02-03                 Lido Learning   EdTech   \n",
       "3093  3094 2019-11-04                   WhiteHat Jr   EdTech   \n",
       "3094  3095 2019-11-09                   WhiteHat Jr   EdTech   \n",
       "\n",
       "                                 SubVertical       City  \\\n",
       "0                                 E-learning  Bengaluru   \n",
       "19                                 Elearning    Gurgaon   \n",
       "30                           Music Education   Tulangan   \n",
       "57                     University Admissions      Noida   \n",
       "67                                 Education  Bengaluru   \n",
       "...                                      ...        ...   \n",
       "3090                               Education   Gurugram   \n",
       "3091                               Education     Mumbai   \n",
       "3092                               Education     Mumbai   \n",
       "3093  Coding Skill Showcase & Resume Builder     Mumbai   \n",
       "3094  Coding Skill Showcase & Resume Builder     Mumbai   \n",
       "\n",
       "                                               Investor                  Type  \\\n",
       "0                               Tiger Global Management  Private Equity Round   \n",
       "19    Prime Venture Partners, LetsVenture, PS1 Ventu...                  Seed   \n",
       "30                   IAN Fund and DSG Consumer Partners         Funding Round   \n",
       "57                                           Growth DNA            Seed Round   \n",
       "67                           Qatar Investment Authority  Private Equity Round   \n",
       "...                                                 ...                   ...   \n",
       "3090                           SAIF Partners and Matrix                  Seed   \n",
       "3091                                      Picus Capital              Series B   \n",
       "3092                                       BAce Capital              Series B   \n",
       "3093            Nexus Venture Partners, Omidyar Network                  Seed   \n",
       "3094            Nexus Venture Partners, Omidyar Network              Series A   \n",
       "\n",
       "      AmountInUSD  Year Month     NewDate  \n",
       "0     200000000.0  2020    01  09/01/2020  \n",
       "19      1500000.0  2019    11  13/11/2019  \n",
       "30    200000000.0  2019    11  19/11/2019  \n",
       "57      1000000.0  2019    08  23/08/2019  \n",
       "67    150000000.0  2019    07  10/07/2019  \n",
       "...           ...   ...   ...         ...  \n",
       "3090    4000000.0  2020    04  02/04/2020  \n",
       "3091    7500000.0  2020    04  02/04/2020  \n",
       "3092    3000000.0  2020    03  02/03/2020  \n",
       "3093    1200000.0  2019    04  11/04/2019  \n",
       "3094   10000000.0  2019    09  11/09/2019  \n",
       "\n",
       "[64 rows x 12 columns]"
      ]
     },
     "execution_count": 954,
     "metadata": {},
     "output_type": "execute_result"
    }
   ],
   "source": [
    "df1=df[(df['Industry']=='EdTech')]\n",
    "df1"
   ]
  },
  {
   "cell_type": "code",
   "execution_count": 955,
   "metadata": {},
   "outputs": [],
   "source": [
    "df1.at[67,\"Name\"]= \"Byju\\'s\"\n",
    "df1.at[1356,\"Name\"]= \"Byju\\'s\"\n",
    "df1.at[0,\"Name\"]= \"Byju\\'s\""
   ]
  },
  {
   "cell_type": "code",
   "execution_count": 956,
   "metadata": {},
   "outputs": [
    {
     "data": {
      "text/html": [
       "<div>\n",
       "<style scoped>\n",
       "    .dataframe tbody tr th:only-of-type {\n",
       "        vertical-align: middle;\n",
       "    }\n",
       "\n",
       "    .dataframe tbody tr th {\n",
       "        vertical-align: top;\n",
       "    }\n",
       "\n",
       "    .dataframe thead th {\n",
       "        text-align: right;\n",
       "    }\n",
       "</style>\n",
       "<table border=\"1\" class=\"dataframe\">\n",
       "  <thead>\n",
       "    <tr style=\"text-align: right;\">\n",
       "      <th></th>\n",
       "      <th>S.No</th>\n",
       "      <th>Date</th>\n",
       "      <th>Name</th>\n",
       "      <th>Industry</th>\n",
       "      <th>SubVertical</th>\n",
       "      <th>City</th>\n",
       "      <th>Investor</th>\n",
       "      <th>Type</th>\n",
       "      <th>AmountInUSD</th>\n",
       "      <th>Year</th>\n",
       "      <th>Month</th>\n",
       "      <th>NewDate</th>\n",
       "    </tr>\n",
       "  </thead>\n",
       "  <tbody>\n",
       "    <tr>\n",
       "      <th>0</th>\n",
       "      <td>1</td>\n",
       "      <td>2020-09-01</td>\n",
       "      <td>Byju's</td>\n",
       "      <td>EdTech</td>\n",
       "      <td>E-learning</td>\n",
       "      <td>Bengaluru</td>\n",
       "      <td>Tiger Global Management</td>\n",
       "      <td>Private Equity Round</td>\n",
       "      <td>200000000.0</td>\n",
       "      <td>2020</td>\n",
       "      <td>01</td>\n",
       "      <td>09/01/2020</td>\n",
       "    </tr>\n",
       "    <tr>\n",
       "      <th>3047</th>\n",
       "      <td>3048</td>\n",
       "      <td>2020-01-31</td>\n",
       "      <td>DoubtNut</td>\n",
       "      <td>EdTech</td>\n",
       "      <td>Online Tutoring</td>\n",
       "      <td>Gurugram</td>\n",
       "      <td>Tencent Holdings</td>\n",
       "      <td>Series A</td>\n",
       "      <td>15000000.0</td>\n",
       "      <td>2020</td>\n",
       "      <td>01</td>\n",
       "      <td>31/01/2020</td>\n",
       "    </tr>\n",
       "    <tr>\n",
       "      <th>3049</th>\n",
       "      <td>3050</td>\n",
       "      <td>2020-03-02</td>\n",
       "      <td>Embibe</td>\n",
       "      <td>EdTech</td>\n",
       "      <td>AI based learning</td>\n",
       "      <td>Mumbai</td>\n",
       "      <td>Reliance Industries Limited (RIL)</td>\n",
       "      <td>Venture Series</td>\n",
       "      <td>12625020.0</td>\n",
       "      <td>2020</td>\n",
       "      <td>02</td>\n",
       "      <td>03/02/2020</td>\n",
       "    </tr>\n",
       "    <tr>\n",
       "      <th>3055</th>\n",
       "      <td>3056</td>\n",
       "      <td>2020-05-02</td>\n",
       "      <td>WizKlub</td>\n",
       "      <td>EdTech</td>\n",
       "      <td>Online Tutoring</td>\n",
       "      <td>Bangalore</td>\n",
       "      <td>Incubate Fund India and Insitor Impact Asia Fund</td>\n",
       "      <td>Seed</td>\n",
       "      <td>1000000.0</td>\n",
       "      <td>2020</td>\n",
       "      <td>02</td>\n",
       "      <td>05/02/2020</td>\n",
       "    </tr>\n",
       "    <tr>\n",
       "      <th>3060</th>\n",
       "      <td>3061</td>\n",
       "      <td>2020-02-19</td>\n",
       "      <td>Unacademy</td>\n",
       "      <td>EdTech</td>\n",
       "      <td>Online Tutoring</td>\n",
       "      <td>Bangalore</td>\n",
       "      <td>General Atlantic, Sequoia Capital India, and F...</td>\n",
       "      <td>Series D</td>\n",
       "      <td>110000000.0</td>\n",
       "      <td>2020</td>\n",
       "      <td>02</td>\n",
       "      <td>19/02/2020</td>\n",
       "    </tr>\n",
       "    <tr>\n",
       "      <th>3064</th>\n",
       "      <td>3065</td>\n",
       "      <td>2020-03-13</td>\n",
       "      <td>CollegeKhabri</td>\n",
       "      <td>EdTech</td>\n",
       "      <td>Education</td>\n",
       "      <td>Bhopal</td>\n",
       "      <td>Vdiec Global</td>\n",
       "      <td>Angel</td>\n",
       "      <td>0.0</td>\n",
       "      <td>2020</td>\n",
       "      <td>03</td>\n",
       "      <td>13/03/2020</td>\n",
       "    </tr>\n",
       "    <tr>\n",
       "      <th>3069</th>\n",
       "      <td>3070</td>\n",
       "      <td>2020-09-04</td>\n",
       "      <td>Vedantu</td>\n",
       "      <td>EdTech</td>\n",
       "      <td>Online Tutoring</td>\n",
       "      <td>Bengaluru</td>\n",
       "      <td>Legend Capital</td>\n",
       "      <td>Series C1</td>\n",
       "      <td>12560000.0</td>\n",
       "      <td>2020</td>\n",
       "      <td>04</td>\n",
       "      <td>09/04/2020</td>\n",
       "    </tr>\n",
       "    <tr>\n",
       "      <th>3083</th>\n",
       "      <td>3084</td>\n",
       "      <td>2020-05-05</td>\n",
       "      <td>Classplus</td>\n",
       "      <td>EdTech</td>\n",
       "      <td>e-learning, education solutions.</td>\n",
       "      <td>Noida</td>\n",
       "      <td>RTP Global, lume Ventures, Sequoia Capital Ind...</td>\n",
       "      <td>Series A</td>\n",
       "      <td>9000000.0</td>\n",
       "      <td>2020</td>\n",
       "      <td>05</td>\n",
       "      <td>05/05/2020</td>\n",
       "    </tr>\n",
       "    <tr>\n",
       "      <th>3087</th>\n",
       "      <td>3088</td>\n",
       "      <td>2020-02-04</td>\n",
       "      <td>Guvi</td>\n",
       "      <td>EdTech</td>\n",
       "      <td>Education</td>\n",
       "      <td>Chennai</td>\n",
       "      <td>CBA Capital</td>\n",
       "      <td>Seed</td>\n",
       "      <td>700000.0</td>\n",
       "      <td>2020</td>\n",
       "      <td>04</td>\n",
       "      <td>02/04/2020</td>\n",
       "    </tr>\n",
       "    <tr>\n",
       "      <th>3088</th>\n",
       "      <td>3089</td>\n",
       "      <td>2020-02-04</td>\n",
       "      <td>Vedantu</td>\n",
       "      <td>EdTech</td>\n",
       "      <td>Education</td>\n",
       "      <td>Bangalore</td>\n",
       "      <td>KB Global</td>\n",
       "      <td>Series C</td>\n",
       "      <td>6800000.0</td>\n",
       "      <td>2020</td>\n",
       "      <td>04</td>\n",
       "      <td>02/04/2020</td>\n",
       "    </tr>\n",
       "    <tr>\n",
       "      <th>3089</th>\n",
       "      <td>3090</td>\n",
       "      <td>2020-02-04</td>\n",
       "      <td>Pedagogy</td>\n",
       "      <td>EdTech</td>\n",
       "      <td>Education</td>\n",
       "      <td>Ahmedabad</td>\n",
       "      <td>Inflection Point Venture</td>\n",
       "      <td>Seed</td>\n",
       "      <td>400000.0</td>\n",
       "      <td>2020</td>\n",
       "      <td>04</td>\n",
       "      <td>02/04/2020</td>\n",
       "    </tr>\n",
       "    <tr>\n",
       "      <th>3090</th>\n",
       "      <td>3091</td>\n",
       "      <td>2020-02-04</td>\n",
       "      <td>Camp K-12</td>\n",
       "      <td>EdTech</td>\n",
       "      <td>Education</td>\n",
       "      <td>Gurugram</td>\n",
       "      <td>SAIF Partners and Matrix</td>\n",
       "      <td>Seed</td>\n",
       "      <td>4000000.0</td>\n",
       "      <td>2020</td>\n",
       "      <td>04</td>\n",
       "      <td>02/04/2020</td>\n",
       "    </tr>\n",
       "    <tr>\n",
       "      <th>3091</th>\n",
       "      <td>3092</td>\n",
       "      <td>2020-02-04</td>\n",
       "      <td>Lido Learning</td>\n",
       "      <td>EdTech</td>\n",
       "      <td>Education</td>\n",
       "      <td>Mumbai</td>\n",
       "      <td>Picus Capital</td>\n",
       "      <td>Series B</td>\n",
       "      <td>7500000.0</td>\n",
       "      <td>2020</td>\n",
       "      <td>04</td>\n",
       "      <td>02/04/2020</td>\n",
       "    </tr>\n",
       "    <tr>\n",
       "      <th>3092</th>\n",
       "      <td>3093</td>\n",
       "      <td>2020-02-03</td>\n",
       "      <td>Lido Learning</td>\n",
       "      <td>EdTech</td>\n",
       "      <td>Education</td>\n",
       "      <td>Mumbai</td>\n",
       "      <td>BAce Capital</td>\n",
       "      <td>Series B</td>\n",
       "      <td>3000000.0</td>\n",
       "      <td>2020</td>\n",
       "      <td>03</td>\n",
       "      <td>02/03/2020</td>\n",
       "    </tr>\n",
       "  </tbody>\n",
       "</table>\n",
       "</div>"
      ],
      "text/plain": [
       "      S.No       Date           Name Industry  \\\n",
       "0        1 2020-09-01         Byju's   EdTech   \n",
       "3047  3048 2020-01-31       DoubtNut   EdTech   \n",
       "3049  3050 2020-03-02         Embibe   EdTech   \n",
       "3055  3056 2020-05-02        WizKlub   EdTech   \n",
       "3060  3061 2020-02-19      Unacademy   EdTech   \n",
       "3064  3065 2020-03-13  CollegeKhabri   EdTech   \n",
       "3069  3070 2020-09-04        Vedantu   EdTech   \n",
       "3083  3084 2020-05-05      Classplus   EdTech   \n",
       "3087  3088 2020-02-04           Guvi   EdTech   \n",
       "3088  3089 2020-02-04        Vedantu   EdTech   \n",
       "3089  3090 2020-02-04       Pedagogy   EdTech   \n",
       "3090  3091 2020-02-04      Camp K-12   EdTech   \n",
       "3091  3092 2020-02-04  Lido Learning   EdTech   \n",
       "3092  3093 2020-02-03  Lido Learning   EdTech   \n",
       "\n",
       "                           SubVertical       City  \\\n",
       "0                           E-learning  Bengaluru   \n",
       "3047                   Online Tutoring   Gurugram   \n",
       "3049                 AI based learning     Mumbai   \n",
       "3055                   Online Tutoring  Bangalore   \n",
       "3060                   Online Tutoring  Bangalore   \n",
       "3064                         Education     Bhopal   \n",
       "3069                   Online Tutoring  Bengaluru   \n",
       "3083  e-learning, education solutions.      Noida   \n",
       "3087                         Education    Chennai   \n",
       "3088                         Education  Bangalore   \n",
       "3089                         Education  Ahmedabad   \n",
       "3090                         Education   Gurugram   \n",
       "3091                         Education     Mumbai   \n",
       "3092                         Education     Mumbai   \n",
       "\n",
       "                                               Investor                  Type  \\\n",
       "0                               Tiger Global Management  Private Equity Round   \n",
       "3047                                   Tencent Holdings              Series A   \n",
       "3049                  Reliance Industries Limited (RIL)        Venture Series   \n",
       "3055   Incubate Fund India and Insitor Impact Asia Fund                  Seed   \n",
       "3060  General Atlantic, Sequoia Capital India, and F...              Series D   \n",
       "3064                                       Vdiec Global                 Angel   \n",
       "3069                                     Legend Capital             Series C1   \n",
       "3083  RTP Global, lume Ventures, Sequoia Capital Ind...              Series A   \n",
       "3087                                        CBA Capital                  Seed   \n",
       "3088                                          KB Global              Series C   \n",
       "3089                           Inflection Point Venture                  Seed   \n",
       "3090                           SAIF Partners and Matrix                  Seed   \n",
       "3091                                      Picus Capital              Series B   \n",
       "3092                                       BAce Capital              Series B   \n",
       "\n",
       "      AmountInUSD  Year Month     NewDate  \n",
       "0     200000000.0  2020    01  09/01/2020  \n",
       "3047   15000000.0  2020    01  31/01/2020  \n",
       "3049   12625020.0  2020    02  03/02/2020  \n",
       "3055    1000000.0  2020    02  05/02/2020  \n",
       "3060  110000000.0  2020    02  19/02/2020  \n",
       "3064          0.0  2020    03  13/03/2020  \n",
       "3069   12560000.0  2020    04  09/04/2020  \n",
       "3083    9000000.0  2020    05  05/05/2020  \n",
       "3087     700000.0  2020    04  02/04/2020  \n",
       "3088    6800000.0  2020    04  02/04/2020  \n",
       "3089     400000.0  2020    04  02/04/2020  \n",
       "3090    4000000.0  2020    04  02/04/2020  \n",
       "3091    7500000.0  2020    04  02/04/2020  \n",
       "3092    3000000.0  2020    03  02/03/2020  "
      ]
     },
     "execution_count": 956,
     "metadata": {},
     "output_type": "execute_result"
    }
   ],
   "source": [
    "df1[df1['Year']=='2020']"
   ]
  },
  {
   "cell_type": "code",
   "execution_count": 957,
   "metadata": {},
   "outputs": [
    {
     "data": {
      "text/html": [
       "<div>\n",
       "<style scoped>\n",
       "    .dataframe tbody tr th:only-of-type {\n",
       "        vertical-align: middle;\n",
       "    }\n",
       "\n",
       "    .dataframe tbody tr th {\n",
       "        vertical-align: top;\n",
       "    }\n",
       "\n",
       "    .dataframe thead th {\n",
       "        text-align: right;\n",
       "    }\n",
       "</style>\n",
       "<table border=\"1\" class=\"dataframe\">\n",
       "  <thead>\n",
       "    <tr style=\"text-align: right;\">\n",
       "      <th></th>\n",
       "      <th>S.No</th>\n",
       "      <th>Date</th>\n",
       "      <th>Name</th>\n",
       "      <th>Industry</th>\n",
       "      <th>SubVertical</th>\n",
       "      <th>City</th>\n",
       "      <th>Investor</th>\n",
       "      <th>Type</th>\n",
       "      <th>AmountInUSD</th>\n",
       "      <th>Year</th>\n",
       "      <th>Month</th>\n",
       "      <th>NewDate</th>\n",
       "    </tr>\n",
       "  </thead>\n",
       "  <tbody>\n",
       "    <tr>\n",
       "      <th>286</th>\n",
       "      <td>287</td>\n",
       "      <td>2018-05-04</td>\n",
       "      <td>Vedantu</td>\n",
       "      <td>EdTech</td>\n",
       "      <td>Interactive Online Tutoring Platform</td>\n",
       "      <td>Bangalore</td>\n",
       "      <td>Accel Partners, Tiger Global And Others</td>\n",
       "      <td>Private Equity</td>\n",
       "      <td>10000000.0</td>\n",
       "      <td>2018</td>\n",
       "      <td>04</td>\n",
       "      <td>05/04/2018</td>\n",
       "    </tr>\n",
       "    <tr>\n",
       "      <th>2767</th>\n",
       "      <td>2768</td>\n",
       "      <td>2015-07-05</td>\n",
       "      <td>Vedantu</td>\n",
       "      <td>EdTech</td>\n",
       "      <td>NaN</td>\n",
       "      <td>Bangalore</td>\n",
       "      <td>Accel Partners, Tiger Global Management</td>\n",
       "      <td>Private Equity</td>\n",
       "      <td>5000000.0</td>\n",
       "      <td>2015</td>\n",
       "      <td>05</td>\n",
       "      <td>07/05/2015</td>\n",
       "    </tr>\n",
       "    <tr>\n",
       "      <th>3069</th>\n",
       "      <td>3070</td>\n",
       "      <td>2020-09-04</td>\n",
       "      <td>Vedantu</td>\n",
       "      <td>EdTech</td>\n",
       "      <td>Online Tutoring</td>\n",
       "      <td>Bengaluru</td>\n",
       "      <td>Legend Capital</td>\n",
       "      <td>Series C1</td>\n",
       "      <td>12560000.0</td>\n",
       "      <td>2020</td>\n",
       "      <td>04</td>\n",
       "      <td>09/04/2020</td>\n",
       "    </tr>\n",
       "    <tr>\n",
       "      <th>3088</th>\n",
       "      <td>3089</td>\n",
       "      <td>2020-02-04</td>\n",
       "      <td>Vedantu</td>\n",
       "      <td>EdTech</td>\n",
       "      <td>Education</td>\n",
       "      <td>Bangalore</td>\n",
       "      <td>KB Global</td>\n",
       "      <td>Series C</td>\n",
       "      <td>6800000.0</td>\n",
       "      <td>2020</td>\n",
       "      <td>04</td>\n",
       "      <td>02/04/2020</td>\n",
       "    </tr>\n",
       "  </tbody>\n",
       "</table>\n",
       "</div>"
      ],
      "text/plain": [
       "      S.No       Date     Name Industry                           SubVertical  \\\n",
       "286    287 2018-05-04  Vedantu   EdTech  Interactive Online Tutoring Platform   \n",
       "2767  2768 2015-07-05  Vedantu   EdTech                                   NaN   \n",
       "3069  3070 2020-09-04  Vedantu   EdTech                       Online Tutoring   \n",
       "3088  3089 2020-02-04  Vedantu   EdTech                             Education   \n",
       "\n",
       "           City                                 Investor            Type  \\\n",
       "286   Bangalore  Accel Partners, Tiger Global And Others  Private Equity   \n",
       "2767  Bangalore  Accel Partners, Tiger Global Management  Private Equity   \n",
       "3069  Bengaluru                           Legend Capital       Series C1   \n",
       "3088  Bangalore                                KB Global        Series C   \n",
       "\n",
       "      AmountInUSD  Year Month     NewDate  \n",
       "286    10000000.0  2018    04  05/04/2018  \n",
       "2767    5000000.0  2015    05  07/05/2015  \n",
       "3069   12560000.0  2020    04  09/04/2020  \n",
       "3088    6800000.0  2020    04  02/04/2020  "
      ]
     },
     "execution_count": 957,
     "metadata": {},
     "output_type": "execute_result"
    }
   ],
   "source": [
    "df[df['Name']=='Vedantu']"
   ]
  },
  {
   "cell_type": "code",
   "execution_count": 958,
   "metadata": {},
   "outputs": [
    {
     "data": {
      "text/html": [
       "<div>\n",
       "<style scoped>\n",
       "    .dataframe tbody tr th:only-of-type {\n",
       "        vertical-align: middle;\n",
       "    }\n",
       "\n",
       "    .dataframe tbody tr th {\n",
       "        vertical-align: top;\n",
       "    }\n",
       "\n",
       "    .dataframe thead th {\n",
       "        text-align: right;\n",
       "    }\n",
       "</style>\n",
       "<table border=\"1\" class=\"dataframe\">\n",
       "  <thead>\n",
       "    <tr style=\"text-align: right;\">\n",
       "      <th></th>\n",
       "      <th>S.No</th>\n",
       "      <th>Date</th>\n",
       "      <th>Name</th>\n",
       "      <th>Industry</th>\n",
       "      <th>SubVertical</th>\n",
       "      <th>City</th>\n",
       "      <th>Investor</th>\n",
       "      <th>Type</th>\n",
       "      <th>AmountInUSD</th>\n",
       "      <th>Year</th>\n",
       "      <th>Month</th>\n",
       "      <th>NewDate</th>\n",
       "    </tr>\n",
       "  </thead>\n",
       "  <tbody>\n",
       "    <tr>\n",
       "      <th>3090</th>\n",
       "      <td>3091</td>\n",
       "      <td>2020-02-04</td>\n",
       "      <td>Camp K-12</td>\n",
       "      <td>EdTech</td>\n",
       "      <td>Education</td>\n",
       "      <td>Gurugram</td>\n",
       "      <td>SAIF Partners and Matrix</td>\n",
       "      <td>Seed</td>\n",
       "      <td>4000000.0</td>\n",
       "      <td>2020</td>\n",
       "      <td>04</td>\n",
       "      <td>02/04/2020</td>\n",
       "    </tr>\n",
       "  </tbody>\n",
       "</table>\n",
       "</div>"
      ],
      "text/plain": [
       "      S.No       Date       Name Industry SubVertical      City  \\\n",
       "3090  3091 2020-02-04  Camp K-12   EdTech   Education  Gurugram   \n",
       "\n",
       "                      Investor  Type  AmountInUSD  Year Month     NewDate  \n",
       "3090  SAIF Partners and Matrix  Seed    4000000.0  2020    04  02/04/2020  "
      ]
     },
     "execution_count": 958,
     "metadata": {},
     "output_type": "execute_result"
    }
   ],
   "source": [
    "df[df['Name'] == 'Camp K-12']"
   ]
  },
  {
   "cell_type": "code",
   "execution_count": 959,
   "metadata": {},
   "outputs": [
    {
     "data": {
      "text/html": [
       "<div>\n",
       "<style scoped>\n",
       "    .dataframe tbody tr th:only-of-type {\n",
       "        vertical-align: middle;\n",
       "    }\n",
       "\n",
       "    .dataframe tbody tr th {\n",
       "        vertical-align: top;\n",
       "    }\n",
       "\n",
       "    .dataframe thead th {\n",
       "        text-align: right;\n",
       "    }\n",
       "</style>\n",
       "<table border=\"1\" class=\"dataframe\">\n",
       "  <thead>\n",
       "    <tr style=\"text-align: right;\">\n",
       "      <th></th>\n",
       "      <th>S.No</th>\n",
       "      <th>Date</th>\n",
       "      <th>Name</th>\n",
       "      <th>Industry</th>\n",
       "      <th>SubVertical</th>\n",
       "      <th>City</th>\n",
       "      <th>Investor</th>\n",
       "      <th>Type</th>\n",
       "      <th>AmountInUSD</th>\n",
       "      <th>Year</th>\n",
       "      <th>Month</th>\n",
       "      <th>NewDate</th>\n",
       "    </tr>\n",
       "  </thead>\n",
       "  <tbody>\n",
       "    <tr>\n",
       "      <th>3091</th>\n",
       "      <td>3092</td>\n",
       "      <td>2020-02-04</td>\n",
       "      <td>Lido Learning</td>\n",
       "      <td>EdTech</td>\n",
       "      <td>Education</td>\n",
       "      <td>Mumbai</td>\n",
       "      <td>Picus Capital</td>\n",
       "      <td>Series B</td>\n",
       "      <td>7500000.0</td>\n",
       "      <td>2020</td>\n",
       "      <td>04</td>\n",
       "      <td>02/04/2020</td>\n",
       "    </tr>\n",
       "    <tr>\n",
       "      <th>3092</th>\n",
       "      <td>3093</td>\n",
       "      <td>2020-02-03</td>\n",
       "      <td>Lido Learning</td>\n",
       "      <td>EdTech</td>\n",
       "      <td>Education</td>\n",
       "      <td>Mumbai</td>\n",
       "      <td>BAce Capital</td>\n",
       "      <td>Series B</td>\n",
       "      <td>3000000.0</td>\n",
       "      <td>2020</td>\n",
       "      <td>03</td>\n",
       "      <td>02/03/2020</td>\n",
       "    </tr>\n",
       "  </tbody>\n",
       "</table>\n",
       "</div>"
      ],
      "text/plain": [
       "      S.No       Date           Name Industry SubVertical    City  \\\n",
       "3091  3092 2020-02-04  Lido Learning   EdTech   Education  Mumbai   \n",
       "3092  3093 2020-02-03  Lido Learning   EdTech   Education  Mumbai   \n",
       "\n",
       "           Investor      Type  AmountInUSD  Year Month     NewDate  \n",
       "3091  Picus Capital  Series B    7500000.0  2020    04  02/04/2020  \n",
       "3092   BAce Capital  Series B    3000000.0  2020    03  02/03/2020  "
      ]
     },
     "execution_count": 959,
     "metadata": {},
     "output_type": "execute_result"
    }
   ],
   "source": [
    "df[df['Name'] == 'Lido Learning']"
   ]
  },
  {
   "cell_type": "code",
   "execution_count": 960,
   "metadata": {},
   "outputs": [
    {
     "data": {
      "text/html": [
       "<div>\n",
       "<style scoped>\n",
       "    .dataframe tbody tr th:only-of-type {\n",
       "        vertical-align: middle;\n",
       "    }\n",
       "\n",
       "    .dataframe tbody tr th {\n",
       "        vertical-align: top;\n",
       "    }\n",
       "\n",
       "    .dataframe thead th {\n",
       "        text-align: right;\n",
       "    }\n",
       "</style>\n",
       "<table border=\"1\" class=\"dataframe\">\n",
       "  <thead>\n",
       "    <tr style=\"text-align: right;\">\n",
       "      <th></th>\n",
       "      <th>S.No</th>\n",
       "      <th>Date</th>\n",
       "      <th>Name</th>\n",
       "      <th>Industry</th>\n",
       "      <th>SubVertical</th>\n",
       "      <th>City</th>\n",
       "      <th>Investor</th>\n",
       "      <th>Type</th>\n",
       "      <th>AmountInUSD</th>\n",
       "      <th>Year</th>\n",
       "      <th>Month</th>\n",
       "      <th>NewDate</th>\n",
       "    </tr>\n",
       "  </thead>\n",
       "  <tbody>\n",
       "    <tr>\n",
       "      <th>3083</th>\n",
       "      <td>3084</td>\n",
       "      <td>2020-05-05</td>\n",
       "      <td>Classplus</td>\n",
       "      <td>EdTech</td>\n",
       "      <td>e-learning, education solutions.</td>\n",
       "      <td>Noida</td>\n",
       "      <td>RTP Global, lume Ventures, Sequoia Capital Ind...</td>\n",
       "      <td>Series A</td>\n",
       "      <td>9000000.0</td>\n",
       "      <td>2020</td>\n",
       "      <td>05</td>\n",
       "      <td>05/05/2020</td>\n",
       "    </tr>\n",
       "  </tbody>\n",
       "</table>\n",
       "</div>"
      ],
      "text/plain": [
       "      S.No       Date       Name Industry                       SubVertical  \\\n",
       "3083  3084 2020-05-05  Classplus   EdTech  e-learning, education solutions.   \n",
       "\n",
       "       City                                           Investor      Type  \\\n",
       "3083  Noida  RTP Global, lume Ventures, Sequoia Capital Ind...  Series A   \n",
       "\n",
       "      AmountInUSD  Year Month     NewDate  \n",
       "3083    9000000.0  2020    05  05/05/2020  "
      ]
     },
     "execution_count": 960,
     "metadata": {},
     "output_type": "execute_result"
    }
   ],
   "source": [
    "df[df['Name'] == 'Classplus']"
   ]
  },
  {
   "cell_type": "code",
   "execution_count": 961,
   "metadata": {},
   "outputs": [
    {
     "data": {
      "text/html": [
       "<div>\n",
       "<style scoped>\n",
       "    .dataframe tbody tr th:only-of-type {\n",
       "        vertical-align: middle;\n",
       "    }\n",
       "\n",
       "    .dataframe tbody tr th {\n",
       "        vertical-align: top;\n",
       "    }\n",
       "\n",
       "    .dataframe thead th {\n",
       "        text-align: right;\n",
       "    }\n",
       "</style>\n",
       "<table border=\"1\" class=\"dataframe\">\n",
       "  <thead>\n",
       "    <tr style=\"text-align: right;\">\n",
       "      <th></th>\n",
       "      <th>S.No</th>\n",
       "      <th>Date</th>\n",
       "      <th>Name</th>\n",
       "      <th>Industry</th>\n",
       "      <th>SubVertical</th>\n",
       "      <th>City</th>\n",
       "      <th>Investor</th>\n",
       "      <th>Type</th>\n",
       "      <th>AmountInUSD</th>\n",
       "      <th>Year</th>\n",
       "      <th>Month</th>\n",
       "      <th>NewDate</th>\n",
       "    </tr>\n",
       "  </thead>\n",
       "  <tbody>\n",
       "    <tr>\n",
       "      <th>0</th>\n",
       "      <td>1</td>\n",
       "      <td>2020-09-01</td>\n",
       "      <td>Byju's</td>\n",
       "      <td>EdTech</td>\n",
       "      <td>E-learning</td>\n",
       "      <td>Bengaluru</td>\n",
       "      <td>Tiger Global Management</td>\n",
       "      <td>Private Equity Round</td>\n",
       "      <td>200000000.0</td>\n",
       "      <td>2020</td>\n",
       "      <td>01</td>\n",
       "      <td>09/01/2020</td>\n",
       "    </tr>\n",
       "    <tr>\n",
       "      <th>67</th>\n",
       "      <td>68</td>\n",
       "      <td>2019-10-07</td>\n",
       "      <td>Byju's</td>\n",
       "      <td>EdTech</td>\n",
       "      <td>Education</td>\n",
       "      <td>Bengaluru</td>\n",
       "      <td>Qatar Investment Authority</td>\n",
       "      <td>Private Equity Round</td>\n",
       "      <td>150000000.0</td>\n",
       "      <td>2019</td>\n",
       "      <td>07</td>\n",
       "      <td>10/07/2019</td>\n",
       "    </tr>\n",
       "    <tr>\n",
       "      <th>1356</th>\n",
       "      <td>1357</td>\n",
       "      <td>2016-09-09</td>\n",
       "      <td>Byju's</td>\n",
       "      <td>EdTech</td>\n",
       "      <td>Online Learning App</td>\n",
       "      <td>Bangalore</td>\n",
       "      <td>Chan Zuckerberg Initiative, Times Internet Ltd...</td>\n",
       "      <td>Private Equity</td>\n",
       "      <td>50000000.0</td>\n",
       "      <td>2016</td>\n",
       "      <td>09</td>\n",
       "      <td>09/09/2016</td>\n",
       "    </tr>\n",
       "  </tbody>\n",
       "</table>\n",
       "</div>"
      ],
      "text/plain": [
       "      S.No       Date    Name Industry          SubVertical       City  \\\n",
       "0        1 2020-09-01  Byju's   EdTech           E-learning  Bengaluru   \n",
       "67      68 2019-10-07  Byju's   EdTech            Education  Bengaluru   \n",
       "1356  1357 2016-09-09  Byju's   EdTech  Online Learning App  Bangalore   \n",
       "\n",
       "                                               Investor                  Type  \\\n",
       "0                               Tiger Global Management  Private Equity Round   \n",
       "67                           Qatar Investment Authority  Private Equity Round   \n",
       "1356  Chan Zuckerberg Initiative, Times Internet Ltd...        Private Equity   \n",
       "\n",
       "      AmountInUSD  Year Month     NewDate  \n",
       "0     200000000.0  2020    01  09/01/2020  \n",
       "67    150000000.0  2019    07  10/07/2019  \n",
       "1356   50000000.0  2016    09  09/09/2016  "
      ]
     },
     "execution_count": 961,
     "metadata": {},
     "output_type": "execute_result"
    }
   ],
   "source": [
    "df1[df1['Name'] == 'Byju\\'s']"
   ]
  },
  {
   "cell_type": "code",
   "execution_count": 962,
   "metadata": {},
   "outputs": [
    {
     "data": {
      "text/html": [
       "<div>\n",
       "<style scoped>\n",
       "    .dataframe tbody tr th:only-of-type {\n",
       "        vertical-align: middle;\n",
       "    }\n",
       "\n",
       "    .dataframe tbody tr th {\n",
       "        vertical-align: top;\n",
       "    }\n",
       "\n",
       "    .dataframe thead th {\n",
       "        text-align: right;\n",
       "    }\n",
       "</style>\n",
       "<table border=\"1\" class=\"dataframe\">\n",
       "  <thead>\n",
       "    <tr style=\"text-align: right;\">\n",
       "      <th></th>\n",
       "      <th>S.No</th>\n",
       "      <th>Date</th>\n",
       "      <th>Name</th>\n",
       "      <th>Industry</th>\n",
       "      <th>SubVertical</th>\n",
       "      <th>City</th>\n",
       "      <th>Investor</th>\n",
       "      <th>Type</th>\n",
       "      <th>AmountInUSD</th>\n",
       "      <th>Year</th>\n",
       "      <th>Month</th>\n",
       "      <th>NewDate</th>\n",
       "    </tr>\n",
       "  </thead>\n",
       "  <tbody>\n",
       "    <tr>\n",
       "      <th>3093</th>\n",
       "      <td>3094</td>\n",
       "      <td>2019-11-04</td>\n",
       "      <td>WhiteHat Jr</td>\n",
       "      <td>EdTech</td>\n",
       "      <td>Coding Skill Showcase &amp; Resume Builder</td>\n",
       "      <td>Mumbai</td>\n",
       "      <td>Nexus Venture Partners, Omidyar Network</td>\n",
       "      <td>Seed</td>\n",
       "      <td>1200000.0</td>\n",
       "      <td>2019</td>\n",
       "      <td>04</td>\n",
       "      <td>11/04/2019</td>\n",
       "    </tr>\n",
       "    <tr>\n",
       "      <th>3094</th>\n",
       "      <td>3095</td>\n",
       "      <td>2019-11-09</td>\n",
       "      <td>WhiteHat Jr</td>\n",
       "      <td>EdTech</td>\n",
       "      <td>Coding Skill Showcase &amp; Resume Builder</td>\n",
       "      <td>Mumbai</td>\n",
       "      <td>Nexus Venture Partners, Omidyar Network</td>\n",
       "      <td>Series A</td>\n",
       "      <td>10000000.0</td>\n",
       "      <td>2019</td>\n",
       "      <td>09</td>\n",
       "      <td>11/09/2019</td>\n",
       "    </tr>\n",
       "  </tbody>\n",
       "</table>\n",
       "</div>"
      ],
      "text/plain": [
       "      S.No       Date         Name Industry  \\\n",
       "3093  3094 2019-11-04  WhiteHat Jr   EdTech   \n",
       "3094  3095 2019-11-09  WhiteHat Jr   EdTech   \n",
       "\n",
       "                                 SubVertical    City  \\\n",
       "3093  Coding Skill Showcase & Resume Builder  Mumbai   \n",
       "3094  Coding Skill Showcase & Resume Builder  Mumbai   \n",
       "\n",
       "                                     Investor      Type  AmountInUSD  Year  \\\n",
       "3093  Nexus Venture Partners, Omidyar Network      Seed    1200000.0  2019   \n",
       "3094  Nexus Venture Partners, Omidyar Network  Series A   10000000.0  2019   \n",
       "\n",
       "     Month     NewDate  \n",
       "3093    04  11/04/2019  \n",
       "3094    09  11/09/2019  "
      ]
     },
     "execution_count": 962,
     "metadata": {},
     "output_type": "execute_result"
    }
   ],
   "source": [
    "df1[df1['Name'] == 'WhiteHat Jr']"
   ]
  },
  {
   "cell_type": "code",
   "execution_count": 963,
   "metadata": {},
   "outputs": [
    {
     "name": "stdout",
     "output_type": "stream",
     "text": [
      "[\"Byju's\" 'Furtados School of Music']\n",
      "Most Funded EdTech Startup of India is with $ 200000000.0\n"
     ]
    }
   ],
   "source": [
    "top_10 = df1.nlargest(10, 'AmountInUSD')\n",
    "max_funded_amount = top_10['AmountInUSD'].max()\n",
    "top_funded = top_10[top_10.AmountInUSD == max_funded_amount]\n",
    "top_startup_name = top_funded.loc[:,'Name']\n",
    "print(top_startup_name.values)\n",
    "print(\"Most Funded EdTech Startup of India is with $\" ,top_10['AmountInUSD'].max())"
   ]
  },
  {
   "cell_type": "code",
   "execution_count": 964,
   "metadata": {},
   "outputs": [
    {
     "data": {
      "text/html": [
       "<div>\n",
       "<style scoped>\n",
       "    .dataframe tbody tr th:only-of-type {\n",
       "        vertical-align: middle;\n",
       "    }\n",
       "\n",
       "    .dataframe tbody tr th {\n",
       "        vertical-align: top;\n",
       "    }\n",
       "\n",
       "    .dataframe thead th {\n",
       "        text-align: right;\n",
       "    }\n",
       "</style>\n",
       "<table border=\"1\" class=\"dataframe\">\n",
       "  <thead>\n",
       "    <tr style=\"text-align: right;\">\n",
       "      <th></th>\n",
       "      <th>S.No</th>\n",
       "      <th>Date</th>\n",
       "      <th>Name</th>\n",
       "      <th>Industry</th>\n",
       "      <th>SubVertical</th>\n",
       "      <th>City</th>\n",
       "      <th>Investor</th>\n",
       "      <th>Type</th>\n",
       "      <th>AmountInUSD</th>\n",
       "      <th>Year</th>\n",
       "      <th>Month</th>\n",
       "      <th>NewDate</th>\n",
       "    </tr>\n",
       "  </thead>\n",
       "  <tbody>\n",
       "    <tr>\n",
       "      <th>0</th>\n",
       "      <td>1</td>\n",
       "      <td>2020-09-01</td>\n",
       "      <td>Byju's</td>\n",
       "      <td>EdTech</td>\n",
       "      <td>E-learning</td>\n",
       "      <td>Bengaluru</td>\n",
       "      <td>Tiger Global Management</td>\n",
       "      <td>Private Equity Round</td>\n",
       "      <td>200000000.0</td>\n",
       "      <td>2020</td>\n",
       "      <td>01</td>\n",
       "      <td>09/01/2020</td>\n",
       "    </tr>\n",
       "    <tr>\n",
       "      <th>30</th>\n",
       "      <td>31</td>\n",
       "      <td>2019-11-19</td>\n",
       "      <td>Furtados School of Music</td>\n",
       "      <td>EdTech</td>\n",
       "      <td>Music Education</td>\n",
       "      <td>Tulangan</td>\n",
       "      <td>IAN Fund and DSG Consumer Partners</td>\n",
       "      <td>Funding Round</td>\n",
       "      <td>200000000.0</td>\n",
       "      <td>2019</td>\n",
       "      <td>11</td>\n",
       "      <td>19/11/2019</td>\n",
       "    </tr>\n",
       "    <tr>\n",
       "      <th>67</th>\n",
       "      <td>68</td>\n",
       "      <td>2019-10-07</td>\n",
       "      <td>Byju's</td>\n",
       "      <td>EdTech</td>\n",
       "      <td>Education</td>\n",
       "      <td>Bengaluru</td>\n",
       "      <td>Qatar Investment Authority</td>\n",
       "      <td>Private Equity Round</td>\n",
       "      <td>150000000.0</td>\n",
       "      <td>2019</td>\n",
       "      <td>07</td>\n",
       "      <td>10/07/2019</td>\n",
       "    </tr>\n",
       "    <tr>\n",
       "      <th>3060</th>\n",
       "      <td>3061</td>\n",
       "      <td>2020-02-19</td>\n",
       "      <td>Unacademy</td>\n",
       "      <td>EdTech</td>\n",
       "      <td>Online Tutoring</td>\n",
       "      <td>Bangalore</td>\n",
       "      <td>General Atlantic, Sequoia Capital India, and F...</td>\n",
       "      <td>Series D</td>\n",
       "      <td>110000000.0</td>\n",
       "      <td>2020</td>\n",
       "      <td>02</td>\n",
       "      <td>19/02/2020</td>\n",
       "    </tr>\n",
       "    <tr>\n",
       "      <th>1356</th>\n",
       "      <td>1357</td>\n",
       "      <td>2016-09-09</td>\n",
       "      <td>Byju's</td>\n",
       "      <td>EdTech</td>\n",
       "      <td>Online Learning App</td>\n",
       "      <td>Bangalore</td>\n",
       "      <td>Chan Zuckerberg Initiative, Times Internet Ltd...</td>\n",
       "      <td>Private Equity</td>\n",
       "      <td>50000000.0</td>\n",
       "      <td>2016</td>\n",
       "      <td>09</td>\n",
       "      <td>09/09/2016</td>\n",
       "    </tr>\n",
       "    <tr>\n",
       "      <th>3047</th>\n",
       "      <td>3048</td>\n",
       "      <td>2020-01-31</td>\n",
       "      <td>DoubtNut</td>\n",
       "      <td>EdTech</td>\n",
       "      <td>Online Tutoring</td>\n",
       "      <td>Gurugram</td>\n",
       "      <td>Tencent Holdings</td>\n",
       "      <td>Series A</td>\n",
       "      <td>15000000.0</td>\n",
       "      <td>2020</td>\n",
       "      <td>01</td>\n",
       "      <td>31/01/2020</td>\n",
       "    </tr>\n",
       "    <tr>\n",
       "      <th>369</th>\n",
       "      <td>370</td>\n",
       "      <td>2018-02-13</td>\n",
       "      <td>IMAX Program</td>\n",
       "      <td>EdTech</td>\n",
       "      <td>Individualised Progressive Learning Program</td>\n",
       "      <td>Bengaluru</td>\n",
       "      <td>Michael &amp; Susan Dell Foundation, LGT Impact Ve...</td>\n",
       "      <td>Private Equity</td>\n",
       "      <td>13500000.0</td>\n",
       "      <td>2018</td>\n",
       "      <td>02</td>\n",
       "      <td>13/02/2018</td>\n",
       "    </tr>\n",
       "    <tr>\n",
       "      <th>3049</th>\n",
       "      <td>3050</td>\n",
       "      <td>2020-03-02</td>\n",
       "      <td>Embibe</td>\n",
       "      <td>EdTech</td>\n",
       "      <td>AI based learning</td>\n",
       "      <td>Mumbai</td>\n",
       "      <td>Reliance Industries Limited (RIL)</td>\n",
       "      <td>Venture Series</td>\n",
       "      <td>12625020.0</td>\n",
       "      <td>2020</td>\n",
       "      <td>02</td>\n",
       "      <td>03/02/2020</td>\n",
       "    </tr>\n",
       "    <tr>\n",
       "      <th>3069</th>\n",
       "      <td>3070</td>\n",
       "      <td>2020-09-04</td>\n",
       "      <td>Vedantu</td>\n",
       "      <td>EdTech</td>\n",
       "      <td>Online Tutoring</td>\n",
       "      <td>Bengaluru</td>\n",
       "      <td>Legend Capital</td>\n",
       "      <td>Series C1</td>\n",
       "      <td>12560000.0</td>\n",
       "      <td>2020</td>\n",
       "      <td>04</td>\n",
       "      <td>09/04/2020</td>\n",
       "    </tr>\n",
       "    <tr>\n",
       "      <th>286</th>\n",
       "      <td>287</td>\n",
       "      <td>2018-05-04</td>\n",
       "      <td>Vedantu</td>\n",
       "      <td>EdTech</td>\n",
       "      <td>Interactive Online Tutoring Platform</td>\n",
       "      <td>Bangalore</td>\n",
       "      <td>Accel Partners, Tiger Global And Others</td>\n",
       "      <td>Private Equity</td>\n",
       "      <td>10000000.0</td>\n",
       "      <td>2018</td>\n",
       "      <td>04</td>\n",
       "      <td>05/04/2018</td>\n",
       "    </tr>\n",
       "  </tbody>\n",
       "</table>\n",
       "</div>"
      ],
      "text/plain": [
       "      S.No       Date                      Name Industry  \\\n",
       "0        1 2020-09-01                    Byju's   EdTech   \n",
       "30      31 2019-11-19  Furtados School of Music   EdTech   \n",
       "67      68 2019-10-07                    Byju's   EdTech   \n",
       "3060  3061 2020-02-19                 Unacademy   EdTech   \n",
       "1356  1357 2016-09-09                    Byju's   EdTech   \n",
       "3047  3048 2020-01-31                  DoubtNut   EdTech   \n",
       "369    370 2018-02-13              IMAX Program   EdTech   \n",
       "3049  3050 2020-03-02                    Embibe   EdTech   \n",
       "3069  3070 2020-09-04                   Vedantu   EdTech   \n",
       "286    287 2018-05-04                   Vedantu   EdTech   \n",
       "\n",
       "                                      SubVertical       City  \\\n",
       "0                                      E-learning  Bengaluru   \n",
       "30                                Music Education   Tulangan   \n",
       "67                                      Education  Bengaluru   \n",
       "3060                              Online Tutoring  Bangalore   \n",
       "1356                          Online Learning App  Bangalore   \n",
       "3047                              Online Tutoring   Gurugram   \n",
       "369   Individualised Progressive Learning Program  Bengaluru   \n",
       "3049                            AI based learning     Mumbai   \n",
       "3069                              Online Tutoring  Bengaluru   \n",
       "286          Interactive Online Tutoring Platform  Bangalore   \n",
       "\n",
       "                                               Investor                  Type  \\\n",
       "0                               Tiger Global Management  Private Equity Round   \n",
       "30                   IAN Fund and DSG Consumer Partners         Funding Round   \n",
       "67                           Qatar Investment Authority  Private Equity Round   \n",
       "3060  General Atlantic, Sequoia Capital India, and F...              Series D   \n",
       "1356  Chan Zuckerberg Initiative, Times Internet Ltd...        Private Equity   \n",
       "3047                                   Tencent Holdings              Series A   \n",
       "369   Michael & Susan Dell Foundation, LGT Impact Ve...        Private Equity   \n",
       "3049                  Reliance Industries Limited (RIL)        Venture Series   \n",
       "3069                                     Legend Capital             Series C1   \n",
       "286             Accel Partners, Tiger Global And Others        Private Equity   \n",
       "\n",
       "      AmountInUSD  Year Month     NewDate  \n",
       "0     200000000.0  2020    01  09/01/2020  \n",
       "30    200000000.0  2019    11  19/11/2019  \n",
       "67    150000000.0  2019    07  10/07/2019  \n",
       "3060  110000000.0  2020    02  19/02/2020  \n",
       "1356   50000000.0  2016    09  09/09/2016  \n",
       "3047   15000000.0  2020    01  31/01/2020  \n",
       "369    13500000.0  2018    02  13/02/2018  \n",
       "3049   12625020.0  2020    02  03/02/2020  \n",
       "3069   12560000.0  2020    04  09/04/2020  \n",
       "286    10000000.0  2018    04  05/04/2018  "
      ]
     },
     "execution_count": 964,
     "metadata": {},
     "output_type": "execute_result"
    }
   ],
   "source": [
    "top_10"
   ]
  },
  {
   "cell_type": "code",
   "execution_count": 965,
   "metadata": {},
   "outputs": [
    {
     "data": {
      "text/html": [
       "<div>\n",
       "<style scoped>\n",
       "    .dataframe tbody tr th:only-of-type {\n",
       "        vertical-align: middle;\n",
       "    }\n",
       "\n",
       "    .dataframe tbody tr th {\n",
       "        vertical-align: top;\n",
       "    }\n",
       "\n",
       "    .dataframe thead th {\n",
       "        text-align: right;\n",
       "    }\n",
       "</style>\n",
       "<table border=\"1\" class=\"dataframe\">\n",
       "  <thead>\n",
       "    <tr style=\"text-align: right;\">\n",
       "      <th></th>\n",
       "      <th>Number of Fundings in EdTech</th>\n",
       "    </tr>\n",
       "  </thead>\n",
       "  <tbody>\n",
       "    <tr>\n",
       "      <th>2016</th>\n",
       "      <td>19</td>\n",
       "    </tr>\n",
       "    <tr>\n",
       "      <th>2020</th>\n",
       "      <td>14</td>\n",
       "    </tr>\n",
       "    <tr>\n",
       "      <th>2018</th>\n",
       "      <td>14</td>\n",
       "    </tr>\n",
       "    <tr>\n",
       "      <th>2019</th>\n",
       "      <td>9</td>\n",
       "    </tr>\n",
       "    <tr>\n",
       "      <th>2015</th>\n",
       "      <td>7</td>\n",
       "    </tr>\n",
       "    <tr>\n",
       "      <th>2017</th>\n",
       "      <td>1</td>\n",
       "    </tr>\n",
       "  </tbody>\n",
       "</table>\n",
       "</div>"
      ],
      "text/plain": [
       "      Number of Fundings in EdTech\n",
       "2016                            19\n",
       "2020                            14\n",
       "2018                            14\n",
       "2019                             9\n",
       "2015                             7\n",
       "2017                             1"
      ]
     },
     "execution_count": 965,
     "metadata": {},
     "output_type": "execute_result"
    }
   ],
   "source": [
    "funding_count_yr = pd.DataFrame(df1['Year'].value_counts())\n",
    "funding_count_yr.rename(columns={\"Year\":\"Number of Fundings in EdTech\"}, inplace=True)\n",
    "funding_count_yr"
   ]
  },
  {
   "cell_type": "code",
   "execution_count": 966,
   "metadata": {},
   "outputs": [
    {
     "name": "stdout",
     "output_type": "stream",
     "text": [
      "Number of funding per year in decreasing order(Top 10)\n",
      " 2016    19\n",
      "2018    14\n",
      "2020    14\n",
      "2019     9\n",
      "2015     7\n",
      "2017     1\n",
      "Name: Year, dtype: int64\n"
     ]
    },
    {
     "data": {
      "image/png": "[encoded data removed]",
      "text/plain": [
       "<Figure size 1080x576 with 1 Axes>"
      ]
     },
     "metadata": {
      "needs_background": "light"
     },
     "output_type": "display_data"
    }
   ],
   "source": [
    "temp = df1['Year'].value_counts().sort_values(ascending = False).head(10)\n",
    "print(\"Number of funding per year in decreasing order(Top 10)\\n\",temp)\n",
    "year = df1['Year'].value_counts()\n",
    "plt.figure(figsize=(15,8))\n",
    "sns.barplot(year.index, year.values, alpha=0.9)\n",
    "plt.xticks(rotation='vertical')\n",
    "plt.xlabel('Year of transaction', fontsize=12)\n",
    "plt.ylabel('Number of fundings made', fontsize=12)\n",
    "plt.title(\"Yearly Distribution\", fontsize=16)\n",
    "plt.show()"
   ]
  },
  {
   "cell_type": "code",
   "execution_count": 967,
   "metadata": {},
   "outputs": [
    {
     "data": {
      "text/html": [
       "<div>\n",
       "<style scoped>\n",
       "    .dataframe tbody tr th:only-of-type {\n",
       "        vertical-align: middle;\n",
       "    }\n",
       "\n",
       "    .dataframe tbody tr th {\n",
       "        vertical-align: top;\n",
       "    }\n",
       "\n",
       "    .dataframe thead th {\n",
       "        text-align: right;\n",
       "    }\n",
       "</style>\n",
       "<table border=\"1\" class=\"dataframe\">\n",
       "  <thead>\n",
       "    <tr style=\"text-align: right;\">\n",
       "      <th></th>\n",
       "      <th>Total Funding(USD-Bn)</th>\n",
       "    </tr>\n",
       "    <tr>\n",
       "      <th>Year</th>\n",
       "      <th></th>\n",
       "    </tr>\n",
       "  </thead>\n",
       "  <tbody>\n",
       "    <tr>\n",
       "      <th>2020</th>\n",
       "      <td>382585020.0</td>\n",
       "    </tr>\n",
       "    <tr>\n",
       "      <th>2019</th>\n",
       "      <td>370647425.0</td>\n",
       "    </tr>\n",
       "    <tr>\n",
       "      <th>2016</th>\n",
       "      <td>82565000.0</td>\n",
       "    </tr>\n",
       "    <tr>\n",
       "      <th>2018</th>\n",
       "      <td>42126640.0</td>\n",
       "    </tr>\n",
       "    <tr>\n",
       "      <th>2015</th>\n",
       "      <td>17300000.0</td>\n",
       "    </tr>\n",
       "    <tr>\n",
       "      <th>2017</th>\n",
       "      <td>8200000.0</td>\n",
       "    </tr>\n",
       "  </tbody>\n",
       "</table>\n",
       "</div>"
      ],
      "text/plain": [
       "      Total Funding(USD-Bn)\n",
       "Year                       \n",
       "2020            382585020.0\n",
       "2019            370647425.0\n",
       "2016             82565000.0\n",
       "2018             42126640.0\n",
       "2015             17300000.0\n",
       "2017              8200000.0"
      ]
     },
     "execution_count": 967,
     "metadata": {},
     "output_type": "execute_result"
    }
   ],
   "source": [
    "funding_total_yr = pd.DataFrame(df1.groupby(by=['Year'])['AmountInUSD'].sum())\n",
    "funding_total_yr.rename(columns={\"AmountInUSD\":\"Total Funding(USD-Bn)\"}, inplace=True)\n",
    "funding_total_yr = funding_total_yr.sort_values(by='Total Funding(USD-Bn)', ascending=False)\n",
    "funding_total_yr"
   ]
  },
  {
   "cell_type": "code",
   "execution_count": 968,
   "metadata": {},
   "outputs": [
    {
     "data": {
      "text/html": [
       "<div>\n",
       "<style scoped>\n",
       "    .dataframe tbody tr th:only-of-type {\n",
       "        vertical-align: middle;\n",
       "    }\n",
       "\n",
       "    .dataframe tbody tr th {\n",
       "        vertical-align: top;\n",
       "    }\n",
       "\n",
       "    .dataframe thead th {\n",
       "        text-align: right;\n",
       "    }\n",
       "</style>\n",
       "<table border=\"1\" class=\"dataframe\">\n",
       "  <thead>\n",
       "    <tr style=\"text-align: right;\">\n",
       "      <th></th>\n",
       "      <th>Number of Fundings by City</th>\n",
       "    </tr>\n",
       "  </thead>\n",
       "  <tbody>\n",
       "    <tr>\n",
       "      <th>Mumbai</th>\n",
       "      <td>17</td>\n",
       "    </tr>\n",
       "    <tr>\n",
       "      <th>Bangalore</th>\n",
       "      <td>10</td>\n",
       "    </tr>\n",
       "    <tr>\n",
       "      <th>Bengaluru</th>\n",
       "      <td>8</td>\n",
       "    </tr>\n",
       "    <tr>\n",
       "      <th>New Delhi</th>\n",
       "      <td>5</td>\n",
       "    </tr>\n",
       "    <tr>\n",
       "      <th>Noida</th>\n",
       "      <td>5</td>\n",
       "    </tr>\n",
       "    <tr>\n",
       "      <th>Chennai</th>\n",
       "      <td>3</td>\n",
       "    </tr>\n",
       "    <tr>\n",
       "      <th>Pune</th>\n",
       "      <td>2</td>\n",
       "    </tr>\n",
       "    <tr>\n",
       "      <th>Bhopal</th>\n",
       "      <td>2</td>\n",
       "    </tr>\n",
       "    <tr>\n",
       "      <th>Delhi</th>\n",
       "      <td>2</td>\n",
       "    </tr>\n",
       "    <tr>\n",
       "      <th>Gurgaon</th>\n",
       "      <td>2</td>\n",
       "    </tr>\n",
       "  </tbody>\n",
       "</table>\n",
       "</div>"
      ],
      "text/plain": [
       "           Number of Fundings by City\n",
       "Mumbai                             17\n",
       "Bangalore                          10\n",
       "Bengaluru                           8\n",
       "New Delhi                           5\n",
       "Noida                               5\n",
       "Chennai                             3\n",
       "Pune                                2\n",
       "Bhopal                              2\n",
       "Delhi                               2\n",
       "Gurgaon                             2"
      ]
     },
     "execution_count": 968,
     "metadata": {},
     "output_type": "execute_result"
    }
   ],
   "source": [
    "fundings_count_city = pd.DataFrame(df1['City'].value_counts().sort_values(ascending=False)[:10])\n",
    "fundings_count_city.rename(columns={'City':'Number of Fundings by City'}, inplace=True)\n",
    "fundings_count_city.head(10)"
   ]
  },
  {
   "cell_type": "code",
   "execution_count": 969,
   "metadata": {},
   "outputs": [
    {
     "name": "stdout",
     "output_type": "stream",
     "text": [
      "Description count of Location\n",
      "Mumbai       17\n",
      "Bangalore    10\n",
      "Bengaluru     8\n",
      "New Delhi     5\n",
      "Noida         5\n",
      "Name: City, dtype: int64\n"
     ]
    },
    {
     "data": {
      "image/png": "[encoded data removed]",
      "text/plain": [
       "<Figure size 936x504 with 2 Axes>"
      ]
     },
     "metadata": {
      "needs_background": "light"
     },
     "output_type": "display_data"
    }
   ],
   "source": [
    "location = df1['City'].value_counts()\n",
    "print(\"Description count of Location\")\n",
    "print(location[:5])\n",
    "\n",
    "plt.figure(figsize=(13,7))\n",
    "\n",
    "plt.subplot(211)\n",
    "sns.barplot(x=location.index[:20], y=location.values[:20])\n",
    "plt.xticks(rotation=45)\n",
    "plt.xlabel('City Location', fontsize=15)\n",
    "plt.ylabel('City Count', fontsize=15)\n",
    "plt.title(\"City Location Count \", fontsize=20)\n",
    "\n",
    "plt.subplot(212)\n",
    "g = sns.boxplot(x='City', y=\"AmountInUSD\",\n",
    "                data=df1[df1.City.isin(location[:15].index.values)])\n",
    "g.set_xticklabels(g.get_xticklabels(),rotation=90)\n",
    "g.set_title(\"City Localization by Amount LogDistribuition\", fontsize=20)\n",
    "g.set_xlabel(\"Top 15 Citys\", fontsize=15)\n",
    "g.set_ylabel(\"Amount (USD) - Log\", fontsize=15)\n",
    "\n",
    "plt.subplots_adjust(hspace = 0.65,top = 0.9)\n",
    "\n",
    "plt.show()"
   ]
  },
  {
   "cell_type": "code",
   "execution_count": 970,
   "metadata": {},
   "outputs": [
    {
     "data": {
      "text/html": [
       "<div>\n",
       "<style scoped>\n",
       "    .dataframe tbody tr th:only-of-type {\n",
       "        vertical-align: middle;\n",
       "    }\n",
       "\n",
       "    .dataframe tbody tr th {\n",
       "        vertical-align: top;\n",
       "    }\n",
       "\n",
       "    .dataframe thead th {\n",
       "        text-align: right;\n",
       "    }\n",
       "</style>\n",
       "<table border=\"1\" class=\"dataframe\">\n",
       "  <thead>\n",
       "    <tr style=\"text-align: right;\">\n",
       "      <th></th>\n",
       "      <th>Number of Investments by Investor</th>\n",
       "    </tr>\n",
       "  </thead>\n",
       "  <tbody>\n",
       "    <tr>\n",
       "      <th>Nexus Venture Partners, Omidyar Network</th>\n",
       "      <td>2</td>\n",
       "    </tr>\n",
       "    <tr>\n",
       "      <th>Rajendra Gogri,\\\\xc2\\\\xa0 Chandrakant Gogri</th>\n",
       "      <td>1</td>\n",
       "    </tr>\n",
       "    <tr>\n",
       "      <th>Bertelsmann India</th>\n",
       "      <td>1</td>\n",
       "    </tr>\n",
       "    <tr>\n",
       "      <th>RTP Global, lume Ventures, Sequoia Capital India's Surge, Spiral Ventures, and Strive.</th>\n",
       "      <td>1</td>\n",
       "    </tr>\n",
       "    <tr>\n",
       "      <th>Michael &amp; Susan Dell Foundation</th>\n",
       "      <td>1</td>\n",
       "    </tr>\n",
       "  </tbody>\n",
       "</table>\n",
       "</div>"
      ],
      "text/plain": [
       "                                                    Number of Investments by Investor\n",
       "Nexus Venture Partners, Omidyar Network                                             2\n",
       "Rajendra Gogri,\\\\xc2\\\\xa0 Chandrakant Gogri                                         1\n",
       "Bertelsmann India                                                                   1\n",
       "RTP Global, lume Ventures, Sequoia Capital Indi...                                  1\n",
       "Michael & Susan Dell Foundation                                                     1"
      ]
     },
     "execution_count": 970,
     "metadata": {},
     "output_type": "execute_result"
    }
   ],
   "source": [
    "funding_count_investor = pd.DataFrame(df1['Investor'].value_counts()).sort_values(by='Investor', ascending=False)[:10]\n",
    "funding_count_investor.rename(columns={'Investor': 'Number of Investments by Investor'}, inplace=True)\n",
    "funding_count_investor.drop(funding_count_investor[funding_count_investor.index == 'Undisclosed Investors'].index, inplace=True)\n",
    "funding_count_investor.drop(funding_count_investor[funding_count_investor.index == 'Undisclosed investors'].index, inplace=True)\n",
    "funding_count_investor.head()"
   ]
  },
  {
   "cell_type": "code",
   "execution_count": 971,
   "metadata": {},
   "outputs": [
    {
     "data": {
      "text/html": [
       "<div>\n",
       "<style scoped>\n",
       "    .dataframe tbody tr th:only-of-type {\n",
       "        vertical-align: middle;\n",
       "    }\n",
       "\n",
       "    .dataframe tbody tr th {\n",
       "        vertical-align: top;\n",
       "    }\n",
       "\n",
       "    .dataframe thead th {\n",
       "        text-align: right;\n",
       "    }\n",
       "</style>\n",
       "<table border=\"1\" class=\"dataframe\">\n",
       "  <thead>\n",
       "    <tr style=\"text-align: right;\">\n",
       "      <th></th>\n",
       "      <th>Total Funding by Investor(USD-Bn)</th>\n",
       "    </tr>\n",
       "    <tr>\n",
       "      <th>Investor</th>\n",
       "      <th></th>\n",
       "    </tr>\n",
       "  </thead>\n",
       "  <tbody>\n",
       "    <tr>\n",
       "      <th>Tiger Global Management</th>\n",
       "      <td>200000000.0</td>\n",
       "    </tr>\n",
       "    <tr>\n",
       "      <th>IAN Fund and DSG Consumer Partners</th>\n",
       "      <td>200000000.0</td>\n",
       "    </tr>\n",
       "    <tr>\n",
       "      <th>Qatar Investment Authority</th>\n",
       "      <td>150000000.0</td>\n",
       "    </tr>\n",
       "    <tr>\n",
       "      <th>General Atlantic, Sequoia Capital India, and Facebook</th>\n",
       "      <td>110000000.0</td>\n",
       "    </tr>\n",
       "    <tr>\n",
       "      <th>Chan Zuckerberg Initiative, Times Internet Ltd, Sequoia Capital, Sofina, Lightspeed Ventures</th>\n",
       "      <td>50000000.0</td>\n",
       "    </tr>\n",
       "  </tbody>\n",
       "</table>\n",
       "</div>"
      ],
      "text/plain": [
       "                                                    Total Funding by Investor(USD-Bn)\n",
       "Investor                                                                             \n",
       "Tiger Global Management                                                   200000000.0\n",
       "IAN Fund and DSG Consumer Partners                                        200000000.0\n",
       "Qatar Investment Authority                                                150000000.0\n",
       "General Atlantic, Sequoia Capital India, and Fa...                        110000000.0\n",
       "Chan Zuckerberg Initiative, Times Internet Ltd,...                         50000000.0"
      ]
     },
     "execution_count": 971,
     "metadata": {},
     "output_type": "execute_result"
    }
   ],
   "source": [
    "funding_total_investor = pd.DataFrame(df1.groupby(['Investor'])['AmountInUSD'].sum()).sort_values(by=\"AmountInUSD\", ascending=False)[:15]\n",
    "funding_total_investor.rename(columns={'AmountInUSD':'Total Funding by Investor(USD-Bn)'}, inplace=True)\n",
    "funding_total_investor.head()"
   ]
  },
  {
   "cell_type": "code",
   "execution_count": 972,
   "metadata": {},
   "outputs": [
    {
     "data": {
      "image/png": "[encoded data removed]",
      "text/plain": [
       "<Figure size 1008x720 with 2 Axes>"
      ]
     },
     "metadata": {
      "needs_background": "light"
     },
     "output_type": "display_data"
    }
   ],
   "source": [
    "df2 = df1.sort_values(by=\"Date\")\n",
    "plt.figure(figsize=(14,10))\n",
    "plt.subplot(211)\n",
    "sns.countplot(x='NewDate', data=df2)\n",
    "plt.xticks(rotation=90)\n",
    "plt.xlabel('', fontsize=12)\n",
    "plt.ylabel('Date Counting', fontsize=12)\n",
    "plt.title(\"Count frequency Investiments Date \", fontsize=16)\n",
    "\n",
    "plt.subplot(212)\n",
    "sns.pointplot(x='NewDate', y='AmountInUSD', data=df2)\n",
    "plt.xticks(rotation=90)\n",
    "plt.xlabel('Dates', fontsize=12)\n",
    "plt.ylabel('Amount Distribuition Log', fontsize=12)\n",
    "plt.title(\"Money Distribuition by Month-Year\", fontsize=16)\n",
    "\n",
    "plt.subplots_adjust(wspace = 0.2, hspace = 0.4,top = 0.9)\n",
    "\n",
    "plt.show()"
   ]
  },
  {
   "cell_type": "code",
   "execution_count": 973,
   "metadata": {},
   "outputs": [
    {
     "data": {
      "text/html": [
       "<div>\n",
       "<style scoped>\n",
       "    .dataframe tbody tr th:only-of-type {\n",
       "        vertical-align: middle;\n",
       "    }\n",
       "\n",
       "    .dataframe tbody tr th {\n",
       "        vertical-align: top;\n",
       "    }\n",
       "\n",
       "    .dataframe thead th {\n",
       "        text-align: right;\n",
       "    }\n",
       "</style>\n",
       "<table border=\"1\" class=\"dataframe\">\n",
       "  <thead>\n",
       "    <tr style=\"text-align: right;\">\n",
       "      <th></th>\n",
       "      <th>Total amount Raised by Startup (USD-Bn)</th>\n",
       "    </tr>\n",
       "    <tr>\n",
       "      <th>Name</th>\n",
       "      <th></th>\n",
       "    </tr>\n",
       "  </thead>\n",
       "  <tbody>\n",
       "    <tr>\n",
       "      <th>Byju's</th>\n",
       "      <td>400000000.0</td>\n",
       "    </tr>\n",
       "    <tr>\n",
       "      <th>Furtados School of Music</th>\n",
       "      <td>200000000.0</td>\n",
       "    </tr>\n",
       "    <tr>\n",
       "      <th>Unacademy</th>\n",
       "      <td>110307000.0</td>\n",
       "    </tr>\n",
       "    <tr>\n",
       "      <th>Vedantu</th>\n",
       "      <td>34360000.0</td>\n",
       "    </tr>\n",
       "    <tr>\n",
       "      <th>Toppr</th>\n",
       "      <td>16420820.0</td>\n",
       "    </tr>\n",
       "  </tbody>\n",
       "</table>\n",
       "</div>"
      ],
      "text/plain": [
       "                          Total amount Raised by Startup (USD-Bn)\n",
       "Name                                                             \n",
       "Byju's                                                400000000.0\n",
       "Furtados School of Music                              200000000.0\n",
       "Unacademy                                             110307000.0\n",
       "Vedantu                                                34360000.0\n",
       "Toppr                                                  16420820.0"
      ]
     },
     "execution_count": 973,
     "metadata": {},
     "output_type": "execute_result"
    }
   ],
   "source": [
    "funding_total_company = pd.DataFrame(df1.groupby('Name')['AmountInUSD'].sum()).sort_values(by='AmountInUSD', ascending=False)[:15]\n",
    "funding_total_company.rename(columns={'AmountInUSD': \"Total amount Raised by Startup (USD-Bn)\"}, inplace=True)\n",
    "funding_total_company.head()"
   ]
  },
  {
   "cell_type": "code",
   "execution_count": 974,
   "metadata": {},
   "outputs": [
    {
     "data": {
      "text/html": [
       "<div>\n",
       "<style scoped>\n",
       "    .dataframe tbody tr th:only-of-type {\n",
       "        vertical-align: middle;\n",
       "    }\n",
       "\n",
       "    .dataframe tbody tr th {\n",
       "        vertical-align: top;\n",
       "    }\n",
       "\n",
       "    .dataframe thead th {\n",
       "        text-align: right;\n",
       "    }\n",
       "</style>\n",
       "<table border=\"1\" class=\"dataframe\">\n",
       "  <thead>\n",
       "    <tr style=\"text-align: right;\">\n",
       "      <th></th>\n",
       "      <th>Number of Investments by Investor</th>\n",
       "    </tr>\n",
       "  </thead>\n",
       "  <tbody>\n",
       "    <tr>\n",
       "      <th>Vedantu</th>\n",
       "      <td>4</td>\n",
       "    </tr>\n",
       "    <tr>\n",
       "      <th>Toppr</th>\n",
       "      <td>3</td>\n",
       "    </tr>\n",
       "    <tr>\n",
       "      <th>Byju's</th>\n",
       "      <td>3</td>\n",
       "    </tr>\n",
       "    <tr>\n",
       "      <th>WhiteHat Jr</th>\n",
       "      <td>2</td>\n",
       "    </tr>\n",
       "    <tr>\n",
       "      <th>Unacademy</th>\n",
       "      <td>2</td>\n",
       "    </tr>\n",
       "  </tbody>\n",
       "</table>\n",
       "</div>"
      ],
      "text/plain": [
       "             Number of Investments by Investor\n",
       "Vedantu                                      4\n",
       "Toppr                                        3\n",
       "Byju's                                       3\n",
       "WhiteHat Jr                                  2\n",
       "Unacademy                                    2"
      ]
     },
     "execution_count": 974,
     "metadata": {},
     "output_type": "execute_result"
    }
   ],
   "source": [
    "funding_count_company = pd.DataFrame(df1['Name'].value_counts()).sort_values(by='Name', ascending=False)[:15]\n",
    "funding_count_company.rename(columns={'Name': 'Number of Investments by Investor'}, inplace=True)\n",
    "funding_count_company.head()"
   ]
  },
  {
   "cell_type": "code",
   "execution_count": 975,
   "metadata": {},
   "outputs": [
    {
     "name": "stdout",
     "output_type": "stream",
     "text": [
      "Private Equity                 21\n",
      "Seed Funding                   13\n",
      "Seed                            6\n",
      "Seed/ Angel Funding             5\n",
      "Series A                        3\n",
      "Private Equity Round            2\n",
      "Series B                        2\n",
      "Seed / Angel Funding            2\n",
      "Series C                        1\n",
      "Debt and Preference capital     1\n",
      "Structured Debt                 1\n",
      "Funding Round                   1\n",
      "Series C1                       1\n",
      "Venture Series                  1\n",
      "Angel Round                     1\n",
      "Seed Round                      1\n",
      "Angel                           1\n",
      "Series D                        1\n",
      "Name: Type, dtype: int64\n"
     ]
    },
    {
     "data": {
      "image/png": "[encoded data removed]",
      "text/plain": [
       "<Figure size 1080x576 with 1 Axes>"
      ]
     },
     "metadata": {
      "needs_background": "light"
     },
     "output_type": "display_data"
    }
   ],
   "source": [
    "investment = df1['Type'].value_counts()\n",
    "print(investment)\n",
    "plt.figure(figsize=(15,8))\n",
    "sns.barplot(investment.index, investment.values, alpha=0.9)\n",
    "plt.xticks(rotation='vertical')\n",
    "plt.xlabel('Investment Type', fontsize=12)\n",
    "plt.ylabel('Number of fundings made', fontsize=12)\n",
    "plt.title(\"Investment Type with number of funding\", fontsize=16)\n",
    "plt.show()"
   ]
  },
  {
   "cell_type": "code",
   "execution_count": 976,
   "metadata": {},
   "outputs": [
    {
     "data": {
      "application/vnd.plotly.v1+json": {
       "config": {
        "linkText": "Export to plot.ly",
        "plotlyServerURL": "https://plot.ly",
        "showLink": false
       },
       "data": [
        {
         "hoverinfo": "label+percent",
         "labels": [
          "Private Equity",
          "Seed Funding",
          "Seed",
          "Seed/ Angel Funding",
          "Series A",
          "Private Equity Round",
          "Series B",
          "Seed / Angel Funding",
          "Series C",
          "Debt and Preference capital",
          "Structured Debt",
          "Funding Round",
          "Series C1",
          "Venture Series",
          "Angel Round",
          "Seed Round",
          "Angel",
          "Series D"
         ],
         "type": "pie",
         "values": [
          32.8125,
          20.3125,
          9.375,
          7.8125,
          4.6875,
          3.125,
          3.125,
          3.125,
          1.5625,
          1.5625,
          1.5625,
          1.5625,
          1.5625,
          1.5625,
          1.5625,
          1.5625,
          1.5625,
          1.5625
         ]
        }
       ],
       "layout": {
        "template": {
         "data": {
          "bar": [
           {
            "error_x": {
             "color": "#2a3f5f"
            },
            "error_y": {
             "color": "#2a3f5f"
            },
            "marker": {
             "line": {
              "color": "#E5ECF6",
              "width": 0.5
             }
            },
            "type": "bar"
           }
          ],
          "barpolar": [
           {
            "marker": {
             "line": {
              "color": "#E5ECF6",
              "width": 0.5
             }
            },
            "type": "barpolar"
           }
          ],
          "carpet": [
           {
            "aaxis": {
             "endlinecolor": "#2a3f5f",
             "gridcolor": "white",
             "linecolor": "white",
             "minorgridcolor": "white",
             "startlinecolor": "#2a3f5f"
            },
            "baxis": {
             "endlinecolor": "#2a3f5f",
             "gridcolor": "white",
             "linecolor": "white",
             "minorgridcolor": "white",
             "startlinecolor": "#2a3f5f"
            },
            "type": "carpet"
           }
          ],
          "choropleth": [
           {
            "colorbar": {
             "outlinewidth": 0,
             "ticks": ""
            },
            "type": "choropleth"
           }
          ],
          "contour": [
           {
            "colorbar": {
             "outlinewidth": 0,
             "ticks": ""
            },
            "colorscale": [
             [
              0,
              "#0d0887"
             ],
             [
              0.1111111111111111,
              "#46039f"
             ],
             [
              0.2222222222222222,
              "#7201a8"
             ],
             [
              0.3333333333333333,
              "#9c179e"
             ],
             [
              0.4444444444444444,
              "#bd3786"
             ],
             [
              0.5555555555555556,
              "#d8576b"
             ],
             [
              0.6666666666666666,
              "#ed7953"
             ],
             [
              0.7777777777777778,
              "#fb9f3a"
             ],
             [
              0.8888888888888888,
              "#fdca26"
             ],
             [
              1,
              "#f0f921"
             ]
            ],
            "type": "contour"
           }
          ],
          "contourcarpet": [
           {
            "colorbar": {
             "outlinewidth": 0,
             "ticks": ""
            },
            "type": "contourcarpet"
           }
          ],
          "heatmap": [
           {
            "colorbar": {
             "outlinewidth": 0,
             "ticks": ""
            },
            "colorscale": [
             [
              0,
              "#0d0887"
             ],
             [
              0.1111111111111111,
              "#46039f"
             ],
             [
              0.2222222222222222,
              "#7201a8"
             ],
             [
              0.3333333333333333,
              "#9c179e"
             ],
             [
              0.4444444444444444,
              "#bd3786"
             ],
             [
              0.5555555555555556,
              "#d8576b"
             ],
             [
              0.6666666666666666,
              "#ed7953"
             ],
             [
              0.7777777777777778,
              "#fb9f3a"
             ],
             [
              0.8888888888888888,
              "#fdca26"
             ],
             [
              1,
              "#f0f921"
             ]
            ],
            "type": "heatmap"
           }
          ],
          "heatmapgl": [
           {
            "colorbar": {
             "outlinewidth": 0,
             "ticks": ""
            },
            "colorscale": [
             [
              0,
              "#0d0887"
             ],
             [
              0.1111111111111111,
              "#46039f"
             ],
             [
              0.2222222222222222,
              "#7201a8"
             ],
             [
              0.3333333333333333,
              "#9c179e"
             ],
             [
              0.4444444444444444,
              "#bd3786"
             ],
             [
              0.5555555555555556,
              "#d8576b"
             ],
             [
              0.6666666666666666,
              "#ed7953"
             ],
             [
              0.7777777777777778,
              "#fb9f3a"
             ],
             [
              0.8888888888888888,
              "#fdca26"
             ],
             [
              1,
              "#f0f921"
             ]
            ],
            "type": "heatmapgl"
           }
          ],
          "histogram": [
           {
            "marker": {
             "colorbar": {
              "outlinewidth": 0,
              "ticks": ""
             }
            },
            "type": "histogram"
           }
          ],
          "histogram2d": [
           {
            "colorbar": {
             "outlinewidth": 0,
             "ticks": ""
            },
            "colorscale": [
             [
              0,
              "#0d0887"
             ],
             [
              0.1111111111111111,
              "#46039f"
             ],
             [
              0.2222222222222222,
              "#7201a8"
             ],
             [
              0.3333333333333333,
              "#9c179e"
             ],
             [
              0.4444444444444444,
              "#bd3786"
             ],
             [
              0.5555555555555556,
              "#d8576b"
             ],
             [
              0.6666666666666666,
              "#ed7953"
             ],
             [
              0.7777777777777778,
              "#fb9f3a"
             ],
             [
              0.8888888888888888,
              "#fdca26"
             ],
             [
              1,
              "#f0f921"
             ]
            ],
            "type": "histogram2d"
           }
          ],
          "histogram2dcontour": [
           {
            "colorbar": {
             "outlinewidth": 0,
             "ticks": ""
            },
            "colorscale": [
             [
              0,
              "#0d0887"
             ],
             [
              0.1111111111111111,
              "#46039f"
             ],
             [
              0.2222222222222222,
              "#7201a8"
             ],
             [
              0.3333333333333333,
              "#9c179e"
             ],
             [
              0.4444444444444444,
              "#bd3786"
             ],
             [
              0.5555555555555556,
              "#d8576b"
             ],
             [
              0.6666666666666666,
              "#ed7953"
             ],
             [
              0.7777777777777778,
              "#fb9f3a"
             ],
             [
              0.8888888888888888,
              "#fdca26"
             ],
             [
              1,
              "#f0f921"
             ]
            ],
            "type": "histogram2dcontour"
           }
          ],
          "mesh3d": [
           {
            "colorbar": {
             "outlinewidth": 0,
             "ticks": ""
            },
            "type": "mesh3d"
           }
          ],
          "parcoords": [
           {
            "line": {
             "colorbar": {
              "outlinewidth": 0,
              "ticks": ""
             }
            },
            "type": "parcoords"
           }
          ],
          "pie": [
           {
            "automargin": true,
            "type": "pie"
           }
          ],
          "scatter": [
           {
            "marker": {
             "colorbar": {
              "outlinewidth": 0,
              "ticks": ""
             }
            },
            "type": "scatter"
           }
          ],
          "scatter3d": [
           {
            "line": {
             "colorbar": {
              "outlinewidth": 0,
              "ticks": ""
             }
            },
            "marker": {
             "colorbar": {
              "outlinewidth": 0,
              "ticks": ""
             }
            },
            "type": "scatter3d"
           }
          ],
          "scattercarpet": [
           {
            "marker": {
             "colorbar": {
              "outlinewidth": 0,
              "ticks": ""
             }
            },
            "type": "scattercarpet"
           }
          ],
          "scattergeo": [
           {
            "marker": {
             "colorbar": {
              "outlinewidth": 0,
              "ticks": ""
             }
            },
            "type": "scattergeo"
           }
          ],
          "scattergl": [
           {
            "marker": {
             "colorbar": {
              "outlinewidth": 0,
              "ticks": ""
             }
            },
            "type": "scattergl"
           }
          ],
          "scattermapbox": [
           {
            "marker": {
             "colorbar": {
              "outlinewidth": 0,
              "ticks": ""
             }
            },
            "type": "scattermapbox"
           }
          ],
          "scatterpolar": [
           {
            "marker": {
             "colorbar": {
              "outlinewidth": 0,
              "ticks": ""
             }
            },
            "type": "scatterpolar"
           }
          ],
          "scatterpolargl": [
           {
            "marker": {
             "colorbar": {
              "outlinewidth": 0,
              "ticks": ""
             }
            },
            "type": "scatterpolargl"
           }
          ],
          "scatterternary": [
           {
            "marker": {
             "colorbar": {
              "outlinewidth": 0,
              "ticks": ""
             }
            },
            "type": "scatterternary"
           }
          ],
          "surface": [
           {
            "colorbar": {
             "outlinewidth": 0,
             "ticks": ""
            },
            "colorscale": [
             [
              0,
              "#0d0887"
             ],
             [
              0.1111111111111111,
              "#46039f"
             ],
             [
              0.2222222222222222,
              "#7201a8"
             ],
             [
              0.3333333333333333,
              "#9c179e"
             ],
             [
              0.4444444444444444,
              "#bd3786"
             ],
             [
              0.5555555555555556,
              "#d8576b"
             ],
             [
              0.6666666666666666,
              "#ed7953"
             ],
             [
              0.7777777777777778,
              "#fb9f3a"
             ],
             [
              0.8888888888888888,
              "#fdca26"
             ],
             [
              1,
              "#f0f921"
             ]
            ],
            "type": "surface"
           }
          ],
          "table": [
           {
            "cells": {
             "fill": {
              "color": "#EBF0F8"
             },
             "line": {
              "color": "white"
             }
            },
            "header": {
             "fill": {
              "color": "#C8D4E3"
             },
             "line": {
              "color": "white"
             }
            },
            "type": "table"
           }
          ]
         },
         "layout": {
          "annotationdefaults": {
           "arrowcolor": "#2a3f5f",
           "arrowhead": 0,
           "arrowwidth": 1
          },
          "coloraxis": {
           "colorbar": {
            "outlinewidth": 0,
            "ticks": ""
           }
          },
          "colorscale": {
           "diverging": [
            [
             0,
             "#8e0152"
            ],
            [
             0.1,
             "#c51b7d"
            ],
            [
             0.2,
             "#de77ae"
            ],
            [
             0.3,
             "#f1b6da"
            ],
            [
             0.4,
             "#fde0ef"
            ],
            [
             0.5,
             "#f7f7f7"
            ],
            [
             0.6,
             "#e6f5d0"
            ],
            [
             0.7,
             "#b8e186"
            ],
            [
             0.8,
             "#7fbc41"
            ],
            [
             0.9,
             "#4d9221"
            ],
            [
             1,
             "#276419"
            ]
           ],
           "sequential": [
            [
             0,
             "#0d0887"
            ],
            [
             0.1111111111111111,
             "#46039f"
            ],
            [
             0.2222222222222222,
             "#7201a8"
            ],
            [
             0.3333333333333333,
             "#9c179e"
            ],
            [
             0.4444444444444444,
             "#bd3786"
            ],
            [
             0.5555555555555556,
             "#d8576b"
            ],
            [
             0.6666666666666666,
             "#ed7953"
            ],
            [
             0.7777777777777778,
             "#fb9f3a"
            ],
            [
             0.8888888888888888,
             "#fdca26"
            ],
            [
             1,
             "#f0f921"
            ]
           ],
           "sequentialminus": [
            [
             0,
             "#0d0887"
            ],
            [
             0.1111111111111111,
             "#46039f"
            ],
            [
             0.2222222222222222,
             "#7201a8"
            ],
            [
             0.3333333333333333,
             "#9c179e"
            ],
            [
             0.4444444444444444,
             "#bd3786"
            ],
            [
             0.5555555555555556,
             "#d8576b"
            ],
            [
             0.6666666666666666,
             "#ed7953"
            ],
            [
             0.7777777777777778,
             "#fb9f3a"
            ],
            [
             0.8888888888888888,
             "#fdca26"
            ],
            [
             1,
             "#f0f921"
            ]
           ]
          },
          "colorway": [
           "#636efa",
           "#EF553B",
           "#00cc96",
           "#ab63fa",
           "#FFA15A",
           "#19d3f3",
           "#FF6692",
           "#B6E880",
           "#FF97FF",
           "#FECB52"
          ],
          "font": {
           "color": "#2a3f5f"
          },
          "geo": {
           "bgcolor": "white",
           "lakecolor": "white",
           "landcolor": "#E5ECF6",
           "showlakes": true,
           "showland": true,
           "subunitcolor": "white"
          },
          "hoverlabel": {
           "align": "left"
          },
          "hovermode": "closest",
          "mapbox": {
           "style": "light"
          },
          "paper_bgcolor": "white",
          "plot_bgcolor": "#E5ECF6",
          "polar": {
           "angularaxis": {
            "gridcolor": "white",
            "linecolor": "white",
            "ticks": ""
           },
           "bgcolor": "#E5ECF6",
           "radialaxis": {
            "gridcolor": "white",
            "linecolor": "white",
            "ticks": ""
           }
          },
          "scene": {
           "xaxis": {
            "backgroundcolor": "#E5ECF6",
            "gridcolor": "white",
            "gridwidth": 2,
            "linecolor": "white",
            "showbackground": true,
            "ticks": "",
            "zerolinecolor": "white"
           },
           "yaxis": {
            "backgroundcolor": "#E5ECF6",
            "gridcolor": "white",
            "gridwidth": 2,
            "linecolor": "white",
            "showbackground": true,
            "ticks": "",
            "zerolinecolor": "white"
           },
           "zaxis": {
            "backgroundcolor": "#E5ECF6",
            "gridcolor": "white",
            "gridwidth": 2,
            "linecolor": "white",
            "showbackground": true,
            "ticks": "",
            "zerolinecolor": "white"
           }
          },
          "shapedefaults": {
           "line": {
            "color": "#2a3f5f"
           }
          },
          "ternary": {
           "aaxis": {
            "gridcolor": "white",
            "linecolor": "white",
            "ticks": ""
           },
           "baxis": {
            "gridcolor": "white",
            "linecolor": "white",
            "ticks": ""
           },
           "bgcolor": "#E5ECF6",
           "caxis": {
            "gridcolor": "white",
            "linecolor": "white",
            "ticks": ""
           }
          },
          "title": {
           "x": 0.05
          },
          "xaxis": {
           "automargin": true,
           "gridcolor": "white",
           "linecolor": "white",
           "ticks": "",
           "title": {
            "standoff": 15
           },
           "zerolinecolor": "white",
           "zerolinewidth": 2
          },
          "yaxis": {
           "automargin": true,
           "gridcolor": "white",
           "linecolor": "white",
           "ticks": "",
           "title": {
            "standoff": 15
           },
           "zerolinecolor": "white",
           "zerolinewidth": 2
          }
         }
        },
        "title": {
         "text": "Types of investment funding with %"
        }
       }
      },
      "text/html": [
       "<div>\n",
       "        \n",
       "        \n",
       "            <div id=\"7dbae866-df92-4750-8da3-fa7b24963e20\" class=\"plotly-graph-div\" style=\"height:525px; width:100%;\"></div>\n",
       "            <script type=\"text/javascript\">\n",
       "                require([\"plotly\"], function(Plotly) {\n",
       "                    window.PLOTLYENV=window.PLOTLYENV || {};\n",
       "                    \n",
       "                if (document.getElementById(\"7dbae866-df92-4750-8da3-fa7b24963e20\")) {\n",
       "                    Plotly.newPlot(\n",
       "                        '7dbae866-df92-4750-8da3-fa7b24963e20',\n",
       "                        [{\"hoverinfo\": \"label+percent\", \"labels\": [\"Private Equity\", \"Seed Funding\", \"Seed\", \"Seed/ Angel Funding\", \"Series A\", \"Private Equity Round\", \"Series B\", \"Seed / Angel Funding\", \"Series C\", \"Debt and Preference capital\", \"Structured Debt\", \"Funding Round\", \"Series C1\", \"Venture Series\", \"Angel Round\", \"Seed Round\", \"Angel\", \"Series D\"], \"type\": \"pie\", \"values\": [32.8125, 20.3125, 9.375, 7.8125, 4.6875, 3.125, 3.125, 3.125, 1.5625, 1.5625, 1.5625, 1.5625, 1.5625, 1.5625, 1.5625, 1.5625, 1.5625, 1.5625]}],\n",
       "                        {\"template\": {\"data\": {\"bar\": [{\"error_x\": {\"color\": \"#2a3f5f\"}, \"error_y\": {\"color\": \"#2a3f5f\"}, \"marker\": {\"line\": {\"color\": \"#E5ECF6\", \"width\": 0.5}}, \"type\": \"bar\"}], \"barpolar\": [{\"marker\": {\"line\": {\"color\": \"#E5ECF6\", \"width\": 0.5}}, \"type\": \"barpolar\"}], \"carpet\": [{\"aaxis\": {\"endlinecolor\": \"#2a3f5f\", \"gridcolor\": \"white\", \"linecolor\": \"white\", \"minorgridcolor\": \"white\", \"startlinecolor\": \"#2a3f5f\"}, \"baxis\": {\"endlinecolor\": \"#2a3f5f\", \"gridcolor\": \"white\", \"linecolor\": \"white\", \"minorgridcolor\": \"white\", \"startlinecolor\": \"#2a3f5f\"}, \"type\": \"carpet\"}], \"choropleth\": [{\"colorbar\": {\"outlinewidth\": 0, \"ticks\": \"\"}, \"type\": \"choropleth\"}], \"contour\": [{\"colorbar\": {\"outlinewidth\": 0, \"ticks\": \"\"}, \"colorscale\": [[0.0, \"#0d0887\"], [0.1111111111111111, \"#46039f\"], [0.2222222222222222, \"#7201a8\"], [0.3333333333333333, \"#9c179e\"], [0.4444444444444444, \"#bd3786\"], [0.5555555555555556, \"#d8576b\"], [0.6666666666666666, \"#ed7953\"], [0.7777777777777778, \"#fb9f3a\"], [0.8888888888888888, \"#fdca26\"], [1.0, \"#f0f921\"]], \"type\": \"contour\"}], \"contourcarpet\": [{\"colorbar\": {\"outlinewidth\": 0, \"ticks\": \"\"}, \"type\": \"contourcarpet\"}], \"heatmap\": [{\"colorbar\": {\"outlinewidth\": 0, \"ticks\": \"\"}, \"colorscale\": [[0.0, \"#0d0887\"], [0.1111111111111111, \"#46039f\"], [0.2222222222222222, \"#7201a8\"], [0.3333333333333333, \"#9c179e\"], [0.4444444444444444, \"#bd3786\"], [0.5555555555555556, \"#d8576b\"], [0.6666666666666666, \"#ed7953\"], [0.7777777777777778, \"#fb9f3a\"], [0.8888888888888888, \"#fdca26\"], [1.0, \"#f0f921\"]], \"type\": \"heatmap\"}], \"heatmapgl\": [{\"colorbar\": {\"outlinewidth\": 0, \"ticks\": \"\"}, \"colorscale\": [[0.0, \"#0d0887\"], [0.1111111111111111, \"#46039f\"], [0.2222222222222222, \"#7201a8\"], [0.3333333333333333, \"#9c179e\"], [0.4444444444444444, \"#bd3786\"], [0.5555555555555556, \"#d8576b\"], [0.6666666666666666, \"#ed7953\"], [0.7777777777777778, \"#fb9f3a\"], [0.8888888888888888, \"#fdca26\"], [1.0, \"#f0f921\"]], \"type\": \"heatmapgl\"}], \"histogram\": [{\"marker\": {\"colorbar\": {\"outlinewidth\": 0, \"ticks\": \"\"}}, \"type\": \"histogram\"}], \"histogram2d\": [{\"colorbar\": {\"outlinewidth\": 0, \"ticks\": \"\"}, \"colorscale\": [[0.0, \"#0d0887\"], [0.1111111111111111, \"#46039f\"], [0.2222222222222222, \"#7201a8\"], [0.3333333333333333, \"#9c179e\"], [0.4444444444444444, \"#bd3786\"], [0.5555555555555556, \"#d8576b\"], [0.6666666666666666, \"#ed7953\"], [0.7777777777777778, \"#fb9f3a\"], [0.8888888888888888, \"#fdca26\"], [1.0, \"#f0f921\"]], \"type\": \"histogram2d\"}], \"histogram2dcontour\": [{\"colorbar\": {\"outlinewidth\": 0, \"ticks\": \"\"}, \"colorscale\": [[0.0, \"#0d0887\"], [0.1111111111111111, \"#46039f\"], [0.2222222222222222, \"#7201a8\"], [0.3333333333333333, \"#9c179e\"], [0.4444444444444444, \"#bd3786\"], [0.5555555555555556, \"#d8576b\"], [0.6666666666666666, \"#ed7953\"], [0.7777777777777778, \"#fb9f3a\"], [0.8888888888888888, \"#fdca26\"], [1.0, \"#f0f921\"]], \"type\": \"histogram2dcontour\"}], \"mesh3d\": [{\"colorbar\": {\"outlinewidth\": 0, \"ticks\": \"\"}, \"type\": \"mesh3d\"}], \"parcoords\": [{\"line\": {\"colorbar\": {\"outlinewidth\": 0, \"ticks\": \"\"}}, \"type\": \"parcoords\"}], \"pie\": [{\"automargin\": true, \"type\": \"pie\"}], \"scatter\": [{\"marker\": {\"colorbar\": {\"outlinewidth\": 0, \"ticks\": \"\"}}, \"type\": \"scatter\"}], \"scatter3d\": [{\"line\": {\"colorbar\": {\"outlinewidth\": 0, \"ticks\": \"\"}}, \"marker\": {\"colorbar\": {\"outlinewidth\": 0, \"ticks\": \"\"}}, \"type\": \"scatter3d\"}], \"scattercarpet\": [{\"marker\": {\"colorbar\": {\"outlinewidth\": 0, \"ticks\": \"\"}}, \"type\": \"scattercarpet\"}], \"scattergeo\": [{\"marker\": {\"colorbar\": {\"outlinewidth\": 0, \"ticks\": \"\"}}, \"type\": \"scattergeo\"}], \"scattergl\": [{\"marker\": {\"colorbar\": {\"outlinewidth\": 0, \"ticks\": \"\"}}, \"type\": \"scattergl\"}], \"scattermapbox\": [{\"marker\": {\"colorbar\": {\"outlinewidth\": 0, \"ticks\": \"\"}}, \"type\": \"scattermapbox\"}], \"scatterpolar\": [{\"marker\": {\"colorbar\": {\"outlinewidth\": 0, \"ticks\": \"\"}}, \"type\": \"scatterpolar\"}], \"scatterpolargl\": [{\"marker\": {\"colorbar\": {\"outlinewidth\": 0, \"ticks\": \"\"}}, \"type\": \"scatterpolargl\"}], \"scatterternary\": [{\"marker\": {\"colorbar\": {\"outlinewidth\": 0, \"ticks\": \"\"}}, \"type\": \"scatterternary\"}], \"surface\": [{\"colorbar\": {\"outlinewidth\": 0, \"ticks\": \"\"}, \"colorscale\": [[0.0, \"#0d0887\"], [0.1111111111111111, \"#46039f\"], [0.2222222222222222, \"#7201a8\"], [0.3333333333333333, \"#9c179e\"], [0.4444444444444444, \"#bd3786\"], [0.5555555555555556, \"#d8576b\"], [0.6666666666666666, \"#ed7953\"], [0.7777777777777778, \"#fb9f3a\"], [0.8888888888888888, \"#fdca26\"], [1.0, \"#f0f921\"]], \"type\": \"surface\"}], \"table\": [{\"cells\": {\"fill\": {\"color\": \"#EBF0F8\"}, \"line\": {\"color\": \"white\"}}, \"header\": {\"fill\": {\"color\": \"#C8D4E3\"}, \"line\": {\"color\": \"white\"}}, \"type\": \"table\"}]}, \"layout\": {\"annotationdefaults\": {\"arrowcolor\": \"#2a3f5f\", \"arrowhead\": 0, \"arrowwidth\": 1}, \"coloraxis\": {\"colorbar\": {\"outlinewidth\": 0, \"ticks\": \"\"}}, \"colorscale\": {\"diverging\": [[0, \"#8e0152\"], [0.1, \"#c51b7d\"], [0.2, \"#de77ae\"], [0.3, \"#f1b6da\"], [0.4, \"#fde0ef\"], [0.5, \"#f7f7f7\"], [0.6, \"#e6f5d0\"], [0.7, \"#b8e186\"], [0.8, \"#7fbc41\"], [0.9, \"#4d9221\"], [1, \"#276419\"]], \"sequential\": [[0.0, \"#0d0887\"], [0.1111111111111111, \"#46039f\"], [0.2222222222222222, \"#7201a8\"], [0.3333333333333333, \"#9c179e\"], [0.4444444444444444, \"#bd3786\"], [0.5555555555555556, \"#d8576b\"], [0.6666666666666666, \"#ed7953\"], [0.7777777777777778, \"#fb9f3a\"], [0.8888888888888888, \"#fdca26\"], [1.0, \"#f0f921\"]], \"sequentialminus\": [[0.0, \"#0d0887\"], [0.1111111111111111, \"#46039f\"], [0.2222222222222222, \"#7201a8\"], [0.3333333333333333, \"#9c179e\"], [0.4444444444444444, \"#bd3786\"], [0.5555555555555556, \"#d8576b\"], [0.6666666666666666, \"#ed7953\"], [0.7777777777777778, \"#fb9f3a\"], [0.8888888888888888, \"#fdca26\"], [1.0, \"#f0f921\"]]}, \"colorway\": [\"#636efa\", \"#EF553B\", \"#00cc96\", \"#ab63fa\", \"#FFA15A\", \"#19d3f3\", \"#FF6692\", \"#B6E880\", \"#FF97FF\", \"#FECB52\"], \"font\": {\"color\": \"#2a3f5f\"}, \"geo\": {\"bgcolor\": \"white\", \"lakecolor\": \"white\", \"landcolor\": \"#E5ECF6\", \"showlakes\": true, \"showland\": true, \"subunitcolor\": \"white\"}, \"hoverlabel\": {\"align\": \"left\"}, \"hovermode\": \"closest\", \"mapbox\": {\"style\": \"light\"}, \"paper_bgcolor\": \"white\", \"plot_bgcolor\": \"#E5ECF6\", \"polar\": {\"angularaxis\": {\"gridcolor\": \"white\", \"linecolor\": \"white\", \"ticks\": \"\"}, \"bgcolor\": \"#E5ECF6\", \"radialaxis\": {\"gridcolor\": \"white\", \"linecolor\": \"white\", \"ticks\": \"\"}}, \"scene\": {\"xaxis\": {\"backgroundcolor\": \"#E5ECF6\", \"gridcolor\": \"white\", \"gridwidth\": 2, \"linecolor\": \"white\", \"showbackground\": true, \"ticks\": \"\", \"zerolinecolor\": \"white\"}, \"yaxis\": {\"backgroundcolor\": \"#E5ECF6\", \"gridcolor\": \"white\", \"gridwidth\": 2, \"linecolor\": \"white\", \"showbackground\": true, \"ticks\": \"\", \"zerolinecolor\": \"white\"}, \"zaxis\": {\"backgroundcolor\": \"#E5ECF6\", \"gridcolor\": \"white\", \"gridwidth\": 2, \"linecolor\": \"white\", \"showbackground\": true, \"ticks\": \"\", \"zerolinecolor\": \"white\"}}, \"shapedefaults\": {\"line\": {\"color\": \"#2a3f5f\"}}, \"ternary\": {\"aaxis\": {\"gridcolor\": \"white\", \"linecolor\": \"white\", \"ticks\": \"\"}, \"baxis\": {\"gridcolor\": \"white\", \"linecolor\": \"white\", \"ticks\": \"\"}, \"bgcolor\": \"#E5ECF6\", \"caxis\": {\"gridcolor\": \"white\", \"linecolor\": \"white\", \"ticks\": \"\"}}, \"title\": {\"x\": 0.05}, \"xaxis\": {\"automargin\": true, \"gridcolor\": \"white\", \"linecolor\": \"white\", \"ticks\": \"\", \"title\": {\"standoff\": 15}, \"zerolinecolor\": \"white\", \"zerolinewidth\": 2}, \"yaxis\": {\"automargin\": true, \"gridcolor\": \"white\", \"linecolor\": \"white\", \"ticks\": \"\", \"title\": {\"standoff\": 15}, \"zerolinecolor\": \"white\", \"zerolinewidth\": 2}}}, \"title\": {\"text\": \"Types of investment funding with %\"}},\n",
       "                        {\"responsive\": true}\n",
       "                    ).then(function(){\n",
       "                            \n",
       "var gd = document.getElementById('7dbae866-df92-4750-8da3-fa7b24963e20');\n",
       "var x = new MutationObserver(function (mutations, observer) {{\n",
       "        var display = window.getComputedStyle(gd).display;\n",
       "        if (!display || display === 'none') {{\n",
       "            console.log([gd, 'removed!']);\n",
       "            Plotly.purge(gd);\n",
       "            observer.disconnect();\n",
       "        }}\n",
       "}});\n",
       "\n",
       "// Listen for the removal of the full notebook cells\n",
       "var notebookContainer = gd.closest('#notebook-container');\n",
       "if (notebookContainer) {{\n",
       "    x.observe(notebookContainer, {childList: true});\n",
       "}}\n",
       "\n",
       "// Listen for the clearing of the current output cell\n",
       "var outputEl = gd.closest('.output');\n",
       "if (outputEl) {{\n",
       "    x.observe(outputEl, {childList: true});\n",
       "}}\n",
       "\n",
       "                        })\n",
       "                };\n",
       "                });\n",
       "            </script>\n",
       "        </div>"
      ]
     },
     "metadata": {},
     "output_type": "display_data"
    }
   ],
   "source": [
    "temp = df1[\"Type\"].value_counts()\n",
    "labels = temp.index\n",
    "sizes = (temp / temp.sum())*100\n",
    "trace = go.Pie(labels=labels, values=sizes, hoverinfo='label+percent')\n",
    "layout = go.Layout(title='Types of investment funding with %')\n",
    "data = [trace]\n",
    "fig = go.Figure(data=data, layout=layout)\n",
    "py.iplot(fig, filename=\"BorrowerGender\")"
   ]
  },
  {
   "cell_type": "code",
   "execution_count": 977,
   "metadata": {},
   "outputs": [
    {
     "data": {
      "application/vnd.plotly.v1+json": {
       "config": {
        "linkText": "Export to plot.ly",
        "plotlyServerURL": "https://plot.ly",
        "showLink": false
       },
       "data": [
        {
         "hoverinfo": "label+percent",
         "labels": [
          "Seed",
          "Series A",
          "Series B",
          "Series D",
          "Series C1",
          "Venture Series",
          "Angel",
          "Private Equity Round",
          "Series C"
         ],
         "type": "pie",
         "values": [
          28.57142857142857,
          14.285714285714285,
          14.285714285714285,
          7.142857142857142,
          7.142857142857142,
          7.142857142857142,
          7.142857142857142,
          7.142857142857142,
          7.142857142857142
         ]
        }
       ],
       "layout": {
        "template": {
         "data": {
          "bar": [
           {
            "error_x": {
             "color": "#2a3f5f"
            },
            "error_y": {
             "color": "#2a3f5f"
            },
            "marker": {
             "line": {
              "color": "#E5ECF6",
              "width": 0.5
             }
            },
            "type": "bar"
           }
          ],
          "barpolar": [
           {
            "marker": {
             "line": {
              "color": "#E5ECF6",
              "width": 0.5
             }
            },
            "type": "barpolar"
           }
          ],
          "carpet": [
           {
            "aaxis": {
             "endlinecolor": "#2a3f5f",
             "gridcolor": "white",
             "linecolor": "white",
             "minorgridcolor": "white",
             "startlinecolor": "#2a3f5f"
            },
            "baxis": {
             "endlinecolor": "#2a3f5f",
             "gridcolor": "white",
             "linecolor": "white",
             "minorgridcolor": "white",
             "startlinecolor": "#2a3f5f"
            },
            "type": "carpet"
           }
          ],
          "choropleth": [
           {
            "colorbar": {
             "outlinewidth": 0,
             "ticks": ""
            },
            "type": "choropleth"
           }
          ],
          "contour": [
           {
            "colorbar": {
             "outlinewidth": 0,
             "ticks": ""
            },
            "colorscale": [
             [
              0,
              "#0d0887"
             ],
             [
              0.1111111111111111,
              "#46039f"
             ],
             [
              0.2222222222222222,
              "#7201a8"
             ],
             [
              0.3333333333333333,
              "#9c179e"
             ],
             [
              0.4444444444444444,
              "#bd3786"
             ],
             [
              0.5555555555555556,
              "#d8576b"
             ],
             [
              0.6666666666666666,
              "#ed7953"
             ],
             [
              0.7777777777777778,
              "#fb9f3a"
             ],
             [
              0.8888888888888888,
              "#fdca26"
             ],
             [
              1,
              "#f0f921"
             ]
            ],
            "type": "contour"
           }
          ],
          "contourcarpet": [
           {
            "colorbar": {
             "outlinewidth": 0,
             "ticks": ""
            },
            "type": "contourcarpet"
           }
          ],
          "heatmap": [
           {
            "colorbar": {
             "outlinewidth": 0,
             "ticks": ""
            },
            "colorscale": [
             [
              0,
              "#0d0887"
             ],
             [
              0.1111111111111111,
              "#46039f"
             ],
             [
              0.2222222222222222,
              "#7201a8"
             ],
             [
              0.3333333333333333,
              "#9c179e"
             ],
             [
              0.4444444444444444,
              "#bd3786"
             ],
             [
              0.5555555555555556,
              "#d8576b"
             ],
             [
              0.6666666666666666,
              "#ed7953"
             ],
             [
              0.7777777777777778,
              "#fb9f3a"
             ],
             [
              0.8888888888888888,
              "#fdca26"
             ],
             [
              1,
              "#f0f921"
             ]
            ],
            "type": "heatmap"
           }
          ],
          "heatmapgl": [
           {
            "colorbar": {
             "outlinewidth": 0,
             "ticks": ""
            },
            "colorscale": [
             [
              0,
              "#0d0887"
             ],
             [
              0.1111111111111111,
              "#46039f"
             ],
             [
              0.2222222222222222,
              "#7201a8"
             ],
             [
              0.3333333333333333,
              "#9c179e"
             ],
             [
              0.4444444444444444,
              "#bd3786"
             ],
             [
              0.5555555555555556,
              "#d8576b"
             ],
             [
              0.6666666666666666,
              "#ed7953"
             ],
             [
              0.7777777777777778,
              "#fb9f3a"
             ],
             [
              0.8888888888888888,
              "#fdca26"
             ],
             [
              1,
              "#f0f921"
             ]
            ],
            "type": "heatmapgl"
           }
          ],
          "histogram": [
           {
            "marker": {
             "colorbar": {
              "outlinewidth": 0,
              "ticks": ""
             }
            },
            "type": "histogram"
           }
          ],
          "histogram2d": [
           {
            "colorbar": {
             "outlinewidth": 0,
             "ticks": ""
            },
            "colorscale": [
             [
              0,
              "#0d0887"
             ],
             [
              0.1111111111111111,
              "#46039f"
             ],
             [
              0.2222222222222222,
              "#7201a8"
             ],
             [
              0.3333333333333333,
              "#9c179e"
             ],
             [
              0.4444444444444444,
              "#bd3786"
             ],
             [
              0.5555555555555556,
              "#d8576b"
             ],
             [
              0.6666666666666666,
              "#ed7953"
             ],
             [
              0.7777777777777778,
              "#fb9f3a"
             ],
             [
              0.8888888888888888,
              "#fdca26"
             ],
             [
              1,
              "#f0f921"
             ]
            ],
            "type": "histogram2d"
           }
          ],
          "histogram2dcontour": [
           {
            "colorbar": {
             "outlinewidth": 0,
             "ticks": ""
            },
            "colorscale": [
             [
              0,
              "#0d0887"
             ],
             [
              0.1111111111111111,
              "#46039f"
             ],
             [
              0.2222222222222222,
              "#7201a8"
             ],
             [
              0.3333333333333333,
              "#9c179e"
             ],
             [
              0.4444444444444444,
              "#bd3786"
             ],
             [
              0.5555555555555556,
              "#d8576b"
             ],
             [
              0.6666666666666666,
              "#ed7953"
             ],
             [
              0.7777777777777778,
              "#fb9f3a"
             ],
             [
              0.8888888888888888,
              "#fdca26"
             ],
             [
              1,
              "#f0f921"
             ]
            ],
            "type": "histogram2dcontour"
           }
          ],
          "mesh3d": [
           {
            "colorbar": {
             "outlinewidth": 0,
             "ticks": ""
            },
            "type": "mesh3d"
           }
          ],
          "parcoords": [
           {
            "line": {
             "colorbar": {
              "outlinewidth": 0,
              "ticks": ""
             }
            },
            "type": "parcoords"
           }
          ],
          "pie": [
           {
            "automargin": true,
            "type": "pie"
           }
          ],
          "scatter": [
           {
            "marker": {
             "colorbar": {
              "outlinewidth": 0,
              "ticks": ""
             }
            },
            "type": "scatter"
           }
          ],
          "scatter3d": [
           {
            "line": {
             "colorbar": {
              "outlinewidth": 0,
              "ticks": ""
             }
            },
            "marker": {
             "colorbar": {
              "outlinewidth": 0,
              "ticks": ""
             }
            },
            "type": "scatter3d"
           }
          ],
          "scattercarpet": [
           {
            "marker": {
             "colorbar": {
              "outlinewidth": 0,
              "ticks": ""
             }
            },
            "type": "scattercarpet"
           }
          ],
          "scattergeo": [
           {
            "marker": {
             "colorbar": {
              "outlinewidth": 0,
              "ticks": ""
             }
            },
            "type": "scattergeo"
           }
          ],
          "scattergl": [
           {
            "marker": {
             "colorbar": {
              "outlinewidth": 0,
              "ticks": ""
             }
            },
            "type": "scattergl"
           }
          ],
          "scattermapbox": [
           {
            "marker": {
             "colorbar": {
              "outlinewidth": 0,
              "ticks": ""
             }
            },
            "type": "scattermapbox"
           }
          ],
          "scatterpolar": [
           {
            "marker": {
             "colorbar": {
              "outlinewidth": 0,
              "ticks": ""
             }
            },
            "type": "scatterpolar"
           }
          ],
          "scatterpolargl": [
           {
            "marker": {
             "colorbar": {
              "outlinewidth": 0,
              "ticks": ""
             }
            },
            "type": "scatterpolargl"
           }
          ],
          "scatterternary": [
           {
            "marker": {
             "colorbar": {
              "outlinewidth": 0,
              "ticks": ""
             }
            },
            "type": "scatterternary"
           }
          ],
          "surface": [
           {
            "colorbar": {
             "outlinewidth": 0,
             "ticks": ""
            },
            "colorscale": [
             [
              0,
              "#0d0887"
             ],
             [
              0.1111111111111111,
              "#46039f"
             ],
             [
              0.2222222222222222,
              "#7201a8"
             ],
             [
              0.3333333333333333,
              "#9c179e"
             ],
             [
              0.4444444444444444,
              "#bd3786"
             ],
             [
              0.5555555555555556,
              "#d8576b"
             ],
             [
              0.6666666666666666,
              "#ed7953"
             ],
             [
              0.7777777777777778,
              "#fb9f3a"
             ],
             [
              0.8888888888888888,
              "#fdca26"
             ],
             [
              1,
              "#f0f921"
             ]
            ],
            "type": "surface"
           }
          ],
          "table": [
           {
            "cells": {
             "fill": {
              "color": "#EBF0F8"
             },
             "line": {
              "color": "white"
             }
            },
            "header": {
             "fill": {
              "color": "#C8D4E3"
             },
             "line": {
              "color": "white"
             }
            },
            "type": "table"
           }
          ]
         },
         "layout": {
          "annotationdefaults": {
           "arrowcolor": "#2a3f5f",
           "arrowhead": 0,
           "arrowwidth": 1
          },
          "coloraxis": {
           "colorbar": {
            "outlinewidth": 0,
            "ticks": ""
           }
          },
          "colorscale": {
           "diverging": [
            [
             0,
             "#8e0152"
            ],
            [
             0.1,
             "#c51b7d"
            ],
            [
             0.2,
             "#de77ae"
            ],
            [
             0.3,
             "#f1b6da"
            ],
            [
             0.4,
             "#fde0ef"
            ],
            [
             0.5,
             "#f7f7f7"
            ],
            [
             0.6,
             "#e6f5d0"
            ],
            [
             0.7,
             "#b8e186"
            ],
            [
             0.8,
             "#7fbc41"
            ],
            [
             0.9,
             "#4d9221"
            ],
            [
             1,
             "#276419"
            ]
           ],
           "sequential": [
            [
             0,
             "#0d0887"
            ],
            [
             0.1111111111111111,
             "#46039f"
            ],
            [
             0.2222222222222222,
             "#7201a8"
            ],
            [
             0.3333333333333333,
             "#9c179e"
            ],
            [
             0.4444444444444444,
             "#bd3786"
            ],
            [
             0.5555555555555556,
             "#d8576b"
            ],
            [
             0.6666666666666666,
             "#ed7953"
            ],
            [
             0.7777777777777778,
             "#fb9f3a"
            ],
            [
             0.8888888888888888,
             "#fdca26"
            ],
            [
             1,
             "#f0f921"
            ]
           ],
           "sequentialminus": [
            [
             0,
             "#0d0887"
            ],
            [
             0.1111111111111111,
             "#46039f"
            ],
            [
             0.2222222222222222,
             "#7201a8"
            ],
            [
             0.3333333333333333,
             "#9c179e"
            ],
            [
             0.4444444444444444,
             "#bd3786"
            ],
            [
             0.5555555555555556,
             "#d8576b"
            ],
            [
             0.6666666666666666,
             "#ed7953"
            ],
            [
             0.7777777777777778,
             "#fb9f3a"
            ],
            [
             0.8888888888888888,
             "#fdca26"
            ],
            [
             1,
             "#f0f921"
            ]
           ]
          },
          "colorway": [
           "#636efa",
           "#EF553B",
           "#00cc96",
           "#ab63fa",
           "#FFA15A",
           "#19d3f3",
           "#FF6692",
           "#B6E880",
           "#FF97FF",
           "#FECB52"
          ],
          "font": {
           "color": "#2a3f5f"
          },
          "geo": {
           "bgcolor": "white",
           "lakecolor": "white",
           "landcolor": "#E5ECF6",
           "showlakes": true,
           "showland": true,
           "subunitcolor": "white"
          },
          "hoverlabel": {
           "align": "left"
          },
          "hovermode": "closest",
          "mapbox": {
           "style": "light"
          },
          "paper_bgcolor": "white",
          "plot_bgcolor": "#E5ECF6",
          "polar": {
           "angularaxis": {
            "gridcolor": "white",
            "linecolor": "white",
            "ticks": ""
           },
           "bgcolor": "#E5ECF6",
           "radialaxis": {
            "gridcolor": "white",
            "linecolor": "white",
            "ticks": ""
           }
          },
          "scene": {
           "xaxis": {
            "backgroundcolor": "#E5ECF6",
            "gridcolor": "white",
            "gridwidth": 2,
            "linecolor": "white",
            "showbackground": true,
            "ticks": "",
            "zerolinecolor": "white"
           },
           "yaxis": {
            "backgroundcolor": "#E5ECF6",
            "gridcolor": "white",
            "gridwidth": 2,
            "linecolor": "white",
            "showbackground": true,
            "ticks": "",
            "zerolinecolor": "white"
           },
           "zaxis": {
            "backgroundcolor": "#E5ECF6",
            "gridcolor": "white",
            "gridwidth": 2,
            "linecolor": "white",
            "showbackground": true,
            "ticks": "",
            "zerolinecolor": "white"
           }
          },
          "shapedefaults": {
           "line": {
            "color": "#2a3f5f"
           }
          },
          "ternary": {
           "aaxis": {
            "gridcolor": "white",
            "linecolor": "white",
            "ticks": ""
           },
           "baxis": {
            "gridcolor": "white",
            "linecolor": "white",
            "ticks": ""
           },
           "bgcolor": "#E5ECF6",
           "caxis": {
            "gridcolor": "white",
            "linecolor": "white",
            "ticks": ""
           }
          },
          "title": {
           "x": 0.05
          },
          "xaxis": {
           "automargin": true,
           "gridcolor": "white",
           "linecolor": "white",
           "ticks": "",
           "title": {
            "standoff": 15
           },
           "zerolinecolor": "white",
           "zerolinewidth": 2
          },
          "yaxis": {
           "automargin": true,
           "gridcolor": "white",
           "linecolor": "white",
           "ticks": "",
           "title": {
            "standoff": 15
           },
           "zerolinecolor": "white",
           "zerolinewidth": 2
          }
         }
        },
        "title": {
         "text": "Types of investment funding with %"
        }
       }
      },
      "text/html": [
       "<div>\n",
       "        \n",
       "        \n",
       "            <div id=\"1983f38e-c1b7-4344-a704-68a29293d11f\" class=\"plotly-graph-div\" style=\"height:525px; width:100%;\"></div>\n",
       "            <script type=\"text/javascript\">\n",
       "                require([\"plotly\"], function(Plotly) {\n",
       "                    window.PLOTLYENV=window.PLOTLYENV || {};\n",
       "                    \n",
       "                if (document.getElementById(\"1983f38e-c1b7-4344-a704-68a29293d11f\")) {\n",
       "                    Plotly.newPlot(\n",
       "                        '1983f38e-c1b7-4344-a704-68a29293d11f',\n",
       "                        [{\"hoverinfo\": \"label+percent\", \"labels\": [\"Seed\", \"Series A\", \"Series B\", \"Series D\", \"Series C1\", \"Venture Series\", \"Angel\", \"Private Equity Round\", \"Series C\"], \"type\": \"pie\", \"values\": [28.57142857142857, 14.285714285714285, 14.285714285714285, 7.142857142857142, 7.142857142857142, 7.142857142857142, 7.142857142857142, 7.142857142857142, 7.142857142857142]}],\n",
       "                        {\"template\": {\"data\": {\"bar\": [{\"error_x\": {\"color\": \"#2a3f5f\"}, \"error_y\": {\"color\": \"#2a3f5f\"}, \"marker\": {\"line\": {\"color\": \"#E5ECF6\", \"width\": 0.5}}, \"type\": \"bar\"}], \"barpolar\": [{\"marker\": {\"line\": {\"color\": \"#E5ECF6\", \"width\": 0.5}}, \"type\": \"barpolar\"}], \"carpet\": [{\"aaxis\": {\"endlinecolor\": \"#2a3f5f\", \"gridcolor\": \"white\", \"linecolor\": \"white\", \"minorgridcolor\": \"white\", \"startlinecolor\": \"#2a3f5f\"}, \"baxis\": {\"endlinecolor\": \"#2a3f5f\", \"gridcolor\": \"white\", \"linecolor\": \"white\", \"minorgridcolor\": \"white\", \"startlinecolor\": \"#2a3f5f\"}, \"type\": \"carpet\"}], \"choropleth\": [{\"colorbar\": {\"outlinewidth\": 0, \"ticks\": \"\"}, \"type\": \"choropleth\"}], \"contour\": [{\"colorbar\": {\"outlinewidth\": 0, \"ticks\": \"\"}, \"colorscale\": [[0.0, \"#0d0887\"], [0.1111111111111111, \"#46039f\"], [0.2222222222222222, \"#7201a8\"], [0.3333333333333333, \"#9c179e\"], [0.4444444444444444, \"#bd3786\"], [0.5555555555555556, \"#d8576b\"], [0.6666666666666666, \"#ed7953\"], [0.7777777777777778, \"#fb9f3a\"], [0.8888888888888888, \"#fdca26\"], [1.0, \"#f0f921\"]], \"type\": \"contour\"}], \"contourcarpet\": [{\"colorbar\": {\"outlinewidth\": 0, \"ticks\": \"\"}, \"type\": \"contourcarpet\"}], \"heatmap\": [{\"colorbar\": {\"outlinewidth\": 0, \"ticks\": \"\"}, \"colorscale\": [[0.0, \"#0d0887\"], [0.1111111111111111, \"#46039f\"], [0.2222222222222222, \"#7201a8\"], [0.3333333333333333, \"#9c179e\"], [0.4444444444444444, \"#bd3786\"], [0.5555555555555556, \"#d8576b\"], [0.6666666666666666, \"#ed7953\"], [0.7777777777777778, \"#fb9f3a\"], [0.8888888888888888, \"#fdca26\"], [1.0, \"#f0f921\"]], \"type\": \"heatmap\"}], \"heatmapgl\": [{\"colorbar\": {\"outlinewidth\": 0, \"ticks\": \"\"}, \"colorscale\": [[0.0, \"#0d0887\"], [0.1111111111111111, \"#46039f\"], [0.2222222222222222, \"#7201a8\"], [0.3333333333333333, \"#9c179e\"], [0.4444444444444444, \"#bd3786\"], [0.5555555555555556, \"#d8576b\"], [0.6666666666666666, \"#ed7953\"], [0.7777777777777778, \"#fb9f3a\"], [0.8888888888888888, \"#fdca26\"], [1.0, \"#f0f921\"]], \"type\": \"heatmapgl\"}], \"histogram\": [{\"marker\": {\"colorbar\": {\"outlinewidth\": 0, \"ticks\": \"\"}}, \"type\": \"histogram\"}], \"histogram2d\": [{\"colorbar\": {\"outlinewidth\": 0, \"ticks\": \"\"}, \"colorscale\": [[0.0, \"#0d0887\"], [0.1111111111111111, \"#46039f\"], [0.2222222222222222, \"#7201a8\"], [0.3333333333333333, \"#9c179e\"], [0.4444444444444444, \"#bd3786\"], [0.5555555555555556, \"#d8576b\"], [0.6666666666666666, \"#ed7953\"], [0.7777777777777778, \"#fb9f3a\"], [0.8888888888888888, \"#fdca26\"], [1.0, \"#f0f921\"]], \"type\": \"histogram2d\"}], \"histogram2dcontour\": [{\"colorbar\": {\"outlinewidth\": 0, \"ticks\": \"\"}, \"colorscale\": [[0.0, \"#0d0887\"], [0.1111111111111111, \"#46039f\"], [0.2222222222222222, \"#7201a8\"], [0.3333333333333333, \"#9c179e\"], [0.4444444444444444, \"#bd3786\"], [0.5555555555555556, \"#d8576b\"], [0.6666666666666666, \"#ed7953\"], [0.7777777777777778, \"#fb9f3a\"], [0.8888888888888888, \"#fdca26\"], [1.0, \"#f0f921\"]], \"type\": \"histogram2dcontour\"}], \"mesh3d\": [{\"colorbar\": {\"outlinewidth\": 0, \"ticks\": \"\"}, \"type\": \"mesh3d\"}], \"parcoords\": [{\"line\": {\"colorbar\": {\"outlinewidth\": 0, \"ticks\": \"\"}}, \"type\": \"parcoords\"}], \"pie\": [{\"automargin\": true, \"type\": \"pie\"}], \"scatter\": [{\"marker\": {\"colorbar\": {\"outlinewidth\": 0, \"ticks\": \"\"}}, \"type\": \"scatter\"}], \"scatter3d\": [{\"line\": {\"colorbar\": {\"outlinewidth\": 0, \"ticks\": \"\"}}, \"marker\": {\"colorbar\": {\"outlinewidth\": 0, \"ticks\": \"\"}}, \"type\": \"scatter3d\"}], \"scattercarpet\": [{\"marker\": {\"colorbar\": {\"outlinewidth\": 0, \"ticks\": \"\"}}, \"type\": \"scattercarpet\"}], \"scattergeo\": [{\"marker\": {\"colorbar\": {\"outlinewidth\": 0, \"ticks\": \"\"}}, \"type\": \"scattergeo\"}], \"scattergl\": [{\"marker\": {\"colorbar\": {\"outlinewidth\": 0, \"ticks\": \"\"}}, \"type\": \"scattergl\"}], \"scattermapbox\": [{\"marker\": {\"colorbar\": {\"outlinewidth\": 0, \"ticks\": \"\"}}, \"type\": \"scattermapbox\"}], \"scatterpolar\": [{\"marker\": {\"colorbar\": {\"outlinewidth\": 0, \"ticks\": \"\"}}, \"type\": \"scatterpolar\"}], \"scatterpolargl\": [{\"marker\": {\"colorbar\": {\"outlinewidth\": 0, \"ticks\": \"\"}}, \"type\": \"scatterpolargl\"}], \"scatterternary\": [{\"marker\": {\"colorbar\": {\"outlinewidth\": 0, \"ticks\": \"\"}}, \"type\": \"scatterternary\"}], \"surface\": [{\"colorbar\": {\"outlinewidth\": 0, \"ticks\": \"\"}, \"colorscale\": [[0.0, \"#0d0887\"], [0.1111111111111111, \"#46039f\"], [0.2222222222222222, \"#7201a8\"], [0.3333333333333333, \"#9c179e\"], [0.4444444444444444, \"#bd3786\"], [0.5555555555555556, \"#d8576b\"], [0.6666666666666666, \"#ed7953\"], [0.7777777777777778, \"#fb9f3a\"], [0.8888888888888888, \"#fdca26\"], [1.0, \"#f0f921\"]], \"type\": \"surface\"}], \"table\": [{\"cells\": {\"fill\": {\"color\": \"#EBF0F8\"}, \"line\": {\"color\": \"white\"}}, \"header\": {\"fill\": {\"color\": \"#C8D4E3\"}, \"line\": {\"color\": \"white\"}}, \"type\": \"table\"}]}, \"layout\": {\"annotationdefaults\": {\"arrowcolor\": \"#2a3f5f\", \"arrowhead\": 0, \"arrowwidth\": 1}, \"coloraxis\": {\"colorbar\": {\"outlinewidth\": 0, \"ticks\": \"\"}}, \"colorscale\": {\"diverging\": [[0, \"#8e0152\"], [0.1, \"#c51b7d\"], [0.2, \"#de77ae\"], [0.3, \"#f1b6da\"], [0.4, \"#fde0ef\"], [0.5, \"#f7f7f7\"], [0.6, \"#e6f5d0\"], [0.7, \"#b8e186\"], [0.8, \"#7fbc41\"], [0.9, \"#4d9221\"], [1, \"#276419\"]], \"sequential\": [[0.0, \"#0d0887\"], [0.1111111111111111, \"#46039f\"], [0.2222222222222222, \"#7201a8\"], [0.3333333333333333, \"#9c179e\"], [0.4444444444444444, \"#bd3786\"], [0.5555555555555556, \"#d8576b\"], [0.6666666666666666, \"#ed7953\"], [0.7777777777777778, \"#fb9f3a\"], [0.8888888888888888, \"#fdca26\"], [1.0, \"#f0f921\"]], \"sequentialminus\": [[0.0, \"#0d0887\"], [0.1111111111111111, \"#46039f\"], [0.2222222222222222, \"#7201a8\"], [0.3333333333333333, \"#9c179e\"], [0.4444444444444444, \"#bd3786\"], [0.5555555555555556, \"#d8576b\"], [0.6666666666666666, \"#ed7953\"], [0.7777777777777778, \"#fb9f3a\"], [0.8888888888888888, \"#fdca26\"], [1.0, \"#f0f921\"]]}, \"colorway\": [\"#636efa\", \"#EF553B\", \"#00cc96\", \"#ab63fa\", \"#FFA15A\", \"#19d3f3\", \"#FF6692\", \"#B6E880\", \"#FF97FF\", \"#FECB52\"], \"font\": {\"color\": \"#2a3f5f\"}, \"geo\": {\"bgcolor\": \"white\", \"lakecolor\": \"white\", \"landcolor\": \"#E5ECF6\", \"showlakes\": true, \"showland\": true, \"subunitcolor\": \"white\"}, \"hoverlabel\": {\"align\": \"left\"}, \"hovermode\": \"closest\", \"mapbox\": {\"style\": \"light\"}, \"paper_bgcolor\": \"white\", \"plot_bgcolor\": \"#E5ECF6\", \"polar\": {\"angularaxis\": {\"gridcolor\": \"white\", \"linecolor\": \"white\", \"ticks\": \"\"}, \"bgcolor\": \"#E5ECF6\", \"radialaxis\": {\"gridcolor\": \"white\", \"linecolor\": \"white\", \"ticks\": \"\"}}, \"scene\": {\"xaxis\": {\"backgroundcolor\": \"#E5ECF6\", \"gridcolor\": \"white\", \"gridwidth\": 2, \"linecolor\": \"white\", \"showbackground\": true, \"ticks\": \"\", \"zerolinecolor\": \"white\"}, \"yaxis\": {\"backgroundcolor\": \"#E5ECF6\", \"gridcolor\": \"white\", \"gridwidth\": 2, \"linecolor\": \"white\", \"showbackground\": true, \"ticks\": \"\", \"zerolinecolor\": \"white\"}, \"zaxis\": {\"backgroundcolor\": \"#E5ECF6\", \"gridcolor\": \"white\", \"gridwidth\": 2, \"linecolor\": \"white\", \"showbackground\": true, \"ticks\": \"\", \"zerolinecolor\": \"white\"}}, \"shapedefaults\": {\"line\": {\"color\": \"#2a3f5f\"}}, \"ternary\": {\"aaxis\": {\"gridcolor\": \"white\", \"linecolor\": \"white\", \"ticks\": \"\"}, \"baxis\": {\"gridcolor\": \"white\", \"linecolor\": \"white\", \"ticks\": \"\"}, \"bgcolor\": \"#E5ECF6\", \"caxis\": {\"gridcolor\": \"white\", \"linecolor\": \"white\", \"ticks\": \"\"}}, \"title\": {\"x\": 0.05}, \"xaxis\": {\"automargin\": true, \"gridcolor\": \"white\", \"linecolor\": \"white\", \"ticks\": \"\", \"title\": {\"standoff\": 15}, \"zerolinecolor\": \"white\", \"zerolinewidth\": 2}, \"yaxis\": {\"automargin\": true, \"gridcolor\": \"white\", \"linecolor\": \"white\", \"ticks\": \"\", \"title\": {\"standoff\": 15}, \"zerolinecolor\": \"white\", \"zerolinewidth\": 2}}}, \"title\": {\"text\": \"Types of investment funding with %\"}},\n",
       "                        {\"responsive\": true}\n",
       "                    ).then(function(){\n",
       "                            \n",
       "var gd = document.getElementById('1983f38e-c1b7-4344-a704-68a29293d11f');\n",
       "var x = new MutationObserver(function (mutations, observer) {{\n",
       "        var display = window.getComputedStyle(gd).display;\n",
       "        if (!display || display === 'none') {{\n",
       "            console.log([gd, 'removed!']);\n",
       "            Plotly.purge(gd);\n",
       "            observer.disconnect();\n",
       "        }}\n",
       "}});\n",
       "\n",
       "// Listen for the removal of the full notebook cells\n",
       "var notebookContainer = gd.closest('#notebook-container');\n",
       "if (notebookContainer) {{\n",
       "    x.observe(notebookContainer, {childList: true});\n",
       "}}\n",
       "\n",
       "// Listen for the clearing of the current output cell\n",
       "var outputEl = gd.closest('.output');\n",
       "if (outputEl) {{\n",
       "    x.observe(outputEl, {childList: true});\n",
       "}}\n",
       "\n",
       "                        })\n",
       "                };\n",
       "                });\n",
       "            </script>\n",
       "        </div>"
      ]
     },
     "metadata": {},
     "output_type": "display_data"
    }
   ],
   "source": [
    "df2=df1[df1['Year']=='2020']\n",
    "temp = df2[\"Type\"].value_counts()\n",
    "labels = temp.index\n",
    "sizes = (temp / temp.sum())*100\n",
    "trace = go.Pie(labels=labels, values=sizes, hoverinfo='label+percent')\n",
    "layout = go.Layout(title='Types of investment funding with %')\n",
    "data = [trace]\n",
    "fig = go.Figure(data=data, layout=layout)\n",
    "py.iplot(fig, filename=\"BorrowerGender\")"
   ]
  }
 ],
 "metadata": {
  "kernelspec": {
   "display_name": "py37_default",
   "language": "python",
   "name": "conda-env-py37_default-py"
  },
  "language_info": {
   "codemirror_mode": {
    "name": "ipython",
    "version": 3
   },
   "file_extension": ".py",
   "mimetype": "text/x-python",
   "name": "python",
   "nbconvert_exporter": "python",
   "pygments_lexer": "ipython3",
   "version": "3.7.6"
  }
 },
 "nbformat": 4,
 "nbformat_minor": 4
}
